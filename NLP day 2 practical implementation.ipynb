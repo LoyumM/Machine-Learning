{
 "cells": [
  {
   "cell_type": "code",
   "execution_count": 36,
   "metadata": {},
   "outputs": [],
   "source": [
    "paragraph = \"\"\"\n",
    "A black hole is a region of spacetime where gravity is so strong that nothing, including light or other electromagnetic waves, has enough energy to escape its event horizon.[2] The theory of general relativity predicts that a sufficiently compact mass can deform spacetime to form a black hole.[3][4] The boundary of no escape is called the event horizon. Although it has a great effect on the fate and circumstances of an object crossing it, it has no locally detectable features according to general relativity.[5] In many ways, a black hole acts like an ideal black body, as it reflects no light.[6][7] Moreover, quantum field theory in curved spacetime predicts that event horizons emit Hawking radiation, with the same spectrum as a black body of a temperature inversely proportional to its mass. This temperature is of the order of billionths of a kelvin for stellar black holes, making it essentially impossible to observe directly.\n",
    "\"\"\""
   ]
  },
  {
   "cell_type": "code",
   "execution_count": 37,
   "metadata": {},
   "outputs": [
    {
     "data": {
      "text/plain": [
       "'\\nA black hole is a region of spacetime where gravity is so strong that nothing, including light or other electromagnetic waves, has enough energy to escape its event horizon.[2] The theory of general relativity predicts that a sufficiently compact mass can deform spacetime to form a black hole.[3][4] The boundary of no escape is called the event horizon. Although it has a great effect on the fate and circumstances of an object crossing it, it has no locally detectable features according to general relativity.[5] In many ways, a black hole acts like an ideal black body, as it reflects no light.[6][7] Moreover, quantum field theory in curved spacetime predicts that event horizons emit Hawking radiation, with the same spectrum as a black body of a temperature inversely proportional to its mass. This temperature is of the order of billionths of a kelvin for stellar black holes, making it essentially impossible to observe directly.\\n'"
      ]
     },
     "execution_count": 37,
     "metadata": {},
     "output_type": "execute_result"
    }
   ],
   "source": [
    "paragraph"
   ]
  },
  {
   "cell_type": "code",
   "execution_count": 38,
   "metadata": {},
   "outputs": [],
   "source": [
    "import nltk\n",
    "from nltk.stem import PorterStemmer\n",
    "from nltk.corpus import stopwords"
   ]
  },
  {
   "cell_type": "code",
   "execution_count": 39,
   "metadata": {},
   "outputs": [
    {
     "name": "stderr",
     "output_type": "stream",
     "text": [
      "[nltk_data] Downloading package punkt to\n",
      "[nltk_data]     C:\\Users\\lmbmo\\AppData\\Roaming\\nltk_data...\n",
      "[nltk_data]   Package punkt is already up-to-date!\n"
     ]
    }
   ],
   "source": [
    "## tokenization - converts paragraphs into sentence words\n",
    "nltk.download('punkt')\n",
    "sentences = nltk.sent_tokenize(paragraph)"
   ]
  },
  {
   "cell_type": "code",
   "execution_count": 40,
   "metadata": {},
   "outputs": [
    {
     "name": "stdout",
     "output_type": "stream",
     "text": [
      "['\\nA black hole is a region of spacetime where gravity is so strong that nothing, including light or other electromagnetic waves, has enough energy to escape its event horizon.', '[2] The theory of general relativity predicts that a sufficiently compact mass can deform spacetime to form a black hole.', '[3][4] The boundary of no escape is called the event horizon.', 'Although it has a great effect on the fate and circumstances of an object crossing it, it has no locally detectable features according to general relativity.', '[5] In many ways, a black hole acts like an ideal black body, as it reflects no light.', '[6][7] Moreover, quantum field theory in curved spacetime predicts that event horizons emit Hawking radiation, with the same spectrum as a black body of a temperature inversely proportional to its mass.', 'This temperature is of the order of billionths of a kelvin for stellar black holes, making it essentially impossible to observe directly.']\n"
     ]
    }
   ],
   "source": [
    "print(sentences)"
   ]
  },
  {
   "cell_type": "code",
   "execution_count": 41,
   "metadata": {},
   "outputs": [
    {
     "data": {
      "text/plain": [
       "list"
      ]
     },
     "execution_count": 41,
     "metadata": {},
     "output_type": "execute_result"
    }
   ],
   "source": [
    "type(sentences)"
   ]
  },
  {
   "cell_type": "code",
   "execution_count": 42,
   "metadata": {},
   "outputs": [
    {
     "name": "stdout",
     "output_type": "stream",
     "text": [
      "\n",
      "A black hole is a region of spacetime where gravity is so strong that nothing, including light or other electromagnetic waves, has enough energy to escape its event horizon.\n",
      "[2] The theory of general relativity predicts that a sufficiently compact mass can deform spacetime to form a black hole.\n",
      "[3][4] The boundary of no escape is called the event horizon.\n",
      "Although it has a great effect on the fate and circumstances of an object crossing it, it has no locally detectable features according to general relativity.\n",
      "[5] In many ways, a black hole acts like an ideal black body, as it reflects no light.\n",
      "[6][7] Moreover, quantum field theory in curved spacetime predicts that event horizons emit Hawking radiation, with the same spectrum as a black body of a temperature inversely proportional to its mass.\n",
      "This temperature is of the order of billionths of a kelvin for stellar black holes, making it essentially impossible to observe directly.\n"
     ]
    }
   ],
   "source": [
    "print(*(sentences), sep=\"\\n\")"
   ]
  },
  {
   "cell_type": "code",
   "execution_count": 43,
   "metadata": {},
   "outputs": [],
   "source": [
    "stemmer = PorterStemmer()"
   ]
  },
  {
   "cell_type": "code",
   "execution_count": 44,
   "metadata": {},
   "outputs": [
    {
     "data": {
      "text/plain": [
       "'final'"
      ]
     },
     "execution_count": 44,
     "metadata": {},
     "output_type": "execute_result"
    }
   ],
   "source": [
    "stemmer.stem(\"finalization\")"
   ]
  },
  {
   "cell_type": "code",
   "execution_count": 45,
   "metadata": {},
   "outputs": [
    {
     "data": {
      "text/plain": [
       "'histori'"
      ]
     },
     "execution_count": 45,
     "metadata": {},
     "output_type": "execute_result"
    }
   ],
   "source": [
    "stemmer.stem(\"history\")"
   ]
  },
  {
   "cell_type": "code",
   "execution_count": 46,
   "metadata": {},
   "outputs": [],
   "source": [
    "from nltk.stem import WordNetLemmatizer"
   ]
  },
  {
   "cell_type": "code",
   "execution_count": 47,
   "metadata": {},
   "outputs": [
    {
     "name": "stderr",
     "output_type": "stream",
     "text": [
      "[nltk_data] Downloading package wordnet to\n",
      "[nltk_data]     C:\\Users\\lmbmo\\AppData\\Roaming\\nltk_data...\n",
      "[nltk_data]   Package wordnet is already up-to-date!\n"
     ]
    },
    {
     "data": {
      "text/plain": [
       "True"
      ]
     },
     "execution_count": 47,
     "metadata": {},
     "output_type": "execute_result"
    }
   ],
   "source": [
    "nltk.download('wordnet')"
   ]
  },
  {
   "cell_type": "code",
   "execution_count": 48,
   "metadata": {},
   "outputs": [],
   "source": [
    "lemmatizer = WordNetLemmatizer()"
   ]
  },
  {
   "cell_type": "code",
   "execution_count": 49,
   "metadata": {},
   "outputs": [
    {
     "data": {
      "text/plain": [
       "'history'"
      ]
     },
     "execution_count": 49,
     "metadata": {},
     "output_type": "execute_result"
    }
   ],
   "source": [
    "lemmatizer.lemmatize('history')"
   ]
  },
  {
   "cell_type": "code",
   "execution_count": 50,
   "metadata": {},
   "outputs": [
    {
     "data": {
      "text/plain": [
       "'finalization'"
      ]
     },
     "execution_count": 50,
     "metadata": {},
     "output_type": "execute_result"
    }
   ],
   "source": [
    "lemmatizer.lemmatize('finalization')"
   ]
  },
  {
   "cell_type": "code",
   "execution_count": 51,
   "metadata": {},
   "outputs": [
    {
     "data": {
      "text/plain": [
       "7"
      ]
     },
     "execution_count": 51,
     "metadata": {},
     "output_type": "execute_result"
    }
   ],
   "source": [
    "len(sentences)"
   ]
  },
  {
   "cell_type": "code",
   "execution_count": 52,
   "metadata": {},
   "outputs": [],
   "source": [
    "import re\n",
    "corpus=[]\n",
    "for i in range(len(sentences)):\n",
    "    review = re.sub('[^a-zA-Z]',' ', sentences[i])\n",
    "    reviwe = review.lower().split()\n",
    "    corpus.append(review)"
   ]
  },
  {
   "cell_type": "code",
   "execution_count": 53,
   "metadata": {},
   "outputs": [
    {
     "name": "stdout",
     "output_type": "stream",
     "text": [
      " A black hole is a region of spacetime where gravity is so strong that nothing  including light or other electromagnetic waves  has enough energy to escape its event horizon \n",
      "    The theory of general relativity predicts that a sufficiently compact mass can deform spacetime to form a black hole \n",
      "       The boundary of no escape is called the event horizon \n",
      "Although it has a great effect on the fate and circumstances of an object crossing it  it has no locally detectable features according to general relativity \n",
      "    In many ways  a black hole acts like an ideal black body  as it reflects no light \n",
      "       Moreover  quantum field theory in curved spacetime predicts that event horizons emit Hawking radiation  with the same spectrum as a black body of a temperature inversely proportional to its mass \n",
      "This temperature is of the order of billionths of a kelvin for stellar black holes  making it essentially impossible to observe directly \n"
     ]
    }
   ],
   "source": [
    "print(*(corpus), sep=\"\\n\")"
   ]
  },
  {
   "cell_type": "code",
   "execution_count": null,
   "metadata": {},
   "outputs": [],
   "source": [
    "## stemming \n",
    "\n",
    "# for i in corpus:\n",
    "#     for word in i:\n",
    "#         stemmer.stem(word)\n",
    "        \n",
    "# print(*(corpus), sep=\"\\n\")"
   ]
  },
  {
   "cell_type": "code",
   "execution_count": 55,
   "metadata": {},
   "outputs": [
    {
     "name": "stderr",
     "output_type": "stream",
     "text": [
      "[nltk_data] Downloading package stopwords to\n",
      "[nltk_data]     C:\\Users\\lmbmo\\AppData\\Roaming\\nltk_data...\n",
      "[nltk_data]   Unzipping corpora\\stopwords.zip.\n"
     ]
    },
    {
     "data": {
      "text/plain": [
       "True"
      ]
     },
     "execution_count": 55,
     "metadata": {},
     "output_type": "execute_result"
    }
   ],
   "source": [
    "nltk.download('stopwords')"
   ]
  },
  {
   "cell_type": "code",
   "execution_count": 56,
   "metadata": {},
   "outputs": [
    {
     "name": "stdout",
     "output_type": "stream",
     "text": [
      "a\n",
      "black\n",
      "hole\n",
      "region\n",
      "spacetim\n",
      "graviti\n",
      "strong\n",
      "noth\n",
      "includ\n",
      "light\n",
      "electromagnet\n",
      "wave\n",
      "enough\n",
      "energi\n",
      "escap\n",
      "event\n",
      "horizon\n",
      "the\n",
      "theori\n",
      "gener\n",
      "rel\n",
      "predict\n",
      "suffici\n",
      "compact\n",
      "mass\n",
      "deform\n",
      "spacetim\n",
      "form\n",
      "black\n",
      "hole\n",
      "the\n",
      "boundari\n",
      "escap\n",
      "call\n",
      "event\n",
      "horizon\n",
      "although\n",
      "great\n",
      "effect\n",
      "fate\n",
      "circumst\n",
      "object\n",
      "cross\n",
      "local\n",
      "detect\n",
      "featur\n",
      "accord\n",
      "gener\n",
      "rel\n",
      "in\n",
      "mani\n",
      "way\n",
      "black\n",
      "hole\n",
      "act\n",
      "like\n",
      "ideal\n",
      "black\n",
      "bodi\n",
      "reflect\n",
      "light\n",
      "moreov\n",
      "quantum\n",
      "field\n",
      "theori\n",
      "curv\n",
      "spacetim\n",
      "predict\n",
      "event\n",
      "horizon\n",
      "emit\n",
      "hawk\n",
      "radiat\n",
      "spectrum\n",
      "black\n",
      "bodi\n",
      "temperatur\n",
      "invers\n",
      "proport\n",
      "mass\n",
      "thi\n",
      "temperatur\n",
      "order\n",
      "billionth\n",
      "kelvin\n",
      "stellar\n",
      "black\n",
      "hole\n",
      "make\n",
      "essenti\n",
      "imposs\n",
      "observ\n",
      "directli\n"
     ]
    }
   ],
   "source": [
    "## stemming \n",
    "for i in corpus:\n",
    "    words=nltk.word_tokenize(i)\n",
    "    for word in words:\n",
    "        if word not in set(stopwords.words('english')):# if words are not included in the english stopwords, stem themstop\n",
    "            print(stemmer.stem(word))"
   ]
  },
  {
   "cell_type": "code",
   "execution_count": 57,
   "metadata": {},
   "outputs": [
    {
     "data": {
      "text/plain": [
       "['i',\n",
       " 'me',\n",
       " 'my',\n",
       " 'myself',\n",
       " 'we',\n",
       " 'our',\n",
       " 'ours',\n",
       " 'ourselves',\n",
       " 'you',\n",
       " \"you're\",\n",
       " \"you've\",\n",
       " \"you'll\",\n",
       " \"you'd\",\n",
       " 'your',\n",
       " 'yours',\n",
       " 'yourself',\n",
       " 'yourselves',\n",
       " 'he',\n",
       " 'him',\n",
       " 'his',\n",
       " 'himself',\n",
       " 'she',\n",
       " \"she's\",\n",
       " 'her',\n",
       " 'hers',\n",
       " 'herself',\n",
       " 'it',\n",
       " \"it's\",\n",
       " 'its',\n",
       " 'itself',\n",
       " 'they',\n",
       " 'them',\n",
       " 'their',\n",
       " 'theirs',\n",
       " 'themselves',\n",
       " 'what',\n",
       " 'which',\n",
       " 'who',\n",
       " 'whom',\n",
       " 'this',\n",
       " 'that',\n",
       " \"that'll\",\n",
       " 'these',\n",
       " 'those',\n",
       " 'am',\n",
       " 'is',\n",
       " 'are',\n",
       " 'was',\n",
       " 'were',\n",
       " 'be',\n",
       " 'been',\n",
       " 'being',\n",
       " 'have',\n",
       " 'has',\n",
       " 'had',\n",
       " 'having',\n",
       " 'do',\n",
       " 'does',\n",
       " 'did',\n",
       " 'doing',\n",
       " 'a',\n",
       " 'an',\n",
       " 'the',\n",
       " 'and',\n",
       " 'but',\n",
       " 'if',\n",
       " 'or',\n",
       " 'because',\n",
       " 'as',\n",
       " 'until',\n",
       " 'while',\n",
       " 'of',\n",
       " 'at',\n",
       " 'by',\n",
       " 'for',\n",
       " 'with',\n",
       " 'about',\n",
       " 'against',\n",
       " 'between',\n",
       " 'into',\n",
       " 'through',\n",
       " 'during',\n",
       " 'before',\n",
       " 'after',\n",
       " 'above',\n",
       " 'below',\n",
       " 'to',\n",
       " 'from',\n",
       " 'up',\n",
       " 'down',\n",
       " 'in',\n",
       " 'out',\n",
       " 'on',\n",
       " 'off',\n",
       " 'over',\n",
       " 'under',\n",
       " 'again',\n",
       " 'further',\n",
       " 'then',\n",
       " 'once',\n",
       " 'here',\n",
       " 'there',\n",
       " 'when',\n",
       " 'where',\n",
       " 'why',\n",
       " 'how',\n",
       " 'all',\n",
       " 'any',\n",
       " 'both',\n",
       " 'each',\n",
       " 'few',\n",
       " 'more',\n",
       " 'most',\n",
       " 'other',\n",
       " 'some',\n",
       " 'such',\n",
       " 'no',\n",
       " 'nor',\n",
       " 'not',\n",
       " 'only',\n",
       " 'own',\n",
       " 'same',\n",
       " 'so',\n",
       " 'than',\n",
       " 'too',\n",
       " 'very',\n",
       " 's',\n",
       " 't',\n",
       " 'can',\n",
       " 'will',\n",
       " 'just',\n",
       " 'don',\n",
       " \"don't\",\n",
       " 'should',\n",
       " \"should've\",\n",
       " 'now',\n",
       " 'd',\n",
       " 'll',\n",
       " 'm',\n",
       " 'o',\n",
       " 're',\n",
       " 've',\n",
       " 'y',\n",
       " 'ain',\n",
       " 'aren',\n",
       " \"aren't\",\n",
       " 'couldn',\n",
       " \"couldn't\",\n",
       " 'didn',\n",
       " \"didn't\",\n",
       " 'doesn',\n",
       " \"doesn't\",\n",
       " 'hadn',\n",
       " \"hadn't\",\n",
       " 'hasn',\n",
       " \"hasn't\",\n",
       " 'haven',\n",
       " \"haven't\",\n",
       " 'isn',\n",
       " \"isn't\",\n",
       " 'ma',\n",
       " 'mightn',\n",
       " \"mightn't\",\n",
       " 'mustn',\n",
       " \"mustn't\",\n",
       " 'needn',\n",
       " \"needn't\",\n",
       " 'shan',\n",
       " \"shan't\",\n",
       " 'shouldn',\n",
       " \"shouldn't\",\n",
       " 'wasn',\n",
       " \"wasn't\",\n",
       " 'weren',\n",
       " \"weren't\",\n",
       " 'won',\n",
       " \"won't\",\n",
       " 'wouldn',\n",
       " \"wouldn't\"]"
      ]
     },
     "execution_count": 57,
     "metadata": {},
     "output_type": "execute_result"
    }
   ],
   "source": [
    "# stopwords in english\n",
    "stopwords.words('english')"
   ]
  },
  {
   "cell_type": "code",
   "execution_count": 58,
   "metadata": {},
   "outputs": [
    {
     "name": "stdout",
     "output_type": "stream",
     "text": [
      "A\n",
      "black\n",
      "hole\n",
      "region\n",
      "spacetime\n",
      "gravity\n",
      "strong\n",
      "nothing\n",
      "including\n",
      "light\n",
      "electromagnetic\n",
      "wave\n",
      "enough\n",
      "energy\n",
      "escape\n",
      "event\n",
      "horizon\n",
      "The\n",
      "theory\n",
      "general\n",
      "relativity\n",
      "predicts\n",
      "sufficiently\n",
      "compact\n",
      "mass\n",
      "deform\n",
      "spacetime\n",
      "form\n",
      "black\n",
      "hole\n",
      "The\n",
      "boundary\n",
      "escape\n",
      "called\n",
      "event\n",
      "horizon\n",
      "Although\n",
      "great\n",
      "effect\n",
      "fate\n",
      "circumstance\n",
      "object\n",
      "crossing\n",
      "locally\n",
      "detectable\n",
      "feature\n",
      "according\n",
      "general\n",
      "relativity\n",
      "In\n",
      "many\n",
      "way\n",
      "black\n",
      "hole\n",
      "act\n",
      "like\n",
      "ideal\n",
      "black\n",
      "body\n",
      "reflects\n",
      "light\n",
      "Moreover\n",
      "quantum\n",
      "field\n",
      "theory\n",
      "curved\n",
      "spacetime\n",
      "predicts\n",
      "event\n",
      "horizon\n",
      "emit\n",
      "Hawking\n",
      "radiation\n",
      "spectrum\n",
      "black\n",
      "body\n",
      "temperature\n",
      "inversely\n",
      "proportional\n",
      "mass\n",
      "This\n",
      "temperature\n",
      "order\n",
      "billionth\n",
      "kelvin\n",
      "stellar\n",
      "black\n",
      "hole\n",
      "making\n",
      "essentially\n",
      "impossible\n",
      "observe\n",
      "directly\n"
     ]
    }
   ],
   "source": [
    "## lemmetization\n",
    "for i in corpus:\n",
    "    words=nltk.word_tokenize(i)\n",
    "    for word in words:\n",
    "        if word not in set(stopwords.words('english')):# if words are not included in the english stopwords, stem themstop\n",
    "            print(lemmatizer.lemmatize(word))"
   ]
  },
  {
   "cell_type": "code",
   "execution_count": 59,
   "metadata": {},
   "outputs": [],
   "source": [
    "from sklearn.feature_extraction.text import CountVectorizer\n",
    "cv = CountVectorizer()"
   ]
  },
  {
   "cell_type": "code",
   "execution_count": 60,
   "metadata": {},
   "outputs": [],
   "source": [
    "X = cv.fit_transform(corpus)"
   ]
  },
  {
   "cell_type": "code",
   "execution_count": 62,
   "metadata": {},
   "outputs": [
    {
     "data": {
      "text/plain": [
       "{'black': 7,\n",
       " 'hole': 37,\n",
       " 'is': 46,\n",
       " 'region': 71,\n",
       " 'of': 61,\n",
       " 'spacetime': 75,\n",
       " 'where': 88,\n",
       " 'gravity': 33,\n",
       " 'so': 74,\n",
       " 'strong': 78,\n",
       " 'that': 81,\n",
       " 'nothing': 58,\n",
       " 'including': 44,\n",
       " 'light': 50,\n",
       " 'or': 63,\n",
       " 'other': 65,\n",
       " 'electromagnetic': 20,\n",
       " 'waves': 86,\n",
       " 'has': 35,\n",
       " 'enough': 23,\n",
       " 'energy': 22,\n",
       " 'to': 85,\n",
       " 'escape': 24,\n",
       " 'its': 48,\n",
       " 'event': 26,\n",
       " 'horizon': 39,\n",
       " 'the': 82,\n",
       " 'theory': 83,\n",
       " 'general': 32,\n",
       " 'relativity': 72,\n",
       " 'predicts': 66,\n",
       " 'sufficiently': 79,\n",
       " 'compact': 13,\n",
       " 'mass': 55,\n",
       " 'can': 11,\n",
       " 'deform': 16,\n",
       " 'form': 31,\n",
       " 'boundary': 9,\n",
       " 'no': 57,\n",
       " 'called': 10,\n",
       " 'although': 2,\n",
       " 'it': 47,\n",
       " 'great': 34,\n",
       " 'effect': 19,\n",
       " 'on': 62,\n",
       " 'fate': 27,\n",
       " 'and': 4,\n",
       " 'circumstances': 12,\n",
       " 'an': 3,\n",
       " 'object': 59,\n",
       " 'crossing': 14,\n",
       " 'locally': 52,\n",
       " 'detectable': 17,\n",
       " 'features': 28,\n",
       " 'according': 0,\n",
       " 'in': 43,\n",
       " 'many': 54,\n",
       " 'ways': 87,\n",
       " 'acts': 1,\n",
       " 'like': 51,\n",
       " 'ideal': 41,\n",
       " 'body': 8,\n",
       " 'as': 5,\n",
       " 'reflects': 70,\n",
       " 'moreover': 56,\n",
       " 'quantum': 68,\n",
       " 'field': 29,\n",
       " 'curved': 15,\n",
       " 'horizons': 40,\n",
       " 'emit': 21,\n",
       " 'hawking': 36,\n",
       " 'radiation': 69,\n",
       " 'with': 89,\n",
       " 'same': 73,\n",
       " 'spectrum': 76,\n",
       " 'temperature': 80,\n",
       " 'inversely': 45,\n",
       " 'proportional': 67,\n",
       " 'this': 84,\n",
       " 'order': 64,\n",
       " 'billionths': 6,\n",
       " 'kelvin': 49,\n",
       " 'for': 30,\n",
       " 'stellar': 77,\n",
       " 'holes': 38,\n",
       " 'making': 53,\n",
       " 'essentially': 25,\n",
       " 'impossible': 42,\n",
       " 'observe': 60,\n",
       " 'directly': 18}"
      ]
     },
     "execution_count": 62,
     "metadata": {},
     "output_type": "execute_result"
    }
   ],
   "source": [
    "cv.vocabulary_"
   ]
  },
  {
   "cell_type": "code",
   "execution_count": 63,
   "metadata": {},
   "outputs": [
    {
     "data": {
      "text/plain": [
       "' A black hole is a region of spacetime where gravity is so strong that nothing  including light or other electromagnetic waves  has enough energy to escape its event horizon '"
      ]
     },
     "execution_count": 63,
     "metadata": {},
     "output_type": "execute_result"
    }
   ],
   "source": [
    "corpus[0]"
   ]
  },
  {
   "cell_type": "code",
   "execution_count": 64,
   "metadata": {},
   "outputs": [
    {
     "data": {
      "text/plain": [
       "array([[0, 0, 0, 0, 0, 0, 0, 1, 0, 0, 0, 0, 0, 0, 0, 0, 0, 0, 0, 0, 1, 0,\n",
       "        1, 1, 1, 0, 1, 0, 0, 0, 0, 0, 0, 1, 0, 1, 0, 1, 0, 1, 0, 0, 0, 0,\n",
       "        1, 0, 2, 0, 1, 0, 1, 0, 0, 0, 0, 0, 0, 0, 1, 0, 0, 1, 0, 1, 0, 1,\n",
       "        0, 0, 0, 0, 0, 1, 0, 0, 1, 1, 0, 0, 1, 0, 0, 1, 0, 0, 0, 1, 1, 0,\n",
       "        1, 0]], dtype=int64)"
      ]
     },
     "execution_count": 64,
     "metadata": {},
     "output_type": "execute_result"
    }
   ],
   "source": [
    "X[0].toarray()"
   ]
  },
  {
   "cell_type": "code",
   "execution_count": null,
   "metadata": {},
   "outputs": [],
   "source": []
  },
  {
   "cell_type": "code",
   "execution_count": null,
   "metadata": {},
   "outputs": [],
   "source": []
  },
  {
   "cell_type": "code",
   "execution_count": null,
   "metadata": {},
   "outputs": [],
   "source": []
  },
  {
   "cell_type": "code",
   "execution_count": null,
   "metadata": {},
   "outputs": [],
   "source": []
  }
 ],
 "metadata": {
  "kernelspec": {
   "display_name": "Python 3",
   "language": "python",
   "name": "python3"
  },
  "language_info": {
   "codemirror_mode": {
    "name": "ipython",
    "version": 3
   },
   "file_extension": ".py",
   "mimetype": "text/x-python",
   "name": "python",
   "nbconvert_exporter": "python",
   "pygments_lexer": "ipython3",
   "version": "3.10.7"
  },
  "orig_nbformat": 4,
  "vscode": {
   "interpreter": {
    "hash": "0e71fac087ff239f97a80677af45088458db37fbf8ef0a2691e8afa292e413fd"
   }
  }
 },
 "nbformat": 4,
 "nbformat_minor": 2
}
