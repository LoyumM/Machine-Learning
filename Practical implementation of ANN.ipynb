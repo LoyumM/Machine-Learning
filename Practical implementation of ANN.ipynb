{
  "cells": [
    {
      "cell_type": "code",
      "execution_count": 53,
      "metadata": {
        "id": "D2IliGyI62B0"
      },
      "outputs": [],
      "source": [
        "import tensorflow as tf"
      ]
    },
    {
      "cell_type": "code",
      "execution_count": 54,
      "metadata": {
        "colab": {
          "base_uri": "https://localhost:8080/"
        },
        "id": "4_fyxUHb7GuH",
        "outputId": "2c8a495d-cff8-49f1-b9c2-fa63165b0043"
      },
      "outputs": [
        {
          "name": "stdout",
          "output_type": "stream",
          "text": [
            "2.11.0\n"
          ]
        }
      ],
      "source": [
        "print(tf.__version__)"
      ]
    },
    {
      "cell_type": "code",
      "execution_count": 55,
      "metadata": {
        "id": "LLvV2K-o7KAp"
      },
      "outputs": [],
      "source": [
        "# Importing the libraries\n",
        "import numpy as np\n",
        "import matplotlib.pyplot as plt\n",
        "import pandas as pd"
      ]
    },
    {
      "cell_type": "code",
      "execution_count": 56,
      "metadata": {},
      "outputs": [],
      "source": [
        "import os \n",
        "path = os.getcwd()\n",
        "path = path + \"\\\\dataset\""
      ]
    },
    {
      "cell_type": "code",
      "execution_count": 57,
      "metadata": {},
      "outputs": [
        {
          "data": {
            "text/html": [
              "<div>\n",
              "<style scoped>\n",
              "    .dataframe tbody tr th:only-of-type {\n",
              "        vertical-align: middle;\n",
              "    }\n",
              "\n",
              "    .dataframe tbody tr th {\n",
              "        vertical-align: top;\n",
              "    }\n",
              "\n",
              "    .dataframe thead th {\n",
              "        text-align: right;\n",
              "    }\n",
              "</style>\n",
              "<table border=\"1\" class=\"dataframe\">\n",
              "  <thead>\n",
              "    <tr style=\"text-align: right;\">\n",
              "      <th></th>\n",
              "      <th>RowNumber</th>\n",
              "      <th>CustomerId</th>\n",
              "      <th>Surname</th>\n",
              "      <th>CreditScore</th>\n",
              "      <th>Geography</th>\n",
              "      <th>Gender</th>\n",
              "      <th>Age</th>\n",
              "      <th>Tenure</th>\n",
              "      <th>Balance</th>\n",
              "      <th>NumOfProducts</th>\n",
              "      <th>HasCrCard</th>\n",
              "      <th>IsActiveMember</th>\n",
              "      <th>EstimatedSalary</th>\n",
              "      <th>Exited</th>\n",
              "    </tr>\n",
              "  </thead>\n",
              "  <tbody>\n",
              "    <tr>\n",
              "      <th>0</th>\n",
              "      <td>1</td>\n",
              "      <td>15634602</td>\n",
              "      <td>Hargrave</td>\n",
              "      <td>619</td>\n",
              "      <td>France</td>\n",
              "      <td>Female</td>\n",
              "      <td>42</td>\n",
              "      <td>2</td>\n",
              "      <td>0.00</td>\n",
              "      <td>1</td>\n",
              "      <td>1</td>\n",
              "      <td>1</td>\n",
              "      <td>101348.88</td>\n",
              "      <td>1</td>\n",
              "    </tr>\n",
              "    <tr>\n",
              "      <th>1</th>\n",
              "      <td>2</td>\n",
              "      <td>15647311</td>\n",
              "      <td>Hill</td>\n",
              "      <td>608</td>\n",
              "      <td>Spain</td>\n",
              "      <td>Female</td>\n",
              "      <td>41</td>\n",
              "      <td>1</td>\n",
              "      <td>83807.86</td>\n",
              "      <td>1</td>\n",
              "      <td>0</td>\n",
              "      <td>1</td>\n",
              "      <td>112542.58</td>\n",
              "      <td>0</td>\n",
              "    </tr>\n",
              "    <tr>\n",
              "      <th>2</th>\n",
              "      <td>3</td>\n",
              "      <td>15619304</td>\n",
              "      <td>Onio</td>\n",
              "      <td>502</td>\n",
              "      <td>France</td>\n",
              "      <td>Female</td>\n",
              "      <td>42</td>\n",
              "      <td>8</td>\n",
              "      <td>159660.80</td>\n",
              "      <td>3</td>\n",
              "      <td>1</td>\n",
              "      <td>0</td>\n",
              "      <td>113931.57</td>\n",
              "      <td>1</td>\n",
              "    </tr>\n",
              "    <tr>\n",
              "      <th>3</th>\n",
              "      <td>4</td>\n",
              "      <td>15701354</td>\n",
              "      <td>Boni</td>\n",
              "      <td>699</td>\n",
              "      <td>France</td>\n",
              "      <td>Female</td>\n",
              "      <td>39</td>\n",
              "      <td>1</td>\n",
              "      <td>0.00</td>\n",
              "      <td>2</td>\n",
              "      <td>0</td>\n",
              "      <td>0</td>\n",
              "      <td>93826.63</td>\n",
              "      <td>0</td>\n",
              "    </tr>\n",
              "    <tr>\n",
              "      <th>4</th>\n",
              "      <td>5</td>\n",
              "      <td>15737888</td>\n",
              "      <td>Mitchell</td>\n",
              "      <td>850</td>\n",
              "      <td>Spain</td>\n",
              "      <td>Female</td>\n",
              "      <td>43</td>\n",
              "      <td>2</td>\n",
              "      <td>125510.82</td>\n",
              "      <td>1</td>\n",
              "      <td>1</td>\n",
              "      <td>1</td>\n",
              "      <td>79084.10</td>\n",
              "      <td>0</td>\n",
              "    </tr>\n",
              "  </tbody>\n",
              "</table>\n",
              "</div>"
            ],
            "text/plain": [
              "   RowNumber  CustomerId   Surname  CreditScore Geography  Gender  Age  \\\n",
              "0          1    15634602  Hargrave          619    France  Female   42   \n",
              "1          2    15647311      Hill          608     Spain  Female   41   \n",
              "2          3    15619304      Onio          502    France  Female   42   \n",
              "3          4    15701354      Boni          699    France  Female   39   \n",
              "4          5    15737888  Mitchell          850     Spain  Female   43   \n",
              "\n",
              "   Tenure    Balance  NumOfProducts  HasCrCard  IsActiveMember  \\\n",
              "0       2       0.00              1          1               1   \n",
              "1       1   83807.86              1          0               1   \n",
              "2       8  159660.80              3          1               0   \n",
              "3       1       0.00              2          0               0   \n",
              "4       2  125510.82              1          1               1   \n",
              "\n",
              "   EstimatedSalary  Exited  \n",
              "0        101348.88       1  \n",
              "1        112542.58       0  \n",
              "2        113931.57       1  \n",
              "3         93826.63       0  \n",
              "4         79084.10       0  "
            ]
          },
          "execution_count": 57,
          "metadata": {},
          "output_type": "execute_result"
        }
      ],
      "source": [
        "# Importing the dataset\n",
        "dataset = pd.read_csv(path+'\\\\Churn_Modelling.csv')\n",
        "\n",
        "dataset.head()"
      ]
    },
    {
      "cell_type": "code",
      "execution_count": 58,
      "metadata": {
        "id": "gHRHobkK7Sxn"
      },
      "outputs": [],
      "source": [
        "## divide into dependent and independent features\n",
        "# removing rownumber, customerid, and surname as they won't provide any value\n",
        "X = dataset.iloc[:, 3:13]\n",
        "y = dataset.iloc[:, 13]"
      ]
    },
    {
      "cell_type": "code",
      "execution_count": 59,
      "metadata": {},
      "outputs": [
        {
          "data": {
            "text/html": [
              "<div>\n",
              "<style scoped>\n",
              "    .dataframe tbody tr th:only-of-type {\n",
              "        vertical-align: middle;\n",
              "    }\n",
              "\n",
              "    .dataframe tbody tr th {\n",
              "        vertical-align: top;\n",
              "    }\n",
              "\n",
              "    .dataframe thead th {\n",
              "        text-align: right;\n",
              "    }\n",
              "</style>\n",
              "<table border=\"1\" class=\"dataframe\">\n",
              "  <thead>\n",
              "    <tr style=\"text-align: right;\">\n",
              "      <th></th>\n",
              "      <th>CreditScore</th>\n",
              "      <th>Geography</th>\n",
              "      <th>Gender</th>\n",
              "      <th>Age</th>\n",
              "      <th>Tenure</th>\n",
              "      <th>Balance</th>\n",
              "      <th>NumOfProducts</th>\n",
              "      <th>HasCrCard</th>\n",
              "      <th>IsActiveMember</th>\n",
              "      <th>EstimatedSalary</th>\n",
              "    </tr>\n",
              "  </thead>\n",
              "  <tbody>\n",
              "    <tr>\n",
              "      <th>0</th>\n",
              "      <td>619</td>\n",
              "      <td>France</td>\n",
              "      <td>Female</td>\n",
              "      <td>42</td>\n",
              "      <td>2</td>\n",
              "      <td>0.00</td>\n",
              "      <td>1</td>\n",
              "      <td>1</td>\n",
              "      <td>1</td>\n",
              "      <td>101348.88</td>\n",
              "    </tr>\n",
              "    <tr>\n",
              "      <th>1</th>\n",
              "      <td>608</td>\n",
              "      <td>Spain</td>\n",
              "      <td>Female</td>\n",
              "      <td>41</td>\n",
              "      <td>1</td>\n",
              "      <td>83807.86</td>\n",
              "      <td>1</td>\n",
              "      <td>0</td>\n",
              "      <td>1</td>\n",
              "      <td>112542.58</td>\n",
              "    </tr>\n",
              "    <tr>\n",
              "      <th>2</th>\n",
              "      <td>502</td>\n",
              "      <td>France</td>\n",
              "      <td>Female</td>\n",
              "      <td>42</td>\n",
              "      <td>8</td>\n",
              "      <td>159660.80</td>\n",
              "      <td>3</td>\n",
              "      <td>1</td>\n",
              "      <td>0</td>\n",
              "      <td>113931.57</td>\n",
              "    </tr>\n",
              "    <tr>\n",
              "      <th>3</th>\n",
              "      <td>699</td>\n",
              "      <td>France</td>\n",
              "      <td>Female</td>\n",
              "      <td>39</td>\n",
              "      <td>1</td>\n",
              "      <td>0.00</td>\n",
              "      <td>2</td>\n",
              "      <td>0</td>\n",
              "      <td>0</td>\n",
              "      <td>93826.63</td>\n",
              "    </tr>\n",
              "    <tr>\n",
              "      <th>4</th>\n",
              "      <td>850</td>\n",
              "      <td>Spain</td>\n",
              "      <td>Female</td>\n",
              "      <td>43</td>\n",
              "      <td>2</td>\n",
              "      <td>125510.82</td>\n",
              "      <td>1</td>\n",
              "      <td>1</td>\n",
              "      <td>1</td>\n",
              "      <td>79084.10</td>\n",
              "    </tr>\n",
              "  </tbody>\n",
              "</table>\n",
              "</div>"
            ],
            "text/plain": [
              "   CreditScore Geography  Gender  Age  Tenure    Balance  NumOfProducts  \\\n",
              "0          619    France  Female   42       2       0.00              1   \n",
              "1          608     Spain  Female   41       1   83807.86              1   \n",
              "2          502    France  Female   42       8  159660.80              3   \n",
              "3          699    France  Female   39       1       0.00              2   \n",
              "4          850     Spain  Female   43       2  125510.82              1   \n",
              "\n",
              "   HasCrCard  IsActiveMember  EstimatedSalary  \n",
              "0          1               1        101348.88  \n",
              "1          0               1        112542.58  \n",
              "2          1               0        113931.57  \n",
              "3          0               0         93826.63  \n",
              "4          1               1         79084.10  "
            ]
          },
          "execution_count": 59,
          "metadata": {},
          "output_type": "execute_result"
        }
      ],
      "source": [
        "X.head()"
      ]
    },
    {
      "cell_type": "code",
      "execution_count": 60,
      "metadata": {},
      "outputs": [
        {
          "data": {
            "text/plain": [
              "0    1\n",
              "1    0\n",
              "2    1\n",
              "3    0\n",
              "4    0\n",
              "Name: Exited, dtype: int64"
            ]
          },
          "execution_count": 60,
          "metadata": {},
          "output_type": "execute_result"
        }
      ],
      "source": [
        "y.head()"
      ]
    },
    {
      "attachments": {},
      "cell_type": "markdown",
      "metadata": {},
      "source": [
        "### Feature engineering"
      ]
    },
    {
      "cell_type": "code",
      "execution_count": 61,
      "metadata": {},
      "outputs": [
        {
          "data": {
            "text/plain": [
              "array(['Female', 'Male'], dtype=object)"
            ]
          },
          "execution_count": 61,
          "metadata": {},
          "output_type": "execute_result"
        }
      ],
      "source": [
        "X.Gender.unique()"
      ]
    },
    {
      "cell_type": "code",
      "execution_count": 62,
      "metadata": {},
      "outputs": [
        {
          "data": {
            "text/plain": [
              "array(['France', 'Spain', 'Germany'], dtype=object)"
            ]
          },
          "execution_count": 62,
          "metadata": {},
          "output_type": "execute_result"
        }
      ],
      "source": [
        "X.Geography.unique()"
      ]
    },
    {
      "cell_type": "code",
      "execution_count": 63,
      "metadata": {
        "id": "T2yS0VL67Ufn"
      },
      "outputs": [],
      "source": [
        "# One heat encoding\n",
        "geography=pd.get_dummies(X[\"Geography\"])\n",
        "gender=pd.get_dummies(X['Gender'])"
      ]
    },
    {
      "cell_type": "code",
      "execution_count": 64,
      "metadata": {},
      "outputs": [
        {
          "data": {
            "text/html": [
              "<div>\n",
              "<style scoped>\n",
              "    .dataframe tbody tr th:only-of-type {\n",
              "        vertical-align: middle;\n",
              "    }\n",
              "\n",
              "    .dataframe tbody tr th {\n",
              "        vertical-align: top;\n",
              "    }\n",
              "\n",
              "    .dataframe thead th {\n",
              "        text-align: right;\n",
              "    }\n",
              "</style>\n",
              "<table border=\"1\" class=\"dataframe\">\n",
              "  <thead>\n",
              "    <tr style=\"text-align: right;\">\n",
              "      <th></th>\n",
              "      <th>CreditScore</th>\n",
              "      <th>Age</th>\n",
              "      <th>Tenure</th>\n",
              "      <th>Balance</th>\n",
              "      <th>NumOfProducts</th>\n",
              "      <th>HasCrCard</th>\n",
              "      <th>IsActiveMember</th>\n",
              "      <th>EstimatedSalary</th>\n",
              "      <th>France</th>\n",
              "      <th>Germany</th>\n",
              "      <th>Spain</th>\n",
              "      <th>Female</th>\n",
              "      <th>Male</th>\n",
              "    </tr>\n",
              "  </thead>\n",
              "  <tbody>\n",
              "    <tr>\n",
              "      <th>0</th>\n",
              "      <td>619</td>\n",
              "      <td>42</td>\n",
              "      <td>2</td>\n",
              "      <td>0.00</td>\n",
              "      <td>1</td>\n",
              "      <td>1</td>\n",
              "      <td>1</td>\n",
              "      <td>101348.88</td>\n",
              "      <td>1</td>\n",
              "      <td>0</td>\n",
              "      <td>0</td>\n",
              "      <td>1</td>\n",
              "      <td>0</td>\n",
              "    </tr>\n",
              "    <tr>\n",
              "      <th>1</th>\n",
              "      <td>608</td>\n",
              "      <td>41</td>\n",
              "      <td>1</td>\n",
              "      <td>83807.86</td>\n",
              "      <td>1</td>\n",
              "      <td>0</td>\n",
              "      <td>1</td>\n",
              "      <td>112542.58</td>\n",
              "      <td>0</td>\n",
              "      <td>0</td>\n",
              "      <td>1</td>\n",
              "      <td>1</td>\n",
              "      <td>0</td>\n",
              "    </tr>\n",
              "    <tr>\n",
              "      <th>2</th>\n",
              "      <td>502</td>\n",
              "      <td>42</td>\n",
              "      <td>8</td>\n",
              "      <td>159660.80</td>\n",
              "      <td>3</td>\n",
              "      <td>1</td>\n",
              "      <td>0</td>\n",
              "      <td>113931.57</td>\n",
              "      <td>1</td>\n",
              "      <td>0</td>\n",
              "      <td>0</td>\n",
              "      <td>1</td>\n",
              "      <td>0</td>\n",
              "    </tr>\n",
              "    <tr>\n",
              "      <th>3</th>\n",
              "      <td>699</td>\n",
              "      <td>39</td>\n",
              "      <td>1</td>\n",
              "      <td>0.00</td>\n",
              "      <td>2</td>\n",
              "      <td>0</td>\n",
              "      <td>0</td>\n",
              "      <td>93826.63</td>\n",
              "      <td>1</td>\n",
              "      <td>0</td>\n",
              "      <td>0</td>\n",
              "      <td>1</td>\n",
              "      <td>0</td>\n",
              "    </tr>\n",
              "    <tr>\n",
              "      <th>4</th>\n",
              "      <td>850</td>\n",
              "      <td>43</td>\n",
              "      <td>2</td>\n",
              "      <td>125510.82</td>\n",
              "      <td>1</td>\n",
              "      <td>1</td>\n",
              "      <td>1</td>\n",
              "      <td>79084.10</td>\n",
              "      <td>0</td>\n",
              "      <td>0</td>\n",
              "      <td>1</td>\n",
              "      <td>1</td>\n",
              "      <td>0</td>\n",
              "    </tr>\n",
              "  </tbody>\n",
              "</table>\n",
              "</div>"
            ],
            "text/plain": [
              "   CreditScore  Age  Tenure    Balance  NumOfProducts  HasCrCard  \\\n",
              "0          619   42       2       0.00              1          1   \n",
              "1          608   41       1   83807.86              1          0   \n",
              "2          502   42       8  159660.80              3          1   \n",
              "3          699   39       1       0.00              2          0   \n",
              "4          850   43       2  125510.82              1          1   \n",
              "\n",
              "   IsActiveMember  EstimatedSalary  France  Germany  Spain  Female  Male  \n",
              "0               1        101348.88       1        0      0       1     0  \n",
              "1               1        112542.58       0        0      1       1     0  \n",
              "2               0        113931.57       1        0      0       1     0  \n",
              "3               0         93826.63       1        0      0       1     0  \n",
              "4               1         79084.10       0        0      1       1     0  "
            ]
          },
          "execution_count": 64,
          "metadata": {},
          "output_type": "execute_result"
        }
      ],
      "source": [
        "## Concatenate the Data Frames\n",
        "\n",
        "X=pd.concat([X,geography,gender],axis=1)\n",
        "\n",
        "## Drop Unnecessary columns\n",
        "X=X.drop(['Geography','Gender'],axis=1)\n",
        "\n",
        "X.head()"
      ]
    },
    {
      "cell_type": "code",
      "execution_count": 65,
      "metadata": {
        "id": "Co2rxaFR7Wgo"
      },
      "outputs": [],
      "source": [
        "# Splitting the dataset into the Training set and Test set\n",
        "from sklearn.model_selection import train_test_split\n",
        "X_train, X_test, y_train, y_test = train_test_split(X, y, test_size = 0.2, random_state = 33)"
      ]
    },
    {
      "attachments": {},
      "cell_type": "markdown",
      "metadata": {},
      "source": [
        "- Standardscaler is based on z-score. so mean = 0, std =1 .\n",
        "- Min-max scaler scales the values between 0 to 1. Usually used with CNN"
      ]
    },
    {
      "cell_type": "code",
      "execution_count": 66,
      "metadata": {
        "id": "GNZrZXy37ZLs"
      },
      "outputs": [],
      "source": [
        "# Feature Scaling\n",
        "from sklearn.preprocessing import StandardScaler\n",
        "sc = StandardScaler()\n",
        "X_train = sc.fit_transform(X_train)\n",
        "X_test = sc.transform(X_test)"
      ]
    },
    {
      "attachments": {},
      "cell_type": "markdown",
      "metadata": {},
      "source": [
        ".fit_transform with training set \n",
        ".transform with test set"
      ]
    },
    {
      "cell_type": "code",
      "execution_count": 67,
      "metadata": {
        "id": "uwN3bgie7bvT"
      },
      "outputs": [],
      "source": [
        "# Part 2 - Now let's make the ANN!"
      ]
    },
    {
      "attachments": {},
      "cell_type": "markdown",
      "metadata": {},
      "source": [
        "- Sequential: forward and backward propagation carried out\n",
        "- Dense: ?\n",
        "- LeakyReLU, PreELU, ELU are activation functions\n",
        "- Dropout: to counteract overfitting; similar to regularization parameter."
      ]
    },
    {
      "cell_type": "code",
      "execution_count": 68,
      "metadata": {
        "id": "rL_a7vWu7dj1"
      },
      "outputs": [],
      "source": [
        "from tensorflow.keras.models import Sequential\n",
        "from tensorflow.keras.layers import Dense\n",
        "from tensorflow.keras.layers import LeakyReLU,PReLU,ELU\n",
        "from tensorflow.keras.layers import Dropout"
      ]
    },
    {
      "cell_type": "code",
      "execution_count": 69,
      "metadata": {
        "id": "VDJwvrbZ7kj4"
      },
      "outputs": [],
      "source": [
        "# Initialising the ANN\n",
        "classifier = Sequential()"
      ]
    },
    {
      "attachments": {},
      "cell_type": "markdown",
      "metadata": {},
      "source": [
        "There are techniques to decide how many units we need per layer"
      ]
    },
    {
      "cell_type": "code",
      "execution_count": 70,
      "metadata": {
        "id": "RSZQrU-g7z4N"
      },
      "outputs": [],
      "source": [
        "# Adding the input layer and the first hidden layer\n",
        "classifier.add(Dense(units=11,activation='relu'))"
      ]
    },
    {
      "cell_type": "code",
      "execution_count": 71,
      "metadata": {},
      "outputs": [],
      "source": [
        "# Adding the input layer and the first hidden layer\n",
        "classifier.add(Dense(units=7,activation='relu'))"
      ]
    },
    {
      "cell_type": "code",
      "execution_count": 72,
      "metadata": {
        "id": "byszZMvw8RcQ"
      },
      "outputs": [],
      "source": [
        "# Adding the input layer and the first hidden layer\n",
        "classifier.add(Dense(units=6,activation='relu'))"
      ]
    },
    {
      "attachments": {},
      "cell_type": "markdown",
      "metadata": {},
      "source": [
        "as it is a binomial classification, the output layer should be sigmoid activation and loss function should be binary cross entropy"
      ]
    },
    {
      "cell_type": "code",
      "execution_count": 73,
      "metadata": {
        "id": "Mk2slmAX8XUI"
      },
      "outputs": [],
      "source": [
        "# adding the output layer\n",
        "classifier.add(Dense(units=1,activation='sigmoid'))"
      ]
    },
    {
      "attachments": {},
      "cell_type": "markdown",
      "metadata": {},
      "source": [
        "by default adam uses a learning rate of 0.01"
      ]
    },
    {
      "cell_type": "code",
      "execution_count": 74,
      "metadata": {
        "id": "F2udThHo8cFt"
      },
      "outputs": [],
      "source": [
        "classifier.compile(optimizer='adam',loss='binary_crossentropy',metrics=['accuracy'])"
      ]
    },
    {
      "cell_type": "code",
      "execution_count": 78,
      "metadata": {},
      "outputs": [],
      "source": [
        "# to change learning rate\n",
        "opt=tf.keras.optimizers.Adam(learning_rate=0.001)\n",
        "classifier.compile(optimizer=opt,loss='binary_crossentropy',metrics=['accuracy'])"
      ]
    },
    {
      "cell_type": "code",
      "execution_count": 88,
      "metadata": {},
      "outputs": [
        {
          "name": "stdout",
          "output_type": "stream",
          "text": [
            "Epoch 1/1000\n",
            "536/536 [==============================] - 1s 2ms/step - loss: 0.2721 - accuracy: 0.8914 - val_loss: 0.4304 - val_accuracy: 0.8406\n",
            "Epoch 2/1000\n",
            "536/536 [==============================] - 1s 2ms/step - loss: 0.2730 - accuracy: 0.8890 - val_loss: 0.4274 - val_accuracy: 0.8429\n",
            "Epoch 3/1000\n",
            "536/536 [==============================] - 1s 2ms/step - loss: 0.2723 - accuracy: 0.8914 - val_loss: 0.4251 - val_accuracy: 0.8398\n",
            "Epoch 4/1000\n",
            "536/536 [==============================] - 1s 2ms/step - loss: 0.2722 - accuracy: 0.8918 - val_loss: 0.4269 - val_accuracy: 0.8383\n",
            "Epoch 5/1000\n",
            "536/536 [==============================] - 1s 2ms/step - loss: 0.2719 - accuracy: 0.8905 - val_loss: 0.4289 - val_accuracy: 0.8387\n",
            "Epoch 6/1000\n",
            "536/536 [==============================] - 1s 2ms/step - loss: 0.2726 - accuracy: 0.8897 - val_loss: 0.4290 - val_accuracy: 0.8353\n",
            "Epoch 7/1000\n",
            "536/536 [==============================] - 1s 2ms/step - loss: 0.2715 - accuracy: 0.8905 - val_loss: 0.4263 - val_accuracy: 0.8364\n",
            "Epoch 8/1000\n",
            "536/536 [==============================] - 1s 2ms/step - loss: 0.2720 - accuracy: 0.8925 - val_loss: 0.4255 - val_accuracy: 0.8372\n",
            "Epoch 9/1000\n",
            "536/536 [==============================] - 1s 2ms/step - loss: 0.2715 - accuracy: 0.8920 - val_loss: 0.4286 - val_accuracy: 0.8383\n",
            "Epoch 10/1000\n",
            "536/536 [==============================] - 1s 2ms/step - loss: 0.2733 - accuracy: 0.8908 - val_loss: 0.4249 - val_accuracy: 0.8402\n",
            "Epoch 11/1000\n",
            "536/536 [==============================] - 1s 2ms/step - loss: 0.2725 - accuracy: 0.8897 - val_loss: 0.4241 - val_accuracy: 0.8474\n",
            "Epoch 12/1000\n",
            "536/536 [==============================] - 1s 2ms/step - loss: 0.2721 - accuracy: 0.8903 - val_loss: 0.4331 - val_accuracy: 0.8383\n",
            "Epoch 13/1000\n",
            "536/536 [==============================] - 1s 2ms/step - loss: 0.2721 - accuracy: 0.8903 - val_loss: 0.4255 - val_accuracy: 0.8402\n",
            "Epoch 14/1000\n",
            "536/536 [==============================] - 1s 2ms/step - loss: 0.2733 - accuracy: 0.8905 - val_loss: 0.4256 - val_accuracy: 0.8357\n",
            "Epoch 15/1000\n",
            "536/536 [==============================] - 1s 2ms/step - loss: 0.2711 - accuracy: 0.8921 - val_loss: 0.4264 - val_accuracy: 0.8376\n",
            "Epoch 16/1000\n",
            "536/536 [==============================] - 1s 2ms/step - loss: 0.2712 - accuracy: 0.8920 - val_loss: 0.4263 - val_accuracy: 0.8417\n",
            "Epoch 17/1000\n",
            "536/536 [==============================] - 1s 2ms/step - loss: 0.2718 - accuracy: 0.8901 - val_loss: 0.4295 - val_accuracy: 0.8406\n",
            "Epoch 18/1000\n",
            "536/536 [==============================] - 1s 2ms/step - loss: 0.2732 - accuracy: 0.8899 - val_loss: 0.4266 - val_accuracy: 0.8406\n",
            "Epoch 19/1000\n",
            "536/536 [==============================] - 1s 2ms/step - loss: 0.2715 - accuracy: 0.8912 - val_loss: 0.4249 - val_accuracy: 0.8387\n",
            "Epoch 20/1000\n",
            "536/536 [==============================] - 1s 2ms/step - loss: 0.2718 - accuracy: 0.8918 - val_loss: 0.4282 - val_accuracy: 0.8410\n",
            "Epoch 21/1000\n",
            "536/536 [==============================] - 1s 2ms/step - loss: 0.2725 - accuracy: 0.8916 - val_loss: 0.4234 - val_accuracy: 0.8368\n",
            "Epoch 22/1000\n",
            "536/536 [==============================] - 1s 2ms/step - loss: 0.2730 - accuracy: 0.8886 - val_loss: 0.4236 - val_accuracy: 0.8417\n",
            "Epoch 23/1000\n",
            "536/536 [==============================] - 1s 2ms/step - loss: 0.2714 - accuracy: 0.8910 - val_loss: 0.4273 - val_accuracy: 0.8364\n",
            "Epoch 24/1000\n",
            "536/536 [==============================] - 1s 2ms/step - loss: 0.2714 - accuracy: 0.8929 - val_loss: 0.4254 - val_accuracy: 0.8402\n",
            "Epoch 25/1000\n",
            "536/536 [==============================] - 1s 2ms/step - loss: 0.2720 - accuracy: 0.8907 - val_loss: 0.4246 - val_accuracy: 0.8383\n",
            "Epoch 26/1000\n",
            "536/536 [==============================] - 1s 2ms/step - loss: 0.2724 - accuracy: 0.8905 - val_loss: 0.4286 - val_accuracy: 0.8357\n",
            "Epoch 27/1000\n",
            "536/536 [==============================] - 1s 2ms/step - loss: 0.2707 - accuracy: 0.8921 - val_loss: 0.4303 - val_accuracy: 0.8372\n",
            "Epoch 28/1000\n",
            "536/536 [==============================] - 1s 2ms/step - loss: 0.2718 - accuracy: 0.8923 - val_loss: 0.4262 - val_accuracy: 0.8413\n",
            "Epoch 29/1000\n",
            "536/536 [==============================] - 1s 2ms/step - loss: 0.2725 - accuracy: 0.8905 - val_loss: 0.4316 - val_accuracy: 0.8410\n",
            "Epoch 30/1000\n",
            "536/536 [==============================] - 1s 2ms/step - loss: 0.2720 - accuracy: 0.8925 - val_loss: 0.4311 - val_accuracy: 0.8349\n",
            "Epoch 31/1000\n",
            "536/536 [==============================] - 1s 2ms/step - loss: 0.2733 - accuracy: 0.8888 - val_loss: 0.4251 - val_accuracy: 0.8432\n",
            "Epoch 32/1000\n",
            "536/536 [==============================] - 1s 2ms/step - loss: 0.2722 - accuracy: 0.8923 - val_loss: 0.4273 - val_accuracy: 0.8395\n",
            "Epoch 33/1000\n",
            "536/536 [==============================] - 1s 2ms/step - loss: 0.2707 - accuracy: 0.8920 - val_loss: 0.4290 - val_accuracy: 0.8410\n",
            "Epoch 34/1000\n",
            "536/536 [==============================] - 1s 2ms/step - loss: 0.2731 - accuracy: 0.8914 - val_loss: 0.4310 - val_accuracy: 0.8413\n",
            "Epoch 35/1000\n",
            "536/536 [==============================] - 1s 2ms/step - loss: 0.2720 - accuracy: 0.8905 - val_loss: 0.4302 - val_accuracy: 0.8406\n",
            "Epoch 36/1000\n",
            "536/536 [==============================] - 1s 2ms/step - loss: 0.2735 - accuracy: 0.8910 - val_loss: 0.4300 - val_accuracy: 0.8391\n",
            "Epoch 37/1000\n",
            "536/536 [==============================] - 1s 2ms/step - loss: 0.2723 - accuracy: 0.8912 - val_loss: 0.4274 - val_accuracy: 0.8402\n",
            "Epoch 38/1000\n",
            "536/536 [==============================] - 1s 2ms/step - loss: 0.2721 - accuracy: 0.8912 - val_loss: 0.4308 - val_accuracy: 0.8436\n",
            "Epoch 39/1000\n",
            "536/536 [==============================] - 1s 2ms/step - loss: 0.2731 - accuracy: 0.8903 - val_loss: 0.4244 - val_accuracy: 0.8402\n",
            "Epoch 40/1000\n",
            "536/536 [==============================] - 1s 2ms/step - loss: 0.2713 - accuracy: 0.8918 - val_loss: 0.4269 - val_accuracy: 0.8391\n",
            "Epoch 41/1000\n",
            "536/536 [==============================] - 1s 2ms/step - loss: 0.2712 - accuracy: 0.8907 - val_loss: 0.4306 - val_accuracy: 0.8413\n",
            "Epoch 42/1000\n",
            "536/536 [==============================] - 1s 2ms/step - loss: 0.2713 - accuracy: 0.8910 - val_loss: 0.4266 - val_accuracy: 0.8353\n",
            "Epoch 43/1000\n",
            "536/536 [==============================] - 1s 2ms/step - loss: 0.2724 - accuracy: 0.8907 - val_loss: 0.4246 - val_accuracy: 0.8398\n",
            "Epoch 44/1000\n",
            "536/536 [==============================] - 1s 2ms/step - loss: 0.2715 - accuracy: 0.8901 - val_loss: 0.4349 - val_accuracy: 0.8379\n",
            "Epoch 45/1000\n",
            "536/536 [==============================] - 1s 2ms/step - loss: 0.2726 - accuracy: 0.8905 - val_loss: 0.4303 - val_accuracy: 0.8379\n",
            "Epoch 46/1000\n",
            "536/536 [==============================] - 1s 2ms/step - loss: 0.2719 - accuracy: 0.8914 - val_loss: 0.4301 - val_accuracy: 0.8406\n",
            "Epoch 47/1000\n",
            "536/536 [==============================] - 1s 2ms/step - loss: 0.2727 - accuracy: 0.8892 - val_loss: 0.4334 - val_accuracy: 0.8425\n",
            "Epoch 48/1000\n",
            "536/536 [==============================] - 1s 2ms/step - loss: 0.2726 - accuracy: 0.8895 - val_loss: 0.4262 - val_accuracy: 0.8436\n",
            "Epoch 49/1000\n",
            "536/536 [==============================] - 1s 2ms/step - loss: 0.2726 - accuracy: 0.8938 - val_loss: 0.4264 - val_accuracy: 0.8432\n",
            "Epoch 50/1000\n",
            "536/536 [==============================] - 1s 2ms/step - loss: 0.2720 - accuracy: 0.8918 - val_loss: 0.4264 - val_accuracy: 0.8372\n",
            "Epoch 51/1000\n",
            "536/536 [==============================] - 1s 2ms/step - loss: 0.2704 - accuracy: 0.8921 - val_loss: 0.4278 - val_accuracy: 0.8387\n",
            "Epoch 52/1000\n",
            "536/536 [==============================] - 1s 2ms/step - loss: 0.2716 - accuracy: 0.8899 - val_loss: 0.4256 - val_accuracy: 0.8402\n",
            "Epoch 53/1000\n",
            "536/536 [==============================] - 1s 2ms/step - loss: 0.2734 - accuracy: 0.8895 - val_loss: 0.4280 - val_accuracy: 0.8406\n",
            "Epoch 54/1000\n",
            "536/536 [==============================] - 1s 2ms/step - loss: 0.2717 - accuracy: 0.8916 - val_loss: 0.4256 - val_accuracy: 0.8398\n",
            "Epoch 55/1000\n",
            "536/536 [==============================] - 1s 2ms/step - loss: 0.2721 - accuracy: 0.8912 - val_loss: 0.4335 - val_accuracy: 0.8368\n",
            "Epoch 56/1000\n",
            "536/536 [==============================] - 1s 2ms/step - loss: 0.2715 - accuracy: 0.8918 - val_loss: 0.4360 - val_accuracy: 0.8387\n",
            "Epoch 57/1000\n",
            "536/536 [==============================] - 1s 2ms/step - loss: 0.2711 - accuracy: 0.8920 - val_loss: 0.4347 - val_accuracy: 0.8451\n",
            "Epoch 58/1000\n",
            "536/536 [==============================] - 1s 2ms/step - loss: 0.2737 - accuracy: 0.8910 - val_loss: 0.4343 - val_accuracy: 0.8395\n",
            "Epoch 59/1000\n",
            "536/536 [==============================] - 1s 2ms/step - loss: 0.2718 - accuracy: 0.8903 - val_loss: 0.4268 - val_accuracy: 0.8402\n",
            "Epoch 60/1000\n",
            "536/536 [==============================] - 1s 2ms/step - loss: 0.2709 - accuracy: 0.8920 - val_loss: 0.4277 - val_accuracy: 0.8395\n",
            "Epoch 61/1000\n",
            "536/536 [==============================] - 1s 2ms/step - loss: 0.2721 - accuracy: 0.8910 - val_loss: 0.4253 - val_accuracy: 0.8395\n",
            "Epoch 62/1000\n",
            "536/536 [==============================] - 1s 2ms/step - loss: 0.2725 - accuracy: 0.8907 - val_loss: 0.4247 - val_accuracy: 0.8387\n",
            "Epoch 63/1000\n",
            "536/536 [==============================] - 1s 2ms/step - loss: 0.2720 - accuracy: 0.8936 - val_loss: 0.4278 - val_accuracy: 0.8398\n",
            "Epoch 64/1000\n",
            "536/536 [==============================] - 1s 2ms/step - loss: 0.2722 - accuracy: 0.8899 - val_loss: 0.4254 - val_accuracy: 0.8395\n",
            "Epoch 65/1000\n",
            "536/536 [==============================] - 1s 2ms/step - loss: 0.2715 - accuracy: 0.8910 - val_loss: 0.4292 - val_accuracy: 0.8364\n",
            "Epoch 66/1000\n",
            "536/536 [==============================] - 1s 2ms/step - loss: 0.2726 - accuracy: 0.8895 - val_loss: 0.4255 - val_accuracy: 0.8364\n",
            "Epoch 67/1000\n",
            "536/536 [==============================] - 1s 2ms/step - loss: 0.2704 - accuracy: 0.8903 - val_loss: 0.4242 - val_accuracy: 0.8391\n",
            "Epoch 68/1000\n",
            "536/536 [==============================] - 1s 2ms/step - loss: 0.2706 - accuracy: 0.8912 - val_loss: 0.4334 - val_accuracy: 0.8353\n",
            "Epoch 69/1000\n",
            "536/536 [==============================] - 1s 2ms/step - loss: 0.2733 - accuracy: 0.8888 - val_loss: 0.4305 - val_accuracy: 0.8387\n",
            "Epoch 70/1000\n",
            "536/536 [==============================] - 1s 2ms/step - loss: 0.2726 - accuracy: 0.8921 - val_loss: 0.4235 - val_accuracy: 0.8376\n",
            "Epoch 71/1000\n",
            "536/536 [==============================] - 1s 2ms/step - loss: 0.2738 - accuracy: 0.8897 - val_loss: 0.4260 - val_accuracy: 0.8413\n",
            "Epoch 72/1000\n",
            "536/536 [==============================] - 1s 2ms/step - loss: 0.2720 - accuracy: 0.8901 - val_loss: 0.4242 - val_accuracy: 0.8376\n",
            "Epoch 73/1000\n",
            "536/536 [==============================] - 1s 2ms/step - loss: 0.2720 - accuracy: 0.8907 - val_loss: 0.4287 - val_accuracy: 0.8387\n",
            "Epoch 74/1000\n",
            "536/536 [==============================] - 1s 2ms/step - loss: 0.2720 - accuracy: 0.8916 - val_loss: 0.4299 - val_accuracy: 0.8425\n",
            "Epoch 75/1000\n",
            "536/536 [==============================] - 1s 2ms/step - loss: 0.2721 - accuracy: 0.8912 - val_loss: 0.4257 - val_accuracy: 0.8413\n",
            "Epoch 76/1000\n",
            "536/536 [==============================] - 1s 2ms/step - loss: 0.2733 - accuracy: 0.8884 - val_loss: 0.4320 - val_accuracy: 0.8421\n",
            "Epoch 77/1000\n",
            "536/536 [==============================] - 1s 2ms/step - loss: 0.2718 - accuracy: 0.8920 - val_loss: 0.4269 - val_accuracy: 0.8391\n",
            "Epoch 78/1000\n",
            "536/536 [==============================] - 1s 2ms/step - loss: 0.2726 - accuracy: 0.8912 - val_loss: 0.4319 - val_accuracy: 0.8417\n",
            "Epoch 79/1000\n",
            "508/536 [===========================>..] - ETA: 0s - loss: 0.2713 - accuracy: 0.8935"
          ]
        },
        {
          "ename": "KeyboardInterrupt",
          "evalue": "",
          "output_type": "error",
          "traceback": [
            "\u001b[1;31m---------------------------------------------------------------------------\u001b[0m",
            "\u001b[1;31mKeyboardInterrupt\u001b[0m                         Traceback (most recent call last)",
            "\u001b[1;32md:\\Exercises\\Machine-Learning\\Practical implementation of ANN.ipynb Cell 31\u001b[0m in \u001b[0;36m<cell line: 1>\u001b[1;34m()\u001b[0m\n\u001b[1;32m----> <a href='vscode-notebook-cell:/d%3A/Exercises/Machine-Learning/Practical%20implementation%20of%20ANN.ipynb#X64sZmlsZQ%3D%3D?line=0'>1</a>\u001b[0m model_history\u001b[39m=\u001b[39mclassifier\u001b[39m.\u001b[39;49mfit(X_train, y_train, validation_split\u001b[39m=\u001b[39;49m\u001b[39m0.33\u001b[39;49m, batch_size\u001b[39m=\u001b[39;49m\u001b[39m10\u001b[39;49m, epochs\u001b[39m=\u001b[39;49m\u001b[39m1000\u001b[39;49m)\n",
            "File \u001b[1;32mc:\\Users\\Loyumba\\AppData\\Local\\Programs\\Python\\Python310\\lib\\site-packages\\keras\\utils\\traceback_utils.py:65\u001b[0m, in \u001b[0;36mfilter_traceback.<locals>.error_handler\u001b[1;34m(*args, **kwargs)\u001b[0m\n\u001b[0;32m     63\u001b[0m filtered_tb \u001b[39m=\u001b[39m \u001b[39mNone\u001b[39;00m\n\u001b[0;32m     64\u001b[0m \u001b[39mtry\u001b[39;00m:\n\u001b[1;32m---> 65\u001b[0m     \u001b[39mreturn\u001b[39;00m fn(\u001b[39m*\u001b[39margs, \u001b[39m*\u001b[39m\u001b[39m*\u001b[39mkwargs)\n\u001b[0;32m     66\u001b[0m \u001b[39mexcept\u001b[39;00m \u001b[39mException\u001b[39;00m \u001b[39mas\u001b[39;00m e:\n\u001b[0;32m     67\u001b[0m     filtered_tb \u001b[39m=\u001b[39m _process_traceback_frames(e\u001b[39m.\u001b[39m__traceback__)\n",
            "File \u001b[1;32mc:\\Users\\Loyumba\\AppData\\Local\\Programs\\Python\\Python310\\lib\\site-packages\\keras\\engine\\training.py:1694\u001b[0m, in \u001b[0;36mModel.fit\u001b[1;34m(self, x, y, batch_size, epochs, verbose, callbacks, validation_split, validation_data, shuffle, class_weight, sample_weight, initial_epoch, steps_per_epoch, validation_steps, validation_batch_size, validation_freq, max_queue_size, workers, use_multiprocessing)\u001b[0m\n\u001b[0;32m   1679\u001b[0m \u001b[39mif\u001b[39;00m \u001b[39mgetattr\u001b[39m(\u001b[39mself\u001b[39m, \u001b[39m\"\u001b[39m\u001b[39m_eval_data_handler\u001b[39m\u001b[39m\"\u001b[39m, \u001b[39mNone\u001b[39;00m) \u001b[39mis\u001b[39;00m \u001b[39mNone\u001b[39;00m:\n\u001b[0;32m   1680\u001b[0m     \u001b[39mself\u001b[39m\u001b[39m.\u001b[39m_eval_data_handler \u001b[39m=\u001b[39m data_adapter\u001b[39m.\u001b[39mget_data_handler(\n\u001b[0;32m   1681\u001b[0m         x\u001b[39m=\u001b[39mval_x,\n\u001b[0;32m   1682\u001b[0m         y\u001b[39m=\u001b[39mval_y,\n\u001b[1;32m   (...)\u001b[0m\n\u001b[0;32m   1692\u001b[0m         steps_per_execution\u001b[39m=\u001b[39m\u001b[39mself\u001b[39m\u001b[39m.\u001b[39m_steps_per_execution,\n\u001b[0;32m   1693\u001b[0m     )\n\u001b[1;32m-> 1694\u001b[0m val_logs \u001b[39m=\u001b[39m \u001b[39mself\u001b[39;49m\u001b[39m.\u001b[39;49mevaluate(\n\u001b[0;32m   1695\u001b[0m     x\u001b[39m=\u001b[39;49mval_x,\n\u001b[0;32m   1696\u001b[0m     y\u001b[39m=\u001b[39;49mval_y,\n\u001b[0;32m   1697\u001b[0m     sample_weight\u001b[39m=\u001b[39;49mval_sample_weight,\n\u001b[0;32m   1698\u001b[0m     batch_size\u001b[39m=\u001b[39;49mvalidation_batch_size \u001b[39mor\u001b[39;49;00m batch_size,\n\u001b[0;32m   1699\u001b[0m     steps\u001b[39m=\u001b[39;49mvalidation_steps,\n\u001b[0;32m   1700\u001b[0m     callbacks\u001b[39m=\u001b[39;49mcallbacks,\n\u001b[0;32m   1701\u001b[0m     max_queue_size\u001b[39m=\u001b[39;49mmax_queue_size,\n\u001b[0;32m   1702\u001b[0m     workers\u001b[39m=\u001b[39;49mworkers,\n\u001b[0;32m   1703\u001b[0m     use_multiprocessing\u001b[39m=\u001b[39;49muse_multiprocessing,\n\u001b[0;32m   1704\u001b[0m     return_dict\u001b[39m=\u001b[39;49m\u001b[39mTrue\u001b[39;49;00m,\n\u001b[0;32m   1705\u001b[0m     _use_cached_eval_dataset\u001b[39m=\u001b[39;49m\u001b[39mTrue\u001b[39;49;00m,\n\u001b[0;32m   1706\u001b[0m )\n\u001b[0;32m   1707\u001b[0m val_logs \u001b[39m=\u001b[39m {\n\u001b[0;32m   1708\u001b[0m     \u001b[39m\"\u001b[39m\u001b[39mval_\u001b[39m\u001b[39m\"\u001b[39m \u001b[39m+\u001b[39m name: val \u001b[39mfor\u001b[39;00m name, val \u001b[39min\u001b[39;00m val_logs\u001b[39m.\u001b[39mitems()\n\u001b[0;32m   1709\u001b[0m }\n\u001b[0;32m   1710\u001b[0m epoch_logs\u001b[39m.\u001b[39mupdate(val_logs)\n",
            "File \u001b[1;32mc:\\Users\\Loyumba\\AppData\\Local\\Programs\\Python\\Python310\\lib\\site-packages\\keras\\utils\\traceback_utils.py:65\u001b[0m, in \u001b[0;36mfilter_traceback.<locals>.error_handler\u001b[1;34m(*args, **kwargs)\u001b[0m\n\u001b[0;32m     63\u001b[0m filtered_tb \u001b[39m=\u001b[39m \u001b[39mNone\u001b[39;00m\n\u001b[0;32m     64\u001b[0m \u001b[39mtry\u001b[39;00m:\n\u001b[1;32m---> 65\u001b[0m     \u001b[39mreturn\u001b[39;00m fn(\u001b[39m*\u001b[39margs, \u001b[39m*\u001b[39m\u001b[39m*\u001b[39mkwargs)\n\u001b[0;32m     66\u001b[0m \u001b[39mexcept\u001b[39;00m \u001b[39mException\u001b[39;00m \u001b[39mas\u001b[39;00m e:\n\u001b[0;32m     67\u001b[0m     filtered_tb \u001b[39m=\u001b[39m _process_traceback_frames(e\u001b[39m.\u001b[39m__traceback__)\n",
            "File \u001b[1;32mc:\\Users\\Loyumba\\AppData\\Local\\Programs\\Python\\Python310\\lib\\site-packages\\keras\\engine\\training.py:2035\u001b[0m, in \u001b[0;36mModel.evaluate\u001b[1;34m(self, x, y, batch_size, verbose, sample_weight, steps, callbacks, max_queue_size, workers, use_multiprocessing, return_dict, **kwargs)\u001b[0m\n\u001b[0;32m   2033\u001b[0m \u001b[39mself\u001b[39m\u001b[39m.\u001b[39mreset_metrics()\n\u001b[0;32m   2034\u001b[0m \u001b[39mwith\u001b[39;00m data_handler\u001b[39m.\u001b[39mcatch_stop_iteration():\n\u001b[1;32m-> 2035\u001b[0m     \u001b[39mfor\u001b[39;00m step \u001b[39min\u001b[39;00m data_handler\u001b[39m.\u001b[39msteps():\n\u001b[0;32m   2036\u001b[0m         \u001b[39mwith\u001b[39;00m tf\u001b[39m.\u001b[39mprofiler\u001b[39m.\u001b[39mexperimental\u001b[39m.\u001b[39mTrace(\n\u001b[0;32m   2037\u001b[0m             \u001b[39m\"\u001b[39m\u001b[39mtest\u001b[39m\u001b[39m\"\u001b[39m, step_num\u001b[39m=\u001b[39mstep, _r\u001b[39m=\u001b[39m\u001b[39m1\u001b[39m\n\u001b[0;32m   2038\u001b[0m         ):\n\u001b[0;32m   2039\u001b[0m             callbacks\u001b[39m.\u001b[39mon_test_batch_begin(step)\n",
            "File \u001b[1;32mc:\\Users\\Loyumba\\AppData\\Local\\Programs\\Python\\Python310\\lib\\site-packages\\keras\\engine\\data_adapter.py:1371\u001b[0m, in \u001b[0;36mDataHandler.steps\u001b[1;34m(self)\u001b[0m\n\u001b[0;32m   1369\u001b[0m \u001b[39mif\u001b[39;00m \u001b[39mself\u001b[39m\u001b[39m.\u001b[39m_insufficient_data:  \u001b[39m# Set by `catch_stop_iteration`.\u001b[39;00m\n\u001b[0;32m   1370\u001b[0m     \u001b[39mbreak\u001b[39;00m\n\u001b[1;32m-> 1371\u001b[0m original_spe \u001b[39m=\u001b[39m \u001b[39mself\u001b[39;49m\u001b[39m.\u001b[39;49m_steps_per_execution\u001b[39m.\u001b[39;49mnumpy()\u001b[39m.\u001b[39mitem()\n\u001b[0;32m   1372\u001b[0m can_run_full_execution \u001b[39m=\u001b[39m (\n\u001b[0;32m   1373\u001b[0m     original_spe \u001b[39m==\u001b[39m \u001b[39m1\u001b[39m\n\u001b[0;32m   1374\u001b[0m     \u001b[39mor\u001b[39;00m \u001b[39mself\u001b[39m\u001b[39m.\u001b[39m_inferred_steps \u001b[39mis\u001b[39;00m \u001b[39mNone\u001b[39;00m\n\u001b[0;32m   1375\u001b[0m     \u001b[39mor\u001b[39;00m \u001b[39mself\u001b[39m\u001b[39m.\u001b[39m_inferred_steps \u001b[39m-\u001b[39m \u001b[39mself\u001b[39m\u001b[39m.\u001b[39m_current_step \u001b[39m>\u001b[39m\u001b[39m=\u001b[39m original_spe\n\u001b[0;32m   1376\u001b[0m )\n\u001b[0;32m   1378\u001b[0m \u001b[39mif\u001b[39;00m can_run_full_execution:\n",
            "File \u001b[1;32mc:\\Users\\Loyumba\\AppData\\Local\\Programs\\Python\\Python310\\lib\\site-packages\\tensorflow\\python\\ops\\resource_variable_ops.py:639\u001b[0m, in \u001b[0;36mBaseResourceVariable.numpy\u001b[1;34m(self)\u001b[0m\n\u001b[0;32m    637\u001b[0m \u001b[39mdef\u001b[39;00m \u001b[39mnumpy\u001b[39m(\u001b[39mself\u001b[39m):\n\u001b[0;32m    638\u001b[0m   \u001b[39mif\u001b[39;00m context\u001b[39m.\u001b[39mexecuting_eagerly():\n\u001b[1;32m--> 639\u001b[0m     \u001b[39mreturn\u001b[39;00m \u001b[39mself\u001b[39;49m\u001b[39m.\u001b[39;49mread_value()\u001b[39m.\u001b[39mnumpy()\n\u001b[0;32m    640\u001b[0m   \u001b[39mraise\u001b[39;00m \u001b[39mNotImplementedError\u001b[39;00m(\n\u001b[0;32m    641\u001b[0m       \u001b[39m\"\u001b[39m\u001b[39mnumpy() is only available when eager execution is enabled.\u001b[39m\u001b[39m\"\u001b[39m)\n",
            "File \u001b[1;32mc:\\Users\\Loyumba\\AppData\\Local\\Programs\\Python\\Python310\\lib\\site-packages\\tensorflow\\python\\ops\\resource_variable_ops.py:727\u001b[0m, in \u001b[0;36mBaseResourceVariable.read_value\u001b[1;34m(self)\u001b[0m\n\u001b[0;32m    718\u001b[0m \u001b[39m\"\"\"Constructs an op which reads the value of this variable.\u001b[39;00m\n\u001b[0;32m    719\u001b[0m \n\u001b[0;32m    720\u001b[0m \u001b[39mShould be used when there are multiple reads, or when it is desirable to\u001b[39;00m\n\u001b[1;32m   (...)\u001b[0m\n\u001b[0;32m    724\u001b[0m \u001b[39m  The value of the variable.\u001b[39;00m\n\u001b[0;32m    725\u001b[0m \u001b[39m\"\"\"\u001b[39;00m\n\u001b[0;32m    726\u001b[0m \u001b[39mwith\u001b[39;00m ops\u001b[39m.\u001b[39mname_scope(\u001b[39m\"\u001b[39m\u001b[39mRead\u001b[39m\u001b[39m\"\u001b[39m):\n\u001b[1;32m--> 727\u001b[0m   value \u001b[39m=\u001b[39m \u001b[39mself\u001b[39;49m\u001b[39m.\u001b[39;49m_read_variable_op()\n\u001b[0;32m    728\u001b[0m \u001b[39m# Return an identity so it can get placed on whatever device the context\u001b[39;00m\n\u001b[0;32m    729\u001b[0m \u001b[39m# specifies instead of the device where the variable is.\u001b[39;00m\n\u001b[0;32m    730\u001b[0m \u001b[39mreturn\u001b[39;00m array_ops\u001b[39m.\u001b[39midentity(value)\n",
            "File \u001b[1;32mc:\\Users\\Loyumba\\AppData\\Local\\Programs\\Python\\Python310\\lib\\site-packages\\tensorflow\\python\\ops\\resource_variable_ops.py:706\u001b[0m, in \u001b[0;36mBaseResourceVariable._read_variable_op\u001b[1;34m(self, no_copy)\u001b[0m\n\u001b[0;32m    704\u001b[0m       result \u001b[39m=\u001b[39m read_and_set_handle(no_copy)\n\u001b[0;32m    705\u001b[0m \u001b[39melse\u001b[39;00m:\n\u001b[1;32m--> 706\u001b[0m   result \u001b[39m=\u001b[39m read_and_set_handle(no_copy)\n\u001b[0;32m    708\u001b[0m \u001b[39mif\u001b[39;00m \u001b[39mnot\u001b[39;00m context\u001b[39m.\u001b[39mexecuting_eagerly():\n\u001b[0;32m    709\u001b[0m   \u001b[39m# Note that if a control flow context is active the input of the read op\u001b[39;00m\n\u001b[0;32m    710\u001b[0m   \u001b[39m# might not actually be the handle. This line bypasses it.\u001b[39;00m\n\u001b[0;32m    711\u001b[0m   tape\u001b[39m.\u001b[39mrecord_operation(\n\u001b[0;32m    712\u001b[0m       \u001b[39m\"\u001b[39m\u001b[39mReadVariableOp\u001b[39m\u001b[39m\"\u001b[39m, [result], [\u001b[39mself\u001b[39m\u001b[39m.\u001b[39mhandle],\n\u001b[0;32m    713\u001b[0m       backward_function\u001b[39m=\u001b[39m\u001b[39mlambda\u001b[39;00m x: [x],\n\u001b[0;32m    714\u001b[0m       forward_function\u001b[39m=\u001b[39m\u001b[39mlambda\u001b[39;00m x: [x])\n",
            "File \u001b[1;32mc:\\Users\\Loyumba\\AppData\\Local\\Programs\\Python\\Python310\\lib\\site-packages\\tensorflow\\python\\ops\\resource_variable_ops.py:696\u001b[0m, in \u001b[0;36mBaseResourceVariable._read_variable_op.<locals>.read_and_set_handle\u001b[1;34m(no_copy)\u001b[0m\n\u001b[0;32m    694\u001b[0m \u001b[39mif\u001b[39;00m no_copy \u001b[39mand\u001b[39;00m forward_compat\u001b[39m.\u001b[39mforward_compatible(\u001b[39m2022\u001b[39m, \u001b[39m5\u001b[39m, \u001b[39m3\u001b[39m):\n\u001b[0;32m    695\u001b[0m   gen_resource_variable_ops\u001b[39m.\u001b[39mdisable_copy_on_read(\u001b[39mself\u001b[39m\u001b[39m.\u001b[39mhandle)\n\u001b[1;32m--> 696\u001b[0m result \u001b[39m=\u001b[39m gen_resource_variable_ops\u001b[39m.\u001b[39;49mread_variable_op(\n\u001b[0;32m    697\u001b[0m     \u001b[39mself\u001b[39;49m\u001b[39m.\u001b[39;49mhandle, \u001b[39mself\u001b[39;49m\u001b[39m.\u001b[39;49m_dtype)\n\u001b[0;32m    698\u001b[0m _maybe_set_handle_data(\u001b[39mself\u001b[39m\u001b[39m.\u001b[39m_dtype, \u001b[39mself\u001b[39m\u001b[39m.\u001b[39mhandle, result)\n\u001b[0;32m    699\u001b[0m \u001b[39mreturn\u001b[39;00m result\n",
            "File \u001b[1;32mc:\\Users\\Loyumba\\AppData\\Local\\Programs\\Python\\Python310\\lib\\site-packages\\tensorflow\\python\\ops\\gen_resource_variable_ops.py:580\u001b[0m, in \u001b[0;36mread_variable_op\u001b[1;34m(resource, dtype, name)\u001b[0m\n\u001b[0;32m    578\u001b[0m \u001b[39mif\u001b[39;00m tld\u001b[39m.\u001b[39mis_eager:\n\u001b[0;32m    579\u001b[0m   \u001b[39mtry\u001b[39;00m:\n\u001b[1;32m--> 580\u001b[0m     _result \u001b[39m=\u001b[39m pywrap_tfe\u001b[39m.\u001b[39;49mTFE_Py_FastPathExecute(\n\u001b[0;32m    581\u001b[0m       _ctx, \u001b[39m\"\u001b[39;49m\u001b[39mReadVariableOp\u001b[39;49m\u001b[39m\"\u001b[39;49m, name, resource, \u001b[39m\"\u001b[39;49m\u001b[39mdtype\u001b[39;49m\u001b[39m\"\u001b[39;49m, dtype)\n\u001b[0;32m    582\u001b[0m     \u001b[39mreturn\u001b[39;00m _result\n\u001b[0;32m    583\u001b[0m   \u001b[39mexcept\u001b[39;00m _core\u001b[39m.\u001b[39m_NotOkStatusException \u001b[39mas\u001b[39;00m e:\n",
            "\u001b[1;31mKeyboardInterrupt\u001b[0m: "
          ]
        }
      ],
      "source": [
        "model_history=classifier.fit(X_train, y_train, validation_split=0.33, batch_size=10, epochs=1000)"
      ]
    },
    {
      "cell_type": "code",
      "execution_count": 80,
      "metadata": {
        "colab": {
          "base_uri": "https://localhost:8080/"
        },
        "id": "Q9t_M4wICTTz",
        "outputId": "18fa935a-8009-407f-de61-7f6a83669624"
      },
      "outputs": [
        {
          "name": "stdout",
          "output_type": "stream",
          "text": [
            "dict_keys(['loss', 'accuracy', 'val_loss', 'val_accuracy'])\n"
          ]
        }
      ],
      "source": [
        "# list all data in history\n",
        "\n",
        "print(model_history.history.keys())"
      ]
    },
    {
      "cell_type": "code",
      "execution_count": 81,
      "metadata": {
        "colab": {
          "base_uri": "https://localhost:8080/",
          "height": 295
        },
        "id": "MMOyiwzgBlLY",
        "outputId": "aeb29600-3c1f-41aa-9e29-05acf6011ed8"
      },
      "outputs": [
        {
          "data": {
            "image/png": "[encoded data removed]",
            "text/plain": [
              "<Figure size 432x288 with 1 Axes>"
            ]
          },
          "metadata": {
            "needs_background": "light"
          },
          "output_type": "display_data"
        }
      ],
      "source": [
        "\n",
        "# summarize history for accuracy\n",
        "plt.plot(model_history.history['accuracy'])\n",
        "plt.plot(model_history.history['val_accuracy'])\n",
        "plt.title('model accuracy')\n",
        "plt.ylabel('accuracy')\n",
        "plt.xlabel('epoch')\n",
        "plt.legend(['train', 'test'], loc='upper left')\n",
        "plt.show()"
      ]
    },
    {
      "cell_type": "code",
      "execution_count": 82,
      "metadata": {
        "colab": {
          "base_uri": "https://localhost:8080/",
          "height": 295
        },
        "id": "QH141RsQCEr0",
        "outputId": "4566dca0-b002-4f59-b6e8-f8654b414283"
      },
      "outputs": [
        {
          "data": {
            "image/png": "[encoded data removed]",
            "text/plain": [
              "<Figure size 432x288 with 1 Axes>"
            ]
          },
          "metadata": {
            "needs_background": "light"
          },
          "output_type": "display_data"
        }
      ],
      "source": [
        "# summarize history for loss\n",
        "plt.plot(model_history.history['loss'])\n",
        "plt.plot(model_history.history['val_loss'])\n",
        "plt.title('model loss')\n",
        "plt.ylabel('loss')\n",
        "plt.xlabel('epoch')\n",
        "plt.legend(['train', 'test'], loc='upper left')\n",
        "plt.show()"
      ]
    },
    {
      "cell_type": "code",
      "execution_count": 89,
      "metadata": {},
      "outputs": [],
      "source": [
        "## Early stopping\n",
        "early_stopping=tf.keras.callbacks.EarlyStopping(\n",
        "    monitor='val_loss',\n",
        "    min_delta=0.0001,\n",
        "    patience=20,\n",
        "    verbose=1,\n",
        "    mode='auto',\n",
        "    baseline=None,\n",
        "    restore_best_weights=False\n",
        ")"
      ]
    },
    {
      "cell_type": "code",
      "execution_count": 90,
      "metadata": {},
      "outputs": [
        {
          "name": "stdout",
          "output_type": "stream",
          "text": [
            "Epoch 1/1000\n",
            "536/536 [==============================] - 1s 2ms/step - loss: 0.2721 - accuracy: 0.8918 - val_loss: 0.4268 - val_accuracy: 0.8383\n",
            "Epoch 2/1000\n",
            "536/536 [==============================] - 1s 2ms/step - loss: 0.2705 - accuracy: 0.8897 - val_loss: 0.4298 - val_accuracy: 0.8429\n",
            "Epoch 3/1000\n",
            "536/536 [==============================] - 1s 2ms/step - loss: 0.2710 - accuracy: 0.8903 - val_loss: 0.4331 - val_accuracy: 0.8429\n",
            "Epoch 4/1000\n",
            "536/536 [==============================] - 1s 2ms/step - loss: 0.2723 - accuracy: 0.8905 - val_loss: 0.4273 - val_accuracy: 0.8421\n",
            "Epoch 5/1000\n",
            "536/536 [==============================] - 1s 2ms/step - loss: 0.2714 - accuracy: 0.8908 - val_loss: 0.4283 - val_accuracy: 0.8402\n",
            "Epoch 6/1000\n",
            "536/536 [==============================] - 1s 2ms/step - loss: 0.2708 - accuracy: 0.8918 - val_loss: 0.4295 - val_accuracy: 0.8387\n",
            "Epoch 7/1000\n",
            "536/536 [==============================] - 1s 2ms/step - loss: 0.2712 - accuracy: 0.8920 - val_loss: 0.4224 - val_accuracy: 0.8391\n",
            "Epoch 8/1000\n",
            "536/536 [==============================] - 1s 2ms/step - loss: 0.2733 - accuracy: 0.8882 - val_loss: 0.4263 - val_accuracy: 0.8383\n",
            "Epoch 9/1000\n",
            "536/536 [==============================] - 1s 2ms/step - loss: 0.2732 - accuracy: 0.8882 - val_loss: 0.4229 - val_accuracy: 0.8395\n",
            "Epoch 10/1000\n",
            "536/536 [==============================] - 1s 2ms/step - loss: 0.2707 - accuracy: 0.8931 - val_loss: 0.4242 - val_accuracy: 0.8410\n",
            "Epoch 11/1000\n",
            "536/536 [==============================] - 1s 2ms/step - loss: 0.2718 - accuracy: 0.8901 - val_loss: 0.4231 - val_accuracy: 0.8360\n",
            "Epoch 12/1000\n",
            "536/536 [==============================] - 1s 2ms/step - loss: 0.2732 - accuracy: 0.8916 - val_loss: 0.4346 - val_accuracy: 0.8387\n",
            "Epoch 13/1000\n",
            "536/536 [==============================] - 1s 2ms/step - loss: 0.2710 - accuracy: 0.8925 - val_loss: 0.4295 - val_accuracy: 0.8383\n",
            "Epoch 14/1000\n",
            "536/536 [==============================] - 1s 2ms/step - loss: 0.2738 - accuracy: 0.8910 - val_loss: 0.4277 - val_accuracy: 0.8398\n",
            "Epoch 15/1000\n",
            "536/536 [==============================] - 1s 2ms/step - loss: 0.2715 - accuracy: 0.8908 - val_loss: 0.4280 - val_accuracy: 0.8410\n",
            "Epoch 16/1000\n",
            "536/536 [==============================] - 1s 2ms/step - loss: 0.2710 - accuracy: 0.8901 - val_loss: 0.4212 - val_accuracy: 0.8376\n",
            "Epoch 17/1000\n",
            "536/536 [==============================] - 1s 2ms/step - loss: 0.2709 - accuracy: 0.8908 - val_loss: 0.4254 - val_accuracy: 0.8410\n",
            "Epoch 18/1000\n",
            "536/536 [==============================] - 1s 2ms/step - loss: 0.2710 - accuracy: 0.8901 - val_loss: 0.4256 - val_accuracy: 0.8417\n",
            "Epoch 19/1000\n",
            "536/536 [==============================] - 1s 2ms/step - loss: 0.2726 - accuracy: 0.8901 - val_loss: 0.4237 - val_accuracy: 0.8368\n",
            "Epoch 20/1000\n",
            "536/536 [==============================] - 1s 2ms/step - loss: 0.2732 - accuracy: 0.8899 - val_loss: 0.4221 - val_accuracy: 0.8429\n",
            "Epoch 21/1000\n",
            "536/536 [==============================] - 1s 2ms/step - loss: 0.2717 - accuracy: 0.8923 - val_loss: 0.4329 - val_accuracy: 0.8379\n",
            "Epoch 22/1000\n",
            "536/536 [==============================] - 1s 2ms/step - loss: 0.2719 - accuracy: 0.8892 - val_loss: 0.4253 - val_accuracy: 0.8421\n",
            "Epoch 23/1000\n",
            "536/536 [==============================] - 1s 2ms/step - loss: 0.2723 - accuracy: 0.8893 - val_loss: 0.4286 - val_accuracy: 0.8421\n",
            "Epoch 24/1000\n",
            "536/536 [==============================] - 1s 2ms/step - loss: 0.2700 - accuracy: 0.8916 - val_loss: 0.4291 - val_accuracy: 0.8406\n",
            "Epoch 25/1000\n",
            "536/536 [==============================] - 1s 2ms/step - loss: 0.2709 - accuracy: 0.8925 - val_loss: 0.4245 - val_accuracy: 0.8402\n",
            "Epoch 26/1000\n",
            "536/536 [==============================] - 1s 2ms/step - loss: 0.2727 - accuracy: 0.8912 - val_loss: 0.4324 - val_accuracy: 0.8417\n",
            "Epoch 27/1000\n",
            "536/536 [==============================] - 1s 2ms/step - loss: 0.2725 - accuracy: 0.8903 - val_loss: 0.4257 - val_accuracy: 0.8398\n",
            "Epoch 28/1000\n",
            "536/536 [==============================] - 1s 2ms/step - loss: 0.2736 - accuracy: 0.8899 - val_loss: 0.4281 - val_accuracy: 0.8391\n",
            "Epoch 29/1000\n",
            "536/536 [==============================] - 1s 3ms/step - loss: 0.2716 - accuracy: 0.8897 - val_loss: 0.4307 - val_accuracy: 0.8364\n",
            "Epoch 30/1000\n",
            "536/536 [==============================] - 1s 2ms/step - loss: 0.2719 - accuracy: 0.8918 - val_loss: 0.4339 - val_accuracy: 0.8383\n",
            "Epoch 31/1000\n",
            "536/536 [==============================] - 1s 2ms/step - loss: 0.2703 - accuracy: 0.8923 - val_loss: 0.4345 - val_accuracy: 0.8391\n",
            "Epoch 32/1000\n",
            "536/536 [==============================] - 1s 3ms/step - loss: 0.2700 - accuracy: 0.8910 - val_loss: 0.4288 - val_accuracy: 0.8372\n",
            "Epoch 33/1000\n",
            "536/536 [==============================] - 1s 2ms/step - loss: 0.2761 - accuracy: 0.8895 - val_loss: 0.4246 - val_accuracy: 0.8425\n",
            "Epoch 34/1000\n",
            "536/536 [==============================] - 2s 3ms/step - loss: 0.2713 - accuracy: 0.8895 - val_loss: 0.4253 - val_accuracy: 0.8413\n",
            "Epoch 35/1000\n",
            "536/536 [==============================] - 2s 3ms/step - loss: 0.2721 - accuracy: 0.8914 - val_loss: 0.4266 - val_accuracy: 0.8398\n",
            "Epoch 36/1000\n",
            "536/536 [==============================] - 1s 3ms/step - loss: 0.2708 - accuracy: 0.8908 - val_loss: 0.4276 - val_accuracy: 0.8402\n",
            "Epoch 36: early stopping\n"
          ]
        }
      ],
      "source": [
        "model_history=classifier.fit(X_train, y_train, validation_split=0.33, batch_size=10, epochs=1000,callbacks=early_stopping)"
      ]
    },
    {
      "cell_type": "code",
      "execution_count": 92,
      "metadata": {},
      "outputs": [
        {
          "data": {
            "text/plain": [
              "dict_keys(['loss', 'accuracy', 'val_loss', 'val_accuracy'])"
            ]
          },
          "execution_count": 92,
          "metadata": {},
          "output_type": "execute_result"
        }
      ],
      "source": [
        "model_history.history.keys()"
      ]
    },
    {
      "cell_type": "code",
      "execution_count": 93,
      "metadata": {},
      "outputs": [
        {
          "data": {
            "image/png": "[encoded data removed]",
            "text/plain": [
              "<Figure size 432x288 with 1 Axes>"
            ]
          },
          "metadata": {
            "needs_background": "light"
          },
          "output_type": "display_data"
        }
      ],
      "source": [
        "# summarize history for accuracy\n",
        "plt.plot(model_history.history['accuracy'])\n",
        "plt.plot(model_history.history['val_accuracy'])\n",
        "plt.title('model accuracy')\n",
        "plt.ylabel('accuracy')\n",
        "plt.xlabel('epoch')\n",
        "plt.legend(['train', 'test'], loc='upper left')\n",
        "plt.show()"
      ]
    },
    {
      "cell_type": "code",
      "execution_count": 94,
      "metadata": {},
      "outputs": [
        {
          "data": {
            "image/png": "[encoded data removed]",
            "text/plain": [
              "<Figure size 432x288 with 1 Axes>"
            ]
          },
          "metadata": {
            "needs_background": "light"
          },
          "output_type": "display_data"
        }
      ],
      "source": [
        "# summarize history for loss\n",
        "plt.plot(model_history.history['loss'])\n",
        "plt.plot(model_history.history['val_loss'])\n",
        "plt.title('model loss')\n",
        "plt.ylabel('loss')\n",
        "plt.xlabel('epoch')\n",
        "plt.legend(['train', 'test'], loc='upper left')\n",
        "plt.show()"
      ]
    },
    {
      "cell_type": "code",
      "execution_count": 95,
      "metadata": {
        "id": "OYqCIIkDCd8S"
      },
      "outputs": [
        {
          "name": "stdout",
          "output_type": "stream",
          "text": [
            "63/63 [==============================] - 0s 1ms/step\n"
          ]
        }
      ],
      "source": [
        "# Part 3 - Making the predictions and evaluating the model\n",
        "\n",
        "# Predicting the Test set results\n",
        "y_pred = classifier.predict(X_test)\n",
        "y_pred = (y_pred > 0.5)"
      ]
    },
    {
      "cell_type": "code",
      "execution_count": 96,
      "metadata": {
        "colab": {
          "base_uri": "https://localhost:8080/"
        },
        "id": "cm3EeOGTCi3-",
        "outputId": "f3cfe210-0811-4c4e-ce72-4100b32bb79f"
      },
      "outputs": [
        {
          "data": {
            "text/plain": [
              "array([[1512,   88],\n",
              "       [ 229,  171]], dtype=int64)"
            ]
          },
          "execution_count": 96,
          "metadata": {},
          "output_type": "execute_result"
        }
      ],
      "source": [
        "# Making the Confusion Matrix\n",
        "from sklearn.metrics import confusion_matrix\n",
        "cm = confusion_matrix(y_test, y_pred)\n",
        "cm"
      ]
    },
    {
      "cell_type": "code",
      "execution_count": 97,
      "metadata": {
        "id": "FgfRKzzOClmP"
      },
      "outputs": [],
      "source": [
        "# Calculate the Accuracy\n",
        "from sklearn.metrics import accuracy_score\n",
        "score=accuracy_score(y_pred,y_test)"
      ]
    },
    {
      "cell_type": "code",
      "execution_count": 98,
      "metadata": {
        "colab": {
          "base_uri": "https://localhost:8080/"
        },
        "id": "a_C5EETrCpSj",
        "outputId": "6e495c58-0149-453b-b0d6-592606fe5c80"
      },
      "outputs": [
        {
          "data": {
            "text/plain": [
              "0.8415"
            ]
          },
          "execution_count": 98,
          "metadata": {},
          "output_type": "execute_result"
        }
      ],
      "source": [
        "score"
      ]
    }
  ],
  "metadata": {
    "colab": {
      "name": "Untitled63.ipynb",
      "provenance": []
    },
    "kernelspec": {
      "display_name": "Python 3",
      "language": "python",
      "name": "python3"
    },
    "language_info": {
      "codemirror_mode": {
        "name": "ipython",
        "version": 3
      },
      "file_extension": ".py",
      "mimetype": "text/x-python",
      "name": "python",
      "nbconvert_exporter": "python",
      "pygments_lexer": "ipython3",
      "version": "3.10.6"
    },
    "vscode": {
      "interpreter": {
        "hash": "49fd5712af1c3ece0edd15a96db780ec3225b5f1f993546e31e22d59c14f183a"
      }
    }
  },
  "nbformat": 4,
  "nbformat_minor": 0
}
