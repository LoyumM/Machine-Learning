{
 "cells": [
  {
   "cell_type": "code",
   "execution_count": 1,
   "metadata": {},
   "outputs": [],
   "source": [
    "import numpy as np\n",
    "import pandas as pd\n",
    "import tensorflow as tf\n",
    "import matplotlib.pyplot as plt\n",
    "from sklearn.model_selection import train_test_split\n",
    "\n",
    "from tensorflow.keras.preprocessing.text import Tokenizer\n",
    "from tensorflow.keras.preprocessing.sequence import pad_sequences\n",
    "from tensorflow.keras.layers import Dense, Input, GlobalMaxPooling1D\n",
    "from tensorflow.keras.layers import LSTM, GRU, SimpleRNN, Embedding\n",
    "from tensorflow.keras.models import Model\n",
    "from tensorflow.keras.losses import SparseCategoricalCrossentropy"
   ]
  },
  {
   "cell_type": "code",
   "execution_count": 2,
   "metadata": {},
   "outputs": [
    {
     "data": {
      "text/html": [
       "<div>\n",
       "<style scoped>\n",
       "    .dataframe tbody tr th:only-of-type {\n",
       "        vertical-align: middle;\n",
       "    }\n",
       "\n",
       "    .dataframe tbody tr th {\n",
       "        vertical-align: top;\n",
       "    }\n",
       "\n",
       "    .dataframe thead th {\n",
       "        text-align: right;\n",
       "    }\n",
       "</style>\n",
       "<table border=\"1\" class=\"dataframe\">\n",
       "  <thead>\n",
       "    <tr style=\"text-align: right;\">\n",
       "      <th></th>\n",
       "      <th>text</th>\n",
       "      <th>labels</th>\n",
       "    </tr>\n",
       "  </thead>\n",
       "  <tbody>\n",
       "    <tr>\n",
       "      <th>0</th>\n",
       "      <td>Ad sales boost Time Warner profit\\n\\nQuarterly...</td>\n",
       "      <td>business</td>\n",
       "    </tr>\n",
       "    <tr>\n",
       "      <th>1</th>\n",
       "      <td>Dollar gains on Greenspan speech\\n\\nThe dollar...</td>\n",
       "      <td>business</td>\n",
       "    </tr>\n",
       "    <tr>\n",
       "      <th>2</th>\n",
       "      <td>Yukos unit buyer faces loan claim\\n\\nThe owner...</td>\n",
       "      <td>business</td>\n",
       "    </tr>\n",
       "    <tr>\n",
       "      <th>3</th>\n",
       "      <td>High fuel prices hit BA's profits\\n\\nBritish A...</td>\n",
       "      <td>business</td>\n",
       "    </tr>\n",
       "    <tr>\n",
       "      <th>4</th>\n",
       "      <td>Pernod takeover talk lifts Domecq\\n\\nShares in...</td>\n",
       "      <td>business</td>\n",
       "    </tr>\n",
       "  </tbody>\n",
       "</table>\n",
       "</div>"
      ],
      "text/plain": [
       "                                                text    labels\n",
       "0  Ad sales boost Time Warner profit\\n\\nQuarterly...  business\n",
       "1  Dollar gains on Greenspan speech\\n\\nThe dollar...  business\n",
       "2  Yukos unit buyer faces loan claim\\n\\nThe owner...  business\n",
       "3  High fuel prices hit BA's profits\\n\\nBritish A...  business\n",
       "4  Pernod takeover talk lifts Domecq\\n\\nShares in...  business"
      ]
     },
     "execution_count": 2,
     "metadata": {},
     "output_type": "execute_result"
    }
   ],
   "source": [
    "df = pd.read_csv(r\"D:\\Notes and Exercises\\Machine-Learning\\dataset\\bbc_text_cls.csv\")\n",
    "df.head()"
   ]
  },
  {
   "cell_type": "code",
   "execution_count": 3,
   "metadata": {},
   "outputs": [],
   "source": [
    "df['targets'] = df['labels'].astype(\"category\").cat.codes"
   ]
  },
  {
   "cell_type": "code",
   "execution_count": 4,
   "metadata": {},
   "outputs": [
    {
     "data": {
      "text/plain": [
       "5"
      ]
     },
     "execution_count": 4,
     "metadata": {},
     "output_type": "execute_result"
    }
   ],
   "source": [
    "# number of classes\n",
    "K = df['targets'].max() + 1\n",
    "K"
   ]
  },
  {
   "cell_type": "code",
   "execution_count": 5,
   "metadata": {},
   "outputs": [],
   "source": [
    "df_train, df_test = train_test_split(df, test_size=0.3)"
   ]
  },
  {
   "cell_type": "code",
   "execution_count": 6,
   "metadata": {},
   "outputs": [],
   "source": [
    "# Convert sentences to sequences\n",
    "MAX_VOCAB_SIZE = 2000\n",
    "tokenizer = Tokenizer(num_words=MAX_VOCAB_SIZE)\n",
    "tokenizer.fit_on_texts(df_train['text'])\n",
    "sequences_train = tokenizer.texts_to_sequences(df_train['text'])\n",
    "sequences_test = tokenizer.texts_to_sequences(df_test['text'])"
   ]
  },
  {
   "cell_type": "code",
   "execution_count": 7,
   "metadata": {},
   "outputs": [
    {
     "name": "stdout",
     "output_type": "stream",
     "text": [
      "Found 27790 unique tokens.\n"
     ]
    }
   ],
   "source": [
    "# get word -> integer mapping\n",
    "word2idx = tokenizer.word_index\n",
    "V = len(word2idx)\n",
    "print('Found %s unique tokens.' % V)"
   ]
  },
  {
   "cell_type": "code",
   "execution_count": 8,
   "metadata": {},
   "outputs": [
    {
     "name": "stdout",
     "output_type": "stream",
     "text": [
      "Shape of data train tensor: (1557, 2828)\n"
     ]
    }
   ],
   "source": [
    "# pad sequences so that we get a N x T matrix\n",
    "data_train = pad_sequences(sequences_train)\n",
    "print('Shape of data train tensor:', data_train.shape)\n",
    "\n",
    "# get sequence length\n",
    "T = data_train.shape[1]"
   ]
  },
  {
   "cell_type": "code",
   "execution_count": 9,
   "metadata": {},
   "outputs": [
    {
     "name": "stdout",
     "output_type": "stream",
     "text": [
      "Shape of data test tensor: (668, 2828)\n"
     ]
    }
   ],
   "source": [
    "data_test = pad_sequences(sequences_test, maxlen=T)\n",
    "print('Shape of data test tensor:', data_test.shape)"
   ]
  },
  {
   "cell_type": "code",
   "execution_count": 10,
   "metadata": {},
   "outputs": [],
   "source": [
    "# Create the model\n",
    "\n",
    "# We get to choose embedding dimensionality\n",
    "D = 20\n",
    "\n",
    "# Note: we actually want to the size of the embedding to (V + 1) x D,\n",
    "# because the first index starts from 1 and not 0.\n",
    "# Thus, if the final index of the embedding matrix is V,\n",
    "# then it actually must have size V + 1.\n",
    "\n",
    "i = Input(shape=(T,))\n",
    "x = Embedding(V + 1, D)(i)\n",
    "x = LSTM(32, return_sequences=True)(x)\n",
    "x = GlobalMaxPooling1D()(x)\n",
    "x = Dense(K)(x)\n",
    "\n",
    "model = Model(i, x)"
   ]
  },
  {
   "cell_type": "code",
   "execution_count": 11,
   "metadata": {},
   "outputs": [],
   "source": [
    "# Exercise: try other models\n",
    "# 1) multiple LSTM layers\n",
    "# 2) GRU instead of LSTM\n",
    "# 3) SimpleRNN instead of LSTM\n",
    "# 4) return_sequences=False, and no maxpool\n",
    "# 5) For 1-4, try different values of number of hidden units\n",
    "# 6) Combinations of the above\n",
    "\n",
    "# Common beginner question:\n",
    "# \"how can I choose the best combination of hyperparameters?\"\n",
    "# This is how! There is no shortcut!"
   ]
  },
  {
   "cell_type": "code",
   "execution_count": 12,
   "metadata": {},
   "outputs": [
    {
     "name": "stdout",
     "output_type": "stream",
     "text": [
      "Training model...\n",
      "Epoch 1/50\n",
      "49/49 [==============================] - 89s 2s/step - loss: 1.6004 - accuracy: 0.2447 - val_loss: 1.5878 - val_accuracy: 0.3683\n",
      "Epoch 2/50\n",
      "49/49 [==============================] - 48s 982ms/step - loss: 1.5944 - accuracy: 0.3950 - val_loss: 1.4924 - val_accuracy: 0.4491\n",
      "Epoch 3/50\n",
      "49/49 [==============================] - 54s 1s/step - loss: 1.3177 - accuracy: 0.4811 - val_loss: 1.1998 - val_accuracy: 0.4820\n",
      "Epoch 4/50\n",
      "49/49 [==============================] - 64s 1s/step - loss: 1.1536 - accuracy: 0.5780 - val_loss: 1.1454 - val_accuracy: 0.5509\n",
      "Epoch 5/50\n",
      "49/49 [==============================] - 81s 2s/step - loss: 1.0200 - accuracy: 0.6859 - val_loss: 1.0202 - val_accuracy: 0.6332\n",
      "Epoch 6/50\n",
      "49/49 [==============================] - 82s 2s/step - loss: 0.9185 - accuracy: 0.6846 - val_loss: 0.9032 - val_accuracy: 0.6557\n",
      "Epoch 7/50\n",
      "49/49 [==============================] - 102s 2s/step - loss: 0.7940 - accuracy: 0.7225 - val_loss: 0.7929 - val_accuracy: 0.7051\n",
      "Epoch 8/50\n",
      "49/49 [==============================] - 105s 2s/step - loss: 0.6575 - accuracy: 0.8304 - val_loss: 0.6711 - val_accuracy: 0.8114\n",
      "Epoch 9/50\n",
      "49/49 [==============================] - 85s 2s/step - loss: 0.5075 - accuracy: 0.8985 - val_loss: 0.6418 - val_accuracy: 0.6991\n",
      "Epoch 10/50\n",
      "49/49 [==============================] - 89s 2s/step - loss: 0.4320 - accuracy: 0.8908 - val_loss: 0.4596 - val_accuracy: 0.8787\n",
      "Epoch 11/50\n",
      "49/49 [==============================] - 92s 2s/step - loss: 0.3368 - accuracy: 0.9396 - val_loss: 0.5861 - val_accuracy: 0.8308\n",
      "Epoch 12/50\n",
      "49/49 [==============================] - 86s 2s/step - loss: 0.3147 - accuracy: 0.9435 - val_loss: 0.5559 - val_accuracy: 0.8114\n",
      "Epoch 13/50\n",
      "49/49 [==============================] - 84s 2s/step - loss: 0.5349 - accuracy: 0.8523 - val_loss: 0.4851 - val_accuracy: 0.9222\n",
      "Epoch 14/50\n",
      "49/49 [==============================] - 75s 2s/step - loss: 0.3213 - accuracy: 0.9775 - val_loss: 0.3569 - val_accuracy: 0.9476\n",
      "Epoch 15/50\n",
      "49/49 [==============================] - 70s 1s/step - loss: 0.2224 - accuracy: 0.9846 - val_loss: 0.2715 - val_accuracy: 0.9536\n",
      "Epoch 16/50\n",
      "49/49 [==============================] - 68s 1s/step - loss: 0.1547 - accuracy: 0.9872 - val_loss: 0.2233 - val_accuracy: 0.9536\n",
      "Epoch 17/50\n",
      "49/49 [==============================] - 68s 1s/step - loss: 0.1133 - accuracy: 0.9929 - val_loss: 0.1908 - val_accuracy: 0.9566\n",
      "Epoch 18/50\n",
      "49/49 [==============================] - 69s 1s/step - loss: 0.0855 - accuracy: 0.9923 - val_loss: 0.1626 - val_accuracy: 0.9596\n",
      "Epoch 19/50\n",
      "49/49 [==============================] - 68s 1s/step - loss: 0.0655 - accuracy: 0.9949 - val_loss: 0.1535 - val_accuracy: 0.9611\n",
      "Epoch 20/50\n",
      "49/49 [==============================] - 69s 1s/step - loss: 0.0520 - accuracy: 0.9942 - val_loss: 0.1531 - val_accuracy: 0.9581\n",
      "Epoch 21/50\n",
      "49/49 [==============================] - 68s 1s/step - loss: 0.0428 - accuracy: 0.9955 - val_loss: 0.1504 - val_accuracy: 0.9551\n",
      "Epoch 22/50\n",
      "49/49 [==============================] - 68s 1s/step - loss: 0.0431 - accuracy: 0.9949 - val_loss: 0.1408 - val_accuracy: 0.9566\n",
      "Epoch 23/50\n",
      "49/49 [==============================] - 70s 1s/step - loss: 0.0279 - accuracy: 0.9994 - val_loss: 0.1520 - val_accuracy: 0.9476\n",
      "Epoch 24/50\n",
      "49/49 [==============================] - 69s 1s/step - loss: 0.0231 - accuracy: 1.0000 - val_loss: 0.1444 - val_accuracy: 0.9521\n",
      "Epoch 25/50\n",
      "49/49 [==============================] - 69s 1s/step - loss: 0.0189 - accuracy: 1.0000 - val_loss: 0.1500 - val_accuracy: 0.9521\n",
      "Epoch 26/50\n",
      "49/49 [==============================] - 69s 1s/step - loss: 0.0166 - accuracy: 1.0000 - val_loss: 0.1833 - val_accuracy: 0.9401\n",
      "Epoch 27/50\n",
      "49/49 [==============================] - 68s 1s/step - loss: 0.0161 - accuracy: 0.9994 - val_loss: 0.1700 - val_accuracy: 0.9461\n",
      "Epoch 28/50\n",
      "49/49 [==============================] - 69s 1s/step - loss: 0.0142 - accuracy: 0.9994 - val_loss: 0.1744 - val_accuracy: 0.9491\n",
      "Epoch 29/50\n",
      "49/49 [==============================] - 68s 1s/step - loss: 0.0123 - accuracy: 1.0000 - val_loss: 0.1652 - val_accuracy: 0.9521\n",
      "Epoch 30/50\n",
      "49/49 [==============================] - 68s 1s/step - loss: 0.0112 - accuracy: 1.0000 - val_loss: 0.1725 - val_accuracy: 0.9506\n",
      "Epoch 31/50\n",
      "49/49 [==============================] - 68s 1s/step - loss: 0.0102 - accuracy: 1.0000 - val_loss: 0.1842 - val_accuracy: 0.9476\n",
      "Epoch 32/50\n",
      "49/49 [==============================] - 69s 1s/step - loss: 0.0095 - accuracy: 1.0000 - val_loss: 0.1972 - val_accuracy: 0.9446\n",
      "Epoch 33/50\n",
      "49/49 [==============================] - 68s 1s/step - loss: 0.0088 - accuracy: 1.0000 - val_loss: 0.1967 - val_accuracy: 0.9476\n",
      "Epoch 34/50\n",
      "49/49 [==============================] - 69s 1s/step - loss: 0.0082 - accuracy: 1.0000 - val_loss: 0.2056 - val_accuracy: 0.9431\n",
      "Epoch 35/50\n",
      "49/49 [==============================] - 69s 1s/step - loss: 0.0078 - accuracy: 1.0000 - val_loss: 0.2053 - val_accuracy: 0.9461\n",
      "Epoch 36/50\n",
      "49/49 [==============================] - 69s 1s/step - loss: 0.0072 - accuracy: 1.0000 - val_loss: 0.2066 - val_accuracy: 0.9431\n",
      "Epoch 37/50\n",
      "49/49 [==============================] - 69s 1s/step - loss: 0.0069 - accuracy: 1.0000 - val_loss: 0.2053 - val_accuracy: 0.9446\n",
      "Epoch 38/50\n",
      "49/49 [==============================] - 69s 1s/step - loss: 0.0064 - accuracy: 1.0000 - val_loss: 0.2127 - val_accuracy: 0.9416\n",
      "Epoch 39/50\n",
      "49/49 [==============================] - 69s 1s/step - loss: 0.0060 - accuracy: 1.0000 - val_loss: 0.2189 - val_accuracy: 0.9401\n",
      "Epoch 40/50\n",
      "49/49 [==============================] - 69s 1s/step - loss: 0.0057 - accuracy: 1.0000 - val_loss: 0.2254 - val_accuracy: 0.9401\n",
      "Epoch 41/50\n",
      "49/49 [==============================] - 69s 1s/step - loss: 0.0054 - accuracy: 1.0000 - val_loss: 0.2277 - val_accuracy: 0.9356\n",
      "Epoch 42/50\n",
      "49/49 [==============================] - 69s 1s/step - loss: 0.0051 - accuracy: 1.0000 - val_loss: 0.2340 - val_accuracy: 0.9341\n",
      "Epoch 43/50\n",
      "49/49 [==============================] - 68s 1s/step - loss: 0.0049 - accuracy: 1.0000 - val_loss: 0.2338 - val_accuracy: 0.9416\n",
      "Epoch 44/50\n",
      "49/49 [==============================] - 69s 1s/step - loss: 0.0047 - accuracy: 1.0000 - val_loss: 0.2290 - val_accuracy: 0.9371\n",
      "Epoch 45/50\n",
      "49/49 [==============================] - 69s 1s/step - loss: 0.0044 - accuracy: 1.0000 - val_loss: 0.2317 - val_accuracy: 0.9386\n",
      "Epoch 46/50\n",
      "49/49 [==============================] - 68s 1s/step - loss: 0.0042 - accuracy: 1.0000 - val_loss: 0.2441 - val_accuracy: 0.9356\n",
      "Epoch 47/50\n",
      "49/49 [==============================] - 69s 1s/step - loss: 0.0041 - accuracy: 1.0000 - val_loss: 0.2269 - val_accuracy: 0.9461\n",
      "Epoch 48/50\n",
      "49/49 [==============================] - 69s 1s/step - loss: 0.0040 - accuracy: 1.0000 - val_loss: 0.2281 - val_accuracy: 0.9461\n",
      "Epoch 49/50\n",
      "49/49 [==============================] - 71s 1s/step - loss: 0.0037 - accuracy: 1.0000 - val_loss: 0.2238 - val_accuracy: 0.9461\n",
      "Epoch 50/50\n",
      "49/49 [==============================] - 69s 1s/step - loss: 0.0035 - accuracy: 1.0000 - val_loss: 0.2346 - val_accuracy: 0.9476\n"
     ]
    }
   ],
   "source": [
    "# Compile and fit\n",
    "model.compile(\n",
    "  loss=SparseCategoricalCrossentropy(from_logits=True),\n",
    "  optimizer='adam',\n",
    "  metrics=['accuracy']\n",
    ")\n",
    "\n",
    "\n",
    "print('Training model...')\n",
    "r = model.fit(\n",
    "  data_train,\n",
    "  df_train['targets'],\n",
    "  epochs=50,\n",
    "  validation_data=(data_test, df_test['targets'])\n",
    ")"
   ]
  },
  {
   "cell_type": "code",
   "execution_count": 13,
   "metadata": {},
   "outputs": [
    {
     "data": {
      "image/png": "[encoded data removed]",
      "text/plain": [
       "<Figure size 432x288 with 1 Axes>"
      ]
     },
     "metadata": {
      "needs_background": "light"
     },
     "output_type": "display_data"
    }
   ],
   "source": [
    "# Plot loss per iteration\n",
    "plt.plot(r.history['loss'], label='train loss')\n",
    "plt.plot(r.history['val_loss'], label='val loss')\n",
    "plt.legend();"
   ]
  },
  {
   "cell_type": "code",
   "execution_count": 14,
   "metadata": {},
   "outputs": [
    {
     "data": {
      "image/png": "[encoded data removed]",
      "text/plain": [
       "<Figure size 432x288 with 1 Axes>"
      ]
     },
     "metadata": {
      "needs_background": "light"
     },
     "output_type": "display_data"
    }
   ],
   "source": [
    "# Plot accuracy per iteration\n",
    "plt.plot(r.history['accuracy'], label='train acc')\n",
    "plt.plot(r.history['val_accuracy'], label='val acc')\n",
    "plt.legend();"
   ]
  }
 ],
 "metadata": {
  "kernelspec": {
   "display_name": "Python 3",
   "language": "python",
   "name": "python3"
  },
  "language_info": {
   "codemirror_mode": {
    "name": "ipython",
    "version": 3
   },
   "file_extension": ".py",
   "mimetype": "text/x-python",
   "name": "python",
   "nbconvert_exporter": "python",
   "pygments_lexer": "ipython3",
   "version": "3.10.6"
  },
  "orig_nbformat": 4
 },
 "nbformat": 4,
 "nbformat_minor": 2
}
