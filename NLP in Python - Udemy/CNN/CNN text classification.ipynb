{
 "cells": [
  {
   "cell_type": "code",
   "execution_count": 1,
   "metadata": {},
   "outputs": [],
   "source": [
    "import numpy as np\n",
    "import pandas as pd\n",
    "import tensorflow as tf\n",
    "import matplotlib.pyplot as plt\n",
    "from sklearn.model_selection import train_test_split\n",
    "\n",
    "from tensorflow.keras.preprocessing.text import Tokenizer\n",
    "from tensorflow.keras.preprocessing.sequence import pad_sequences\n",
    "from tensorflow.keras.layers import Dense, Input, GlobalMaxPooling1D\n",
    "from tensorflow.keras.layers import Conv1D, MaxPooling1D, Embedding\n",
    "from tensorflow.keras.models import Model\n",
    "from tensorflow.keras.losses import SparseCategoricalCrossentropy"
   ]
  },
  {
   "cell_type": "code",
   "execution_count": 2,
   "metadata": {},
   "outputs": [
    {
     "data": {
      "text/html": [
       "<div>\n",
       "<style scoped>\n",
       "    .dataframe tbody tr th:only-of-type {\n",
       "        vertical-align: middle;\n",
       "    }\n",
       "\n",
       "    .dataframe tbody tr th {\n",
       "        vertical-align: top;\n",
       "    }\n",
       "\n",
       "    .dataframe thead th {\n",
       "        text-align: right;\n",
       "    }\n",
       "</style>\n",
       "<table border=\"1\" class=\"dataframe\">\n",
       "  <thead>\n",
       "    <tr style=\"text-align: right;\">\n",
       "      <th></th>\n",
       "      <th>text</th>\n",
       "      <th>labels</th>\n",
       "    </tr>\n",
       "  </thead>\n",
       "  <tbody>\n",
       "    <tr>\n",
       "      <th>0</th>\n",
       "      <td>Ad sales boost Time Warner profit\\n\\nQuarterly...</td>\n",
       "      <td>business</td>\n",
       "    </tr>\n",
       "    <tr>\n",
       "      <th>1</th>\n",
       "      <td>Dollar gains on Greenspan speech\\n\\nThe dollar...</td>\n",
       "      <td>business</td>\n",
       "    </tr>\n",
       "    <tr>\n",
       "      <th>2</th>\n",
       "      <td>Yukos unit buyer faces loan claim\\n\\nThe owner...</td>\n",
       "      <td>business</td>\n",
       "    </tr>\n",
       "    <tr>\n",
       "      <th>3</th>\n",
       "      <td>High fuel prices hit BA's profits\\n\\nBritish A...</td>\n",
       "      <td>business</td>\n",
       "    </tr>\n",
       "    <tr>\n",
       "      <th>4</th>\n",
       "      <td>Pernod takeover talk lifts Domecq\\n\\nShares in...</td>\n",
       "      <td>business</td>\n",
       "    </tr>\n",
       "  </tbody>\n",
       "</table>\n",
       "</div>"
      ],
      "text/plain": [
       "                                                text    labels\n",
       "0  Ad sales boost Time Warner profit\\n\\nQuarterly...  business\n",
       "1  Dollar gains on Greenspan speech\\n\\nThe dollar...  business\n",
       "2  Yukos unit buyer faces loan claim\\n\\nThe owner...  business\n",
       "3  High fuel prices hit BA's profits\\n\\nBritish A...  business\n",
       "4  Pernod takeover talk lifts Domecq\\n\\nShares in...  business"
      ]
     },
     "execution_count": 2,
     "metadata": {},
     "output_type": "execute_result"
    }
   ],
   "source": [
    "df = pd.read_csv(r\"D:\\Notes and Exercises\\Machine-Learning\\dataset\\bbc_text_cls.csv\")\n",
    "df.head()"
   ]
  },
  {
   "cell_type": "code",
   "execution_count": 3,
   "metadata": {},
   "outputs": [],
   "source": [
    "df['targets'] = df['labels'].astype(\"category\").cat.codes"
   ]
  },
  {
   "cell_type": "code",
   "execution_count": 6,
   "metadata": {},
   "outputs": [
    {
     "data": {
      "text/plain": [
       "5"
      ]
     },
     "execution_count": 6,
     "metadata": {},
     "output_type": "execute_result"
    }
   ],
   "source": [
    "# number of classes\n",
    "K = df['targets'].max() + 1\n",
    "K"
   ]
  },
  {
   "cell_type": "code",
   "execution_count": 7,
   "metadata": {},
   "outputs": [],
   "source": [
    "df_train, df_test = train_test_split(df, test_size=0.3)"
   ]
  },
  {
   "cell_type": "code",
   "execution_count": 8,
   "metadata": {},
   "outputs": [],
   "source": [
    "# convert sentences to sequences\n",
    "MAX_VOCAB_SIZE = 2000\n",
    "tokenizer = Tokenizer(num_words = MAX_VOCAB_SIZE)\n",
    "tokenizer.fit_on_texts(df_train['text'])\n",
    "sequences_train = tokenizer.texts_to_sequences(df_train['text'])\n",
    "sequences_test = tokenizer.texts_to_sequences(df_test['text'])"
   ]
  },
  {
   "cell_type": "code",
   "execution_count": 9,
   "metadata": {},
   "outputs": [
    {
     "name": "stdout",
     "output_type": "stream",
     "text": [
      "Found 27765 unique tokens.\n"
     ]
    }
   ],
   "source": [
    "# get word -> integer mapping\n",
    "word2idx = tokenizer.word_index\n",
    "V = len(word2idx)\n",
    "print('Found %s unique tokens.' % V)"
   ]
  },
  {
   "cell_type": "code",
   "execution_count": 10,
   "metadata": {},
   "outputs": [
    {
     "name": "stdout",
     "output_type": "stream",
     "text": [
      "Shape of data train tensor: (1557, 2841)\n"
     ]
    }
   ],
   "source": [
    "# pad sequences so that we get a N x T matrix\n",
    "data_train = pad_sequences(sequences_train)\n",
    "print('Shape of data train tensor:', data_train.shape)\n",
    "\n",
    "# get sequence length\n",
    "T = data_train.shape[1]"
   ]
  },
  {
   "cell_type": "code",
   "execution_count": 11,
   "metadata": {},
   "outputs": [
    {
     "name": "stdout",
     "output_type": "stream",
     "text": [
      "Shape of data test tensor: (668, 2841)\n"
     ]
    }
   ],
   "source": [
    "data_test = pad_sequences(sequences_test, maxlen=T)\n",
    "print('Shape of data test tensor:', data_test.shape)"
   ]
  },
  {
   "cell_type": "code",
   "execution_count": 12,
   "metadata": {},
   "outputs": [],
   "source": [
    "# Create the model\n",
    "\n",
    "# We get to choose embedding dimensionality\n",
    "D = 50\n",
    "\n",
    "# Note: we actually want to the size of the embedding to (V + 1) x D,\n",
    "# because the first index starts from 1 and not 0.\n",
    "# Thus, if the final index of the embedding matrix is V,\n",
    "# then it actually must have size V + 1.\n",
    "\n",
    "i = Input(shape=(T,))\n",
    "x = Embedding(V + 1, D)(i)\n",
    "x = Conv1D(32, 3, activation='relu')(x)\n",
    "# x = MaxPooling1D(3)(x)\n",
    "# x = Conv1D(64, 3, activation='relu')(x)\n",
    "# x = MaxPooling1D(3)(x)\n",
    "# x = Conv1D(128, 3, activation='relu')(x)\n",
    "x = GlobalMaxPooling1D()(x)\n",
    "x = Dense(K)(x)\n",
    "\n",
    "model = Model(i, x)"
   ]
  },
  {
   "cell_type": "code",
   "execution_count": 13,
   "metadata": {},
   "outputs": [
    {
     "name": "stdout",
     "output_type": "stream",
     "text": [
      "Training model...\n",
      "Epoch 1/50\n",
      "49/49 [==============================] - 4s 64ms/step - loss: 1.5594 - accuracy: 0.3610 - val_loss: 1.4884 - val_accuracy: 0.5045\n",
      "Epoch 2/50\n",
      "49/49 [==============================] - 3s 57ms/step - loss: 1.3126 - accuracy: 0.6846 - val_loss: 1.1769 - val_accuracy: 0.7635\n",
      "Epoch 3/50\n",
      "49/49 [==============================] - 3s 57ms/step - loss: 0.8916 - accuracy: 0.8786 - val_loss: 0.7403 - val_accuracy: 0.8832\n",
      "Epoch 4/50\n",
      "49/49 [==============================] - 3s 55ms/step - loss: 0.4744 - accuracy: 0.9493 - val_loss: 0.4427 - val_accuracy: 0.9087\n",
      "Epoch 5/50\n",
      "49/49 [==============================] - 3s 57ms/step - loss: 0.2542 - accuracy: 0.9705 - val_loss: 0.3223 - val_accuracy: 0.9311\n",
      "Epoch 6/50\n",
      "49/49 [==============================] - 3s 57ms/step - loss: 0.1573 - accuracy: 0.9807 - val_loss: 0.2677 - val_accuracy: 0.9416\n",
      "Epoch 7/50\n",
      "49/49 [==============================] - 3s 58ms/step - loss: 0.1061 - accuracy: 0.9852 - val_loss: 0.2426 - val_accuracy: 0.9446\n",
      "Epoch 8/50\n",
      "49/49 [==============================] - 3s 56ms/step - loss: 0.0750 - accuracy: 0.9904 - val_loss: 0.2252 - val_accuracy: 0.9461\n",
      "Epoch 9/50\n",
      "49/49 [==============================] - 3s 56ms/step - loss: 0.0550 - accuracy: 0.9936 - val_loss: 0.2136 - val_accuracy: 0.9476\n",
      "Epoch 10/50\n",
      "49/49 [==============================] - 3s 54ms/step - loss: 0.0410 - accuracy: 0.9974 - val_loss: 0.2060 - val_accuracy: 0.9476\n",
      "Epoch 11/50\n",
      "49/49 [==============================] - 3s 54ms/step - loss: 0.0312 - accuracy: 0.9981 - val_loss: 0.2027 - val_accuracy: 0.9461\n",
      "Epoch 12/50\n",
      "49/49 [==============================] - 3s 53ms/step - loss: 0.0244 - accuracy: 0.9987 - val_loss: 0.1986 - val_accuracy: 0.9476\n",
      "Epoch 13/50\n",
      "49/49 [==============================] - 3s 53ms/step - loss: 0.0194 - accuracy: 1.0000 - val_loss: 0.1967 - val_accuracy: 0.9476\n",
      "Epoch 14/50\n",
      "49/49 [==============================] - 3s 54ms/step - loss: 0.0157 - accuracy: 1.0000 - val_loss: 0.1966 - val_accuracy: 0.9476\n",
      "Epoch 15/50\n",
      "49/49 [==============================] - 3s 54ms/step - loss: 0.0129 - accuracy: 1.0000 - val_loss: 0.1962 - val_accuracy: 0.9476\n",
      "Epoch 16/50\n",
      "49/49 [==============================] - 3s 54ms/step - loss: 0.0108 - accuracy: 1.0000 - val_loss: 0.1960 - val_accuracy: 0.9476\n",
      "Epoch 17/50\n",
      "49/49 [==============================] - 3s 55ms/step - loss: 0.0092 - accuracy: 1.0000 - val_loss: 0.1967 - val_accuracy: 0.9476\n",
      "Epoch 18/50\n",
      "49/49 [==============================] - 3s 54ms/step - loss: 0.0079 - accuracy: 1.0000 - val_loss: 0.1968 - val_accuracy: 0.9461\n",
      "Epoch 19/50\n",
      "49/49 [==============================] - 3s 54ms/step - loss: 0.0068 - accuracy: 1.0000 - val_loss: 0.1970 - val_accuracy: 0.9461\n",
      "Epoch 20/50\n",
      "49/49 [==============================] - 3s 54ms/step - loss: 0.0060 - accuracy: 1.0000 - val_loss: 0.1976 - val_accuracy: 0.9476\n",
      "Epoch 21/50\n",
      "49/49 [==============================] - 3s 57ms/step - loss: 0.0052 - accuracy: 1.0000 - val_loss: 0.1983 - val_accuracy: 0.9476\n",
      "Epoch 22/50\n",
      "49/49 [==============================] - 3s 54ms/step - loss: 0.0047 - accuracy: 1.0000 - val_loss: 0.1991 - val_accuracy: 0.9476\n",
      "Epoch 23/50\n",
      "49/49 [==============================] - 3s 54ms/step - loss: 0.0042 - accuracy: 1.0000 - val_loss: 0.1994 - val_accuracy: 0.9476\n",
      "Epoch 24/50\n",
      "49/49 [==============================] - 3s 53ms/step - loss: 0.0037 - accuracy: 1.0000 - val_loss: 0.2004 - val_accuracy: 0.9476\n",
      "Epoch 25/50\n",
      "49/49 [==============================] - 3s 54ms/step - loss: 0.0034 - accuracy: 1.0000 - val_loss: 0.2011 - val_accuracy: 0.9476\n",
      "Epoch 26/50\n",
      "49/49 [==============================] - 3s 53ms/step - loss: 0.0031 - accuracy: 1.0000 - val_loss: 0.2020 - val_accuracy: 0.9476\n",
      "Epoch 27/50\n",
      "49/49 [==============================] - 3s 54ms/step - loss: 0.0028 - accuracy: 1.0000 - val_loss: 0.2028 - val_accuracy: 0.9476\n",
      "Epoch 28/50\n",
      "49/49 [==============================] - 3s 54ms/step - loss: 0.0025 - accuracy: 1.0000 - val_loss: 0.2035 - val_accuracy: 0.9476\n",
      "Epoch 29/50\n",
      "49/49 [==============================] - 3s 54ms/step - loss: 0.0023 - accuracy: 1.0000 - val_loss: 0.2041 - val_accuracy: 0.9476\n",
      "Epoch 30/50\n",
      "49/49 [==============================] - 3s 55ms/step - loss: 0.0021 - accuracy: 1.0000 - val_loss: 0.2052 - val_accuracy: 0.9476\n",
      "Epoch 31/50\n",
      "49/49 [==============================] - 3s 54ms/step - loss: 0.0020 - accuracy: 1.0000 - val_loss: 0.2059 - val_accuracy: 0.9476\n",
      "Epoch 32/50\n",
      "49/49 [==============================] - 3s 54ms/step - loss: 0.0018 - accuracy: 1.0000 - val_loss: 0.2066 - val_accuracy: 0.9476\n",
      "Epoch 33/50\n",
      "49/49 [==============================] - 3s 53ms/step - loss: 0.0017 - accuracy: 1.0000 - val_loss: 0.2073 - val_accuracy: 0.9491\n",
      "Epoch 34/50\n",
      "49/49 [==============================] - 3s 57ms/step - loss: 0.0016 - accuracy: 1.0000 - val_loss: 0.2083 - val_accuracy: 0.9491\n",
      "Epoch 35/50\n",
      "49/49 [==============================] - 3s 60ms/step - loss: 0.0015 - accuracy: 1.0000 - val_loss: 0.2090 - val_accuracy: 0.9491\n",
      "Epoch 36/50\n",
      "49/49 [==============================] - 3s 60ms/step - loss: 0.0014 - accuracy: 1.0000 - val_loss: 0.2099 - val_accuracy: 0.9491\n",
      "Epoch 37/50\n",
      "49/49 [==============================] - 3s 60ms/step - loss: 0.0013 - accuracy: 1.0000 - val_loss: 0.2108 - val_accuracy: 0.9491\n",
      "Epoch 38/50\n",
      "49/49 [==============================] - 3s 60ms/step - loss: 0.0012 - accuracy: 1.0000 - val_loss: 0.2113 - val_accuracy: 0.9491\n",
      "Epoch 39/50\n",
      "49/49 [==============================] - 3s 61ms/step - loss: 0.0011 - accuracy: 1.0000 - val_loss: 0.2123 - val_accuracy: 0.9491\n",
      "Epoch 40/50\n",
      "49/49 [==============================] - 3s 60ms/step - loss: 0.0010 - accuracy: 1.0000 - val_loss: 0.2130 - val_accuracy: 0.9491\n",
      "Epoch 41/50\n",
      "49/49 [==============================] - 3s 59ms/step - loss: 9.8547e-04 - accuracy: 1.0000 - val_loss: 0.2135 - val_accuracy: 0.9491\n",
      "Epoch 42/50\n",
      "49/49 [==============================] - 3s 57ms/step - loss: 9.2720e-04 - accuracy: 1.0000 - val_loss: 0.2143 - val_accuracy: 0.9491\n",
      "Epoch 43/50\n",
      "49/49 [==============================] - 3s 59ms/step - loss: 8.7319e-04 - accuracy: 1.0000 - val_loss: 0.2152 - val_accuracy: 0.9491\n",
      "Epoch 44/50\n",
      "49/49 [==============================] - 3s 58ms/step - loss: 8.2559e-04 - accuracy: 1.0000 - val_loss: 0.2161 - val_accuracy: 0.9491\n",
      "Epoch 45/50\n",
      "49/49 [==============================] - 3s 59ms/step - loss: 7.7920e-04 - accuracy: 1.0000 - val_loss: 0.2163 - val_accuracy: 0.9491\n",
      "Epoch 46/50\n",
      "49/49 [==============================] - 3s 58ms/step - loss: 7.3621e-04 - accuracy: 1.0000 - val_loss: 0.2171 - val_accuracy: 0.9491\n",
      "Epoch 47/50\n",
      "49/49 [==============================] - 3s 59ms/step - loss: 6.9678e-04 - accuracy: 1.0000 - val_loss: 0.2178 - val_accuracy: 0.9491\n",
      "Epoch 48/50\n",
      "49/49 [==============================] - 3s 58ms/step - loss: 6.6071e-04 - accuracy: 1.0000 - val_loss: 0.2184 - val_accuracy: 0.9491\n",
      "Epoch 49/50\n",
      "49/49 [==============================] - 3s 60ms/step - loss: 6.2635e-04 - accuracy: 1.0000 - val_loss: 0.2193 - val_accuracy: 0.9491\n",
      "Epoch 50/50\n",
      "49/49 [==============================] - 3s 59ms/step - loss: 5.9438e-04 - accuracy: 1.0000 - val_loss: 0.2197 - val_accuracy: 0.9491\n"
     ]
    }
   ],
   "source": [
    "# Compile and fit\n",
    "model.compile(\n",
    "  loss=SparseCategoricalCrossentropy(from_logits=True),\n",
    "  optimizer='adam',\n",
    "  metrics=['accuracy']\n",
    ")\n",
    "\n",
    "\n",
    "print('Training model...')\n",
    "r = model.fit(\n",
    "  data_train,\n",
    "  df_train['targets'],\n",
    "  epochs=50,\n",
    "  validation_data=(data_test, df_test['targets']))"
   ]
  },
  {
   "cell_type": "code",
   "execution_count": 14,
   "metadata": {},
   "outputs": [
    {
     "data": {
      "image/png": "[encoded data removed]",
      "text/plain": [
       "<Figure size 432x288 with 1 Axes>"
      ]
     },
     "metadata": {
      "needs_background": "light"
     },
     "output_type": "display_data"
    }
   ],
   "source": [
    "# Plot loss per iteration\n",
    "plt.plot(r.history['loss'], label='train loss')\n",
    "plt.plot(r.history['val_loss'], label='val loss')\n",
    "plt.legend();"
   ]
  },
  {
   "cell_type": "code",
   "execution_count": 15,
   "metadata": {},
   "outputs": [
    {
     "data": {
      "image/png": "[encoded data removed]",
      "text/plain": [
       "<Figure size 432x288 with 1 Axes>"
      ]
     },
     "metadata": {
      "needs_background": "light"
     },
     "output_type": "display_data"
    }
   ],
   "source": [
    "# Plot loss per iteration\n",
    "plt.plot(r.history['loss'], label='train loss')\n",
    "plt.plot(r.history['val_loss'], label='val loss')\n",
    "plt.legend();"
   ]
  }
 ],
 "metadata": {
  "kernelspec": {
   "display_name": "Python 3",
   "language": "python",
   "name": "python3"
  },
  "language_info": {
   "codemirror_mode": {
    "name": "ipython",
    "version": 3
   },
   "file_extension": ".py",
   "mimetype": "text/x-python",
   "name": "python",
   "nbconvert_exporter": "python",
   "pygments_lexer": "ipython3",
   "version": "3.10.6"
  },
  "orig_nbformat": 4
 },
 "nbformat": 4,
 "nbformat_minor": 2
}
