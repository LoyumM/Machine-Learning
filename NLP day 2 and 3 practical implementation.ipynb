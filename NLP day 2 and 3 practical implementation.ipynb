{
 "cells": [
  {
   "attachments": {},
   "cell_type": "markdown",
   "metadata": {},
   "source": [
    "## day 2"
   ]
  },
  {
   "cell_type": "code",
   "execution_count": 1,
   "metadata": {},
   "outputs": [],
   "source": [
    "paragraph = \"\"\"\n",
    "A black hole is a region of spacetime where gravity is so strong that nothing, including light or other electromagnetic waves, has enough energy to escape its event horizon.[2] The theory of general relativity predicts that a sufficiently compact mass can deform spacetime to form a black hole.[3][4] The boundary of no escape is called the event horizon. Although it has a great effect on the fate and circumstances of an object crossing it, it has no locally detectable features according to general relativity.[5] In many ways, a black hole acts like an ideal black body, as it reflects no light.[6][7] Moreover, quantum field theory in curved spacetime predicts that event horizons emit Hawking radiation, with the same spectrum as a black body of a temperature inversely proportional to its mass. This temperature is of the order of billionths of a kelvin for stellar black holes, making it essentially impossible to observe directly.\n",
    "\"\"\""
   ]
  },
  {
   "cell_type": "code",
   "execution_count": 2,
   "metadata": {},
   "outputs": [
    {
     "data": {
      "text/plain": [
       "'\\nA black hole is a region of spacetime where gravity is so strong that nothing, including light or other electromagnetic waves, has enough energy to escape its event horizon.[2] The theory of general relativity predicts that a sufficiently compact mass can deform spacetime to form a black hole.[3][4] The boundary of no escape is called the event horizon. Although it has a great effect on the fate and circumstances of an object crossing it, it has no locally detectable features according to general relativity.[5] In many ways, a black hole acts like an ideal black body, as it reflects no light.[6][7] Moreover, quantum field theory in curved spacetime predicts that event horizons emit Hawking radiation, with the same spectrum as a black body of a temperature inversely proportional to its mass. This temperature is of the order of billionths of a kelvin for stellar black holes, making it essentially impossible to observe directly.\\n'"
      ]
     },
     "execution_count": 2,
     "metadata": {},
     "output_type": "execute_result"
    }
   ],
   "source": [
    "paragraph"
   ]
  },
  {
   "cell_type": "code",
   "execution_count": 3,
   "metadata": {},
   "outputs": [],
   "source": [
    "import nltk\n",
    "from nltk.stem import PorterStemmer\n",
    "from nltk.corpus import stopwords"
   ]
  },
  {
   "cell_type": "code",
   "execution_count": 4,
   "metadata": {},
   "outputs": [
    {
     "name": "stderr",
     "output_type": "stream",
     "text": [
      "[nltk_data] Downloading package punkt to\n",
      "[nltk_data]     C:\\Users\\lmbmo\\AppData\\Roaming\\nltk_data...\n",
      "[nltk_data]   Package punkt is already up-to-date!\n"
     ]
    }
   ],
   "source": [
    "## tokenization - converts paragraphs into sentence words\n",
    "nltk.download('punkt')\n",
    "sentences = nltk.sent_tokenize(paragraph)"
   ]
  },
  {
   "cell_type": "code",
   "execution_count": 5,
   "metadata": {},
   "outputs": [
    {
     "name": "stdout",
     "output_type": "stream",
     "text": [
      "['\\nA black hole is a region of spacetime where gravity is so strong that nothing, including light or other electromagnetic waves, has enough energy to escape its event horizon.', '[2] The theory of general relativity predicts that a sufficiently compact mass can deform spacetime to form a black hole.', '[3][4] The boundary of no escape is called the event horizon.', 'Although it has a great effect on the fate and circumstances of an object crossing it, it has no locally detectable features according to general relativity.', '[5] In many ways, a black hole acts like an ideal black body, as it reflects no light.', '[6][7] Moreover, quantum field theory in curved spacetime predicts that event horizons emit Hawking radiation, with the same spectrum as a black body of a temperature inversely proportional to its mass.', 'This temperature is of the order of billionths of a kelvin for stellar black holes, making it essentially impossible to observe directly.']\n"
     ]
    }
   ],
   "source": [
    "print(sentences)"
   ]
  },
  {
   "cell_type": "code",
   "execution_count": 6,
   "metadata": {},
   "outputs": [
    {
     "data": {
      "text/plain": [
       "list"
      ]
     },
     "execution_count": 6,
     "metadata": {},
     "output_type": "execute_result"
    }
   ],
   "source": [
    "type(sentences)"
   ]
  },
  {
   "cell_type": "code",
   "execution_count": 7,
   "metadata": {},
   "outputs": [
    {
     "name": "stdout",
     "output_type": "stream",
     "text": [
      "\n",
      "A black hole is a region of spacetime where gravity is so strong that nothing, including light or other electromagnetic waves, has enough energy to escape its event horizon.\n",
      "[2] The theory of general relativity predicts that a sufficiently compact mass can deform spacetime to form a black hole.\n",
      "[3][4] The boundary of no escape is called the event horizon.\n",
      "Although it has a great effect on the fate and circumstances of an object crossing it, it has no locally detectable features according to general relativity.\n",
      "[5] In many ways, a black hole acts like an ideal black body, as it reflects no light.\n",
      "[6][7] Moreover, quantum field theory in curved spacetime predicts that event horizons emit Hawking radiation, with the same spectrum as a black body of a temperature inversely proportional to its mass.\n",
      "This temperature is of the order of billionths of a kelvin for stellar black holes, making it essentially impossible to observe directly.\n"
     ]
    }
   ],
   "source": [
    "print(*(sentences), sep=\"\\n\")"
   ]
  },
  {
   "cell_type": "code",
   "execution_count": 8,
   "metadata": {},
   "outputs": [],
   "source": [
    "stemmer = PorterStemmer()"
   ]
  },
  {
   "cell_type": "code",
   "execution_count": 9,
   "metadata": {},
   "outputs": [
    {
     "data": {
      "text/plain": [
       "'final'"
      ]
     },
     "execution_count": 9,
     "metadata": {},
     "output_type": "execute_result"
    }
   ],
   "source": [
    "stemmer.stem(\"finalization\")"
   ]
  },
  {
   "cell_type": "code",
   "execution_count": 10,
   "metadata": {},
   "outputs": [
    {
     "data": {
      "text/plain": [
       "'histori'"
      ]
     },
     "execution_count": 10,
     "metadata": {},
     "output_type": "execute_result"
    }
   ],
   "source": [
    "stemmer.stem(\"history\")"
   ]
  },
  {
   "cell_type": "code",
   "execution_count": 11,
   "metadata": {},
   "outputs": [],
   "source": [
    "from nltk.stem import WordNetLemmatizer"
   ]
  },
  {
   "cell_type": "code",
   "execution_count": 12,
   "metadata": {},
   "outputs": [
    {
     "name": "stderr",
     "output_type": "stream",
     "text": [
      "[nltk_data] Downloading package wordnet to\n",
      "[nltk_data]     C:\\Users\\lmbmo\\AppData\\Roaming\\nltk_data...\n",
      "[nltk_data]   Package wordnet is already up-to-date!\n"
     ]
    },
    {
     "data": {
      "text/plain": [
       "True"
      ]
     },
     "execution_count": 12,
     "metadata": {},
     "output_type": "execute_result"
    }
   ],
   "source": [
    "nltk.download('wordnet')"
   ]
  },
  {
   "cell_type": "code",
   "execution_count": 13,
   "metadata": {},
   "outputs": [],
   "source": [
    "lemmatizer = WordNetLemmatizer()"
   ]
  },
  {
   "cell_type": "code",
   "execution_count": 14,
   "metadata": {},
   "outputs": [
    {
     "data": {
      "text/plain": [
       "'history'"
      ]
     },
     "execution_count": 14,
     "metadata": {},
     "output_type": "execute_result"
    }
   ],
   "source": [
    "lemmatizer.lemmatize('history')"
   ]
  },
  {
   "cell_type": "code",
   "execution_count": 15,
   "metadata": {},
   "outputs": [
    {
     "data": {
      "text/plain": [
       "'finalization'"
      ]
     },
     "execution_count": 15,
     "metadata": {},
     "output_type": "execute_result"
    }
   ],
   "source": [
    "lemmatizer.lemmatize('finalization')"
   ]
  },
  {
   "cell_type": "code",
   "execution_count": 16,
   "metadata": {},
   "outputs": [
    {
     "data": {
      "text/plain": [
       "7"
      ]
     },
     "execution_count": 16,
     "metadata": {},
     "output_type": "execute_result"
    }
   ],
   "source": [
    "len(sentences)"
   ]
  },
  {
   "cell_type": "code",
   "execution_count": 17,
   "metadata": {},
   "outputs": [],
   "source": [
    "import re\n",
    "corpus=[]\n",
    "for i in range(len(sentences)):\n",
    "    review = re.sub('[^a-zA-Z]',' ', sentences[i])\n",
    "    reviwe = review.lower().split()\n",
    "    corpus.append(review)"
   ]
  },
  {
   "cell_type": "code",
   "execution_count": 18,
   "metadata": {},
   "outputs": [
    {
     "name": "stdout",
     "output_type": "stream",
     "text": [
      " A black hole is a region of spacetime where gravity is so strong that nothing  including light or other electromagnetic waves  has enough energy to escape its event horizon \n",
      "    The theory of general relativity predicts that a sufficiently compact mass can deform spacetime to form a black hole \n",
      "       The boundary of no escape is called the event horizon \n",
      "Although it has a great effect on the fate and circumstances of an object crossing it  it has no locally detectable features according to general relativity \n",
      "    In many ways  a black hole acts like an ideal black body  as it reflects no light \n",
      "       Moreover  quantum field theory in curved spacetime predicts that event horizons emit Hawking radiation  with the same spectrum as a black body of a temperature inversely proportional to its mass \n",
      "This temperature is of the order of billionths of a kelvin for stellar black holes  making it essentially impossible to observe directly \n"
     ]
    }
   ],
   "source": [
    "print(*(corpus), sep=\"\\n\")"
   ]
  },
  {
   "cell_type": "code",
   "execution_count": 19,
   "metadata": {},
   "outputs": [],
   "source": [
    "## stemming \n",
    "\n",
    "# for i in corpus:\n",
    "#     for word in i:\n",
    "#         stemmer.stem(word)\n",
    "        \n",
    "# print(*(corpus), sep=\"\\n\")"
   ]
  },
  {
   "cell_type": "code",
   "execution_count": 20,
   "metadata": {},
   "outputs": [
    {
     "name": "stderr",
     "output_type": "stream",
     "text": [
      "[nltk_data] Downloading package stopwords to\n",
      "[nltk_data]     C:\\Users\\lmbmo\\AppData\\Roaming\\nltk_data...\n",
      "[nltk_data]   Package stopwords is already up-to-date!\n"
     ]
    },
    {
     "data": {
      "text/plain": [
       "True"
      ]
     },
     "execution_count": 20,
     "metadata": {},
     "output_type": "execute_result"
    }
   ],
   "source": [
    "nltk.download('stopwords')"
   ]
  },
  {
   "cell_type": "code",
   "execution_count": 21,
   "metadata": {},
   "outputs": [
    {
     "name": "stdout",
     "output_type": "stream",
     "text": [
      "a\n",
      "black\n",
      "hole\n",
      "region\n",
      "spacetim\n",
      "graviti\n",
      "strong\n",
      "noth\n",
      "includ\n",
      "light\n",
      "electromagnet\n",
      "wave\n",
      "enough\n",
      "energi\n",
      "escap\n",
      "event\n",
      "horizon\n",
      "the\n",
      "theori\n",
      "gener\n",
      "rel\n",
      "predict\n",
      "suffici\n",
      "compact\n",
      "mass\n",
      "deform\n",
      "spacetim\n",
      "form\n",
      "black\n",
      "hole\n",
      "the\n",
      "boundari\n",
      "escap\n",
      "call\n",
      "event\n",
      "horizon\n",
      "although\n",
      "great\n",
      "effect\n",
      "fate\n",
      "circumst\n",
      "object\n",
      "cross\n",
      "local\n",
      "detect\n",
      "featur\n",
      "accord\n",
      "gener\n",
      "rel\n",
      "in\n",
      "mani\n",
      "way\n",
      "black\n",
      "hole\n",
      "act\n",
      "like\n",
      "ideal\n",
      "black\n",
      "bodi\n",
      "reflect\n",
      "light\n",
      "moreov\n",
      "quantum\n",
      "field\n",
      "theori\n",
      "curv\n",
      "spacetim\n",
      "predict\n",
      "event\n",
      "horizon\n",
      "emit\n",
      "hawk\n",
      "radiat\n",
      "spectrum\n",
      "black\n",
      "bodi\n",
      "temperatur\n",
      "invers\n",
      "proport\n",
      "mass\n",
      "thi\n",
      "temperatur\n",
      "order\n",
      "billionth\n",
      "kelvin\n",
      "stellar\n",
      "black\n",
      "hole\n",
      "make\n",
      "essenti\n",
      "imposs\n",
      "observ\n",
      "directli\n"
     ]
    }
   ],
   "source": [
    "## stemming \n",
    "for i in corpus:\n",
    "    words=nltk.word_tokenize(i)\n",
    "    for word in words:\n",
    "        if word not in set(stopwords.words('english')):# if words are not included in the english stopwords, stem themstop\n",
    "            print(stemmer.stem(word))"
   ]
  },
  {
   "cell_type": "code",
   "execution_count": 22,
   "metadata": {},
   "outputs": [
    {
     "data": {
      "text/plain": [
       "['i',\n",
       " 'me',\n",
       " 'my',\n",
       " 'myself',\n",
       " 'we',\n",
       " 'our',\n",
       " 'ours',\n",
       " 'ourselves',\n",
       " 'you',\n",
       " \"you're\",\n",
       " \"you've\",\n",
       " \"you'll\",\n",
       " \"you'd\",\n",
       " 'your',\n",
       " 'yours',\n",
       " 'yourself',\n",
       " 'yourselves',\n",
       " 'he',\n",
       " 'him',\n",
       " 'his',\n",
       " 'himself',\n",
       " 'she',\n",
       " \"she's\",\n",
       " 'her',\n",
       " 'hers',\n",
       " 'herself',\n",
       " 'it',\n",
       " \"it's\",\n",
       " 'its',\n",
       " 'itself',\n",
       " 'they',\n",
       " 'them',\n",
       " 'their',\n",
       " 'theirs',\n",
       " 'themselves',\n",
       " 'what',\n",
       " 'which',\n",
       " 'who',\n",
       " 'whom',\n",
       " 'this',\n",
       " 'that',\n",
       " \"that'll\",\n",
       " 'these',\n",
       " 'those',\n",
       " 'am',\n",
       " 'is',\n",
       " 'are',\n",
       " 'was',\n",
       " 'were',\n",
       " 'be',\n",
       " 'been',\n",
       " 'being',\n",
       " 'have',\n",
       " 'has',\n",
       " 'had',\n",
       " 'having',\n",
       " 'do',\n",
       " 'does',\n",
       " 'did',\n",
       " 'doing',\n",
       " 'a',\n",
       " 'an',\n",
       " 'the',\n",
       " 'and',\n",
       " 'but',\n",
       " 'if',\n",
       " 'or',\n",
       " 'because',\n",
       " 'as',\n",
       " 'until',\n",
       " 'while',\n",
       " 'of',\n",
       " 'at',\n",
       " 'by',\n",
       " 'for',\n",
       " 'with',\n",
       " 'about',\n",
       " 'against',\n",
       " 'between',\n",
       " 'into',\n",
       " 'through',\n",
       " 'during',\n",
       " 'before',\n",
       " 'after',\n",
       " 'above',\n",
       " 'below',\n",
       " 'to',\n",
       " 'from',\n",
       " 'up',\n",
       " 'down',\n",
       " 'in',\n",
       " 'out',\n",
       " 'on',\n",
       " 'off',\n",
       " 'over',\n",
       " 'under',\n",
       " 'again',\n",
       " 'further',\n",
       " 'then',\n",
       " 'once',\n",
       " 'here',\n",
       " 'there',\n",
       " 'when',\n",
       " 'where',\n",
       " 'why',\n",
       " 'how',\n",
       " 'all',\n",
       " 'any',\n",
       " 'both',\n",
       " 'each',\n",
       " 'few',\n",
       " 'more',\n",
       " 'most',\n",
       " 'other',\n",
       " 'some',\n",
       " 'such',\n",
       " 'no',\n",
       " 'nor',\n",
       " 'not',\n",
       " 'only',\n",
       " 'own',\n",
       " 'same',\n",
       " 'so',\n",
       " 'than',\n",
       " 'too',\n",
       " 'very',\n",
       " 's',\n",
       " 't',\n",
       " 'can',\n",
       " 'will',\n",
       " 'just',\n",
       " 'don',\n",
       " \"don't\",\n",
       " 'should',\n",
       " \"should've\",\n",
       " 'now',\n",
       " 'd',\n",
       " 'll',\n",
       " 'm',\n",
       " 'o',\n",
       " 're',\n",
       " 've',\n",
       " 'y',\n",
       " 'ain',\n",
       " 'aren',\n",
       " \"aren't\",\n",
       " 'couldn',\n",
       " \"couldn't\",\n",
       " 'didn',\n",
       " \"didn't\",\n",
       " 'doesn',\n",
       " \"doesn't\",\n",
       " 'hadn',\n",
       " \"hadn't\",\n",
       " 'hasn',\n",
       " \"hasn't\",\n",
       " 'haven',\n",
       " \"haven't\",\n",
       " 'isn',\n",
       " \"isn't\",\n",
       " 'ma',\n",
       " 'mightn',\n",
       " \"mightn't\",\n",
       " 'mustn',\n",
       " \"mustn't\",\n",
       " 'needn',\n",
       " \"needn't\",\n",
       " 'shan',\n",
       " \"shan't\",\n",
       " 'shouldn',\n",
       " \"shouldn't\",\n",
       " 'wasn',\n",
       " \"wasn't\",\n",
       " 'weren',\n",
       " \"weren't\",\n",
       " 'won',\n",
       " \"won't\",\n",
       " 'wouldn',\n",
       " \"wouldn't\"]"
      ]
     },
     "execution_count": 22,
     "metadata": {},
     "output_type": "execute_result"
    }
   ],
   "source": [
    "# stopwords in english\n",
    "stopwords.words('english')"
   ]
  },
  {
   "cell_type": "code",
   "execution_count": 23,
   "metadata": {},
   "outputs": [
    {
     "name": "stdout",
     "output_type": "stream",
     "text": [
      "A\n",
      "black\n",
      "hole\n",
      "region\n",
      "spacetime\n",
      "gravity\n",
      "strong\n",
      "nothing\n",
      "including\n",
      "light\n",
      "electromagnetic\n",
      "wave\n",
      "enough\n",
      "energy\n",
      "escape\n",
      "event\n",
      "horizon\n",
      "The\n",
      "theory\n",
      "general\n",
      "relativity\n",
      "predicts\n",
      "sufficiently\n",
      "compact\n",
      "mass\n",
      "deform\n",
      "spacetime\n",
      "form\n",
      "black\n",
      "hole\n",
      "The\n",
      "boundary\n",
      "escape\n",
      "called\n",
      "event\n",
      "horizon\n",
      "Although\n",
      "great\n",
      "effect\n",
      "fate\n",
      "circumstance\n",
      "object\n",
      "crossing\n",
      "locally\n",
      "detectable\n",
      "feature\n",
      "according\n",
      "general\n",
      "relativity\n",
      "In\n",
      "many\n",
      "way\n",
      "black\n",
      "hole\n",
      "act\n",
      "like\n",
      "ideal\n",
      "black\n",
      "body\n",
      "reflects\n",
      "light\n",
      "Moreover\n",
      "quantum\n",
      "field\n",
      "theory\n",
      "curved\n",
      "spacetime\n",
      "predicts\n",
      "event\n",
      "horizon\n",
      "emit\n",
      "Hawking\n",
      "radiation\n",
      "spectrum\n",
      "black\n",
      "body\n",
      "temperature\n",
      "inversely\n",
      "proportional\n",
      "mass\n",
      "This\n",
      "temperature\n",
      "order\n",
      "billionth\n",
      "kelvin\n",
      "stellar\n",
      "black\n",
      "hole\n",
      "making\n",
      "essentially\n",
      "impossible\n",
      "observe\n",
      "directly\n"
     ]
    }
   ],
   "source": [
    "## lemmetization\n",
    "for i in corpus:\n",
    "    words=nltk.word_tokenize(i)\n",
    "    for word in words:\n",
    "        if word not in set(stopwords.words('english')):# if words are not included in the english stopwords, stem themstop\n",
    "            print(lemmatizer.lemmatize(word))"
   ]
  },
  {
   "cell_type": "code",
   "execution_count": 24,
   "metadata": {},
   "outputs": [],
   "source": [
    "# bag of words\n",
    "from sklearn.feature_extraction.text import CountVectorizer\n",
    "cv = CountVectorizer()"
   ]
  },
  {
   "cell_type": "code",
   "execution_count": 25,
   "metadata": {},
   "outputs": [],
   "source": [
    "X = cv.fit_transform(corpus)"
   ]
  },
  {
   "cell_type": "code",
   "execution_count": 26,
   "metadata": {},
   "outputs": [
    {
     "data": {
      "text/plain": [
       "{'black': 7,\n",
       " 'hole': 37,\n",
       " 'is': 46,\n",
       " 'region': 71,\n",
       " 'of': 61,\n",
       " 'spacetime': 75,\n",
       " 'where': 88,\n",
       " 'gravity': 33,\n",
       " 'so': 74,\n",
       " 'strong': 78,\n",
       " 'that': 81,\n",
       " 'nothing': 58,\n",
       " 'including': 44,\n",
       " 'light': 50,\n",
       " 'or': 63,\n",
       " 'other': 65,\n",
       " 'electromagnetic': 20,\n",
       " 'waves': 86,\n",
       " 'has': 35,\n",
       " 'enough': 23,\n",
       " 'energy': 22,\n",
       " 'to': 85,\n",
       " 'escape': 24,\n",
       " 'its': 48,\n",
       " 'event': 26,\n",
       " 'horizon': 39,\n",
       " 'the': 82,\n",
       " 'theory': 83,\n",
       " 'general': 32,\n",
       " 'relativity': 72,\n",
       " 'predicts': 66,\n",
       " 'sufficiently': 79,\n",
       " 'compact': 13,\n",
       " 'mass': 55,\n",
       " 'can': 11,\n",
       " 'deform': 16,\n",
       " 'form': 31,\n",
       " 'boundary': 9,\n",
       " 'no': 57,\n",
       " 'called': 10,\n",
       " 'although': 2,\n",
       " 'it': 47,\n",
       " 'great': 34,\n",
       " 'effect': 19,\n",
       " 'on': 62,\n",
       " 'fate': 27,\n",
       " 'and': 4,\n",
       " 'circumstances': 12,\n",
       " 'an': 3,\n",
       " 'object': 59,\n",
       " 'crossing': 14,\n",
       " 'locally': 52,\n",
       " 'detectable': 17,\n",
       " 'features': 28,\n",
       " 'according': 0,\n",
       " 'in': 43,\n",
       " 'many': 54,\n",
       " 'ways': 87,\n",
       " 'acts': 1,\n",
       " 'like': 51,\n",
       " 'ideal': 41,\n",
       " 'body': 8,\n",
       " 'as': 5,\n",
       " 'reflects': 70,\n",
       " 'moreover': 56,\n",
       " 'quantum': 68,\n",
       " 'field': 29,\n",
       " 'curved': 15,\n",
       " 'horizons': 40,\n",
       " 'emit': 21,\n",
       " 'hawking': 36,\n",
       " 'radiation': 69,\n",
       " 'with': 89,\n",
       " 'same': 73,\n",
       " 'spectrum': 76,\n",
       " 'temperature': 80,\n",
       " 'inversely': 45,\n",
       " 'proportional': 67,\n",
       " 'this': 84,\n",
       " 'order': 64,\n",
       " 'billionths': 6,\n",
       " 'kelvin': 49,\n",
       " 'for': 30,\n",
       " 'stellar': 77,\n",
       " 'holes': 38,\n",
       " 'making': 53,\n",
       " 'essentially': 25,\n",
       " 'impossible': 42,\n",
       " 'observe': 60,\n",
       " 'directly': 18}"
      ]
     },
     "execution_count": 26,
     "metadata": {},
     "output_type": "execute_result"
    }
   ],
   "source": [
    "cv.vocabulary_"
   ]
  },
  {
   "cell_type": "code",
   "execution_count": 27,
   "metadata": {},
   "outputs": [
    {
     "data": {
      "text/plain": [
       "' A black hole is a region of spacetime where gravity is so strong that nothing  including light or other electromagnetic waves  has enough energy to escape its event horizon '"
      ]
     },
     "execution_count": 27,
     "metadata": {},
     "output_type": "execute_result"
    }
   ],
   "source": [
    "corpus[0]"
   ]
  },
  {
   "cell_type": "code",
   "execution_count": 28,
   "metadata": {},
   "outputs": [
    {
     "data": {
      "text/plain": [
       "array([[0, 0, 0, 0, 0, 0, 0, 1, 0, 0, 0, 0, 0, 0, 0, 0, 0, 0, 0, 0, 1, 0,\n",
       "        1, 1, 1, 0, 1, 0, 0, 0, 0, 0, 0, 1, 0, 1, 0, 1, 0, 1, 0, 0, 0, 0,\n",
       "        1, 0, 2, 0, 1, 0, 1, 0, 0, 0, 0, 0, 0, 0, 1, 0, 0, 1, 0, 1, 0, 1,\n",
       "        0, 0, 0, 0, 0, 1, 0, 0, 1, 1, 0, 0, 1, 0, 0, 1, 0, 0, 0, 1, 1, 0,\n",
       "        1, 0]], dtype=int64)"
      ]
     },
     "execution_count": 28,
     "metadata": {},
     "output_type": "execute_result"
    }
   ],
   "source": [
    "X[0].toarray()"
   ]
  },
  {
   "cell_type": "code",
   "execution_count": 29,
   "metadata": {},
   "outputs": [],
   "source": [
    "# bag of words\n",
    "from sklearn.feature_extraction.text import CountVectorizer\n",
    "cv = CountVectorizer(binary=True, ngram_range=(3,3))"
   ]
  },
  {
   "cell_type": "code",
   "execution_count": 30,
   "metadata": {},
   "outputs": [],
   "source": [
    "X = cv.fit_transform(corpus)"
   ]
  },
  {
   "cell_type": "code",
   "execution_count": 31,
   "metadata": {},
   "outputs": [
    {
     "data": {
      "text/plain": [
       "{'black hole is': 12,\n",
       " 'hole is region': 47,\n",
       " 'is region of': 58,\n",
       " 'region of spacetime': 96,\n",
       " 'of spacetime where': 83,\n",
       " 'spacetime where gravity': 102,\n",
       " 'where gravity is': 128,\n",
       " 'gravity is so': 40,\n",
       " 'is so strong': 59,\n",
       " 'so strong that': 99,\n",
       " 'strong that nothing': 105,\n",
       " 'that nothing including': 110,\n",
       " 'nothing including light': 76,\n",
       " 'including light or': 54,\n",
       " 'light or other': 67,\n",
       " 'or other electromagnetic': 87,\n",
       " 'other electromagnetic waves': 89,\n",
       " 'electromagnetic waves has': 26,\n",
       " 'waves has enough': 126,\n",
       " 'has enough energy': 42,\n",
       " 'enough energy to': 29,\n",
       " 'energy to escape': 28,\n",
       " 'to escape its': 121,\n",
       " 'escape its event': 31,\n",
       " 'its event horizon': 65,\n",
       " 'the theory of': 117,\n",
       " 'theory of general': 119,\n",
       " 'of general relativity': 80,\n",
       " 'general relativity predicts': 39,\n",
       " 'relativity predicts that': 97,\n",
       " 'predicts that sufficiently': 91,\n",
       " 'that sufficiently compact': 111,\n",
       " 'sufficiently compact mass': 106,\n",
       " 'compact mass can': 20,\n",
       " 'mass can deform': 72,\n",
       " 'can deform spacetime': 18,\n",
       " 'deform spacetime to': 23,\n",
       " 'spacetime to form': 101,\n",
       " 'to form black': 122,\n",
       " 'form black hole': 38,\n",
       " 'the boundary of': 112,\n",
       " 'boundary of no': 16,\n",
       " 'of no escape': 82,\n",
       " 'no escape is': 74,\n",
       " 'escape is called': 30,\n",
       " 'is called the': 56,\n",
       " 'called the event': 17,\n",
       " 'the event horizon': 113,\n",
       " 'although it has': 2,\n",
       " 'it has great': 61,\n",
       " 'has great effect': 43,\n",
       " 'great effect on': 41,\n",
       " 'effect on the': 25,\n",
       " 'on the fate': 86,\n",
       " 'the fate and': 114,\n",
       " 'fate and circumstances': 34,\n",
       " 'and circumstances of': 5,\n",
       " 'circumstances of an': 19,\n",
       " 'of an object': 78,\n",
       " 'an object crossing': 4,\n",
       " 'object crossing it': 77,\n",
       " 'crossing it it': 21,\n",
       " 'it it has': 63,\n",
       " 'it has no': 62,\n",
       " 'has no locally': 44,\n",
       " 'no locally detectable': 75,\n",
       " 'locally detectable features': 69,\n",
       " 'detectable features according': 24,\n",
       " 'features according to': 35,\n",
       " 'according to general': 0,\n",
       " 'to general relativity': 123,\n",
       " 'in many ways': 53,\n",
       " 'many ways black': 71,\n",
       " 'ways black hole': 127,\n",
       " 'black hole acts': 11,\n",
       " 'hole acts like': 46,\n",
       " 'acts like an': 1,\n",
       " 'like an ideal': 68,\n",
       " 'an ideal black': 3,\n",
       " 'ideal black body': 50,\n",
       " 'black body as': 9,\n",
       " 'body as it': 14,\n",
       " 'as it reflects': 7,\n",
       " 'it reflects no': 64,\n",
       " 'reflects no light': 95,\n",
       " 'moreover quantum field': 73,\n",
       " 'quantum field theory': 93,\n",
       " 'field theory in': 36,\n",
       " 'theory in curved': 118,\n",
       " 'in curved spacetime': 52,\n",
       " 'curved spacetime predicts': 22,\n",
       " 'spacetime predicts that': 100,\n",
       " 'predicts that event': 90,\n",
       " 'that event horizons': 109,\n",
       " 'event horizons emit': 33,\n",
       " 'horizons emit hawking': 49,\n",
       " 'emit hawking radiation': 27,\n",
       " 'hawking radiation with': 45,\n",
       " 'radiation with the': 94,\n",
       " 'with the same': 129,\n",
       " 'the same spectrum': 116,\n",
       " 'same spectrum as': 98,\n",
       " 'spectrum as black': 103,\n",
       " 'as black body': 6,\n",
       " 'black body of': 10,\n",
       " 'body of temperature': 15,\n",
       " 'of temperature inversely': 84,\n",
       " 'temperature inversely proportional': 107,\n",
       " 'inversely proportional to': 55,\n",
       " 'proportional to its': 92,\n",
       " 'to its mass': 124,\n",
       " 'this temperature is': 120,\n",
       " 'temperature is of': 108,\n",
       " 'is of the': 57,\n",
       " 'of the order': 85,\n",
       " 'the order of': 115,\n",
       " 'order of billionths': 88,\n",
       " 'of billionths of': 79,\n",
       " 'billionths of kelvin': 8,\n",
       " 'of kelvin for': 81,\n",
       " 'kelvin for stellar': 66,\n",
       " 'for stellar black': 37,\n",
       " 'stellar black holes': 104,\n",
       " 'black holes making': 13,\n",
       " 'holes making it': 48,\n",
       " 'making it essentially': 70,\n",
       " 'it essentially impossible': 60,\n",
       " 'essentially impossible to': 32,\n",
       " 'impossible to observe': 51,\n",
       " 'to observe directly': 125}"
      ]
     },
     "execution_count": 31,
     "metadata": {},
     "output_type": "execute_result"
    }
   ],
   "source": [
    "cv.vocabulary_"
   ]
  },
  {
   "cell_type": "code",
   "execution_count": 33,
   "metadata": {},
   "outputs": [
    {
     "data": {
      "text/plain": [
       "array([[0, 0, 0, 0, 0, 0, 0, 0, 0, 0, 0, 0, 0, 0, 0, 0, 0, 0, 0, 0, 0, 1,\n",
       "        0, 1, 0, 0, 0, 0, 0, 0, 0, 0, 0, 0, 0, 0, 0, 0, 0, 0, 0, 0, 0, 0,\n",
       "        0, 0, 0, 0, 0, 0, 1, 1, 0, 0, 1, 1, 1, 1, 0, 0, 1, 1, 0, 0, 1, 0,\n",
       "        0, 0, 0, 0, 0, 0, 0, 0, 0, 0, 0, 0, 0, 1, 1, 0, 0, 1, 1, 0, 0, 0,\n",
       "        0, 0, 0, 0, 0, 1, 1, 0, 0, 0, 0, 0, 0, 0, 0, 0, 0, 0, 0, 1, 1, 0,\n",
       "        0, 0, 0, 0, 0, 1, 1, 1, 1, 0, 0, 0, 0, 0, 0, 0, 0, 0, 1, 1, 0, 0,\n",
       "        0, 1, 1, 0, 0, 0, 0, 0, 0, 0, 0, 0, 0, 0, 0, 0, 0, 0, 0, 0, 1, 1,\n",
       "        0, 0, 0, 0, 0, 0, 0, 0, 0, 0, 0, 0, 0, 1, 1, 0, 0, 0, 0, 0, 0, 1,\n",
       "        1, 0, 0, 1, 1, 0, 0, 0, 0, 0, 0, 0, 0, 0, 0, 0, 1, 1, 0, 0, 0, 0,\n",
       "        1, 1, 0, 0, 0, 0, 1, 1, 0, 0, 0, 0, 1, 1, 0, 0, 0, 0, 0, 0, 0, 0,\n",
       "        1, 1, 0, 0, 0, 0, 0, 0, 0, 0, 0, 0, 0, 0, 0, 0, 0, 0, 0, 0, 0, 0,\n",
       "        1, 1, 0, 0, 0, 0, 0, 0, 0, 0, 1, 1, 0, 0, 1, 1, 0, 0]],\n",
       "      dtype=int64)"
      ]
     },
     "execution_count": 33,
     "metadata": {},
     "output_type": "execute_result"
    }
   ],
   "source": [
    "X[0].toarray()"
   ]
  },
  {
   "attachments": {},
   "cell_type": "markdown",
   "metadata": {},
   "source": [
    "## Day 3"
   ]
  },
  {
   "cell_type": "code",
   "execution_count": 34,
   "metadata": {},
   "outputs": [],
   "source": [
    "## TF-IDF\n",
    "from sklearn.feature_extraction.text import TfidfVectorizer\n",
    "cv=TfidfVectorizer()\n",
    "X=cv.fit_transform(corpus)"
   ]
  },
  {
   "cell_type": "code",
   "execution_count": 35,
   "metadata": {},
   "outputs": [
    {
     "data": {
      "text/plain": [
       "' A black hole is a region of spacetime where gravity is so strong that nothing  including light or other electromagnetic waves  has enough energy to escape its event horizon '"
      ]
     },
     "execution_count": 35,
     "metadata": {},
     "output_type": "execute_result"
    }
   ],
   "source": [
    "corpus[0]"
   ]
  },
  {
   "cell_type": "code",
   "execution_count": 36,
   "metadata": {},
   "outputs": [
    {
     "data": {
      "text/plain": [
       "array([[0.        , 0.        , 0.        , 0.        , 0.        ,\n",
       "        0.        , 0.        , 0.11697467, 0.        , 0.        ,\n",
       "        0.        , 0.        , 0.        , 0.        , 0.        ,\n",
       "        0.        , 0.        , 0.        , 0.        , 0.        ,\n",
       "        0.216774  , 0.        , 0.216774  , 0.216774  , 0.17994103,\n",
       "        0.        , 0.15380763, 0.        , 0.        , 0.        ,\n",
       "        0.        , 0.        , 0.        , 0.216774  , 0.        ,\n",
       "        0.17994103, 0.        , 0.15380763, 0.        , 0.17994103,\n",
       "        0.        , 0.        , 0.        , 0.        , 0.216774  ,\n",
       "        0.        , 0.30761526, 0.        , 0.17994103, 0.        ,\n",
       "        0.17994103, 0.        , 0.        , 0.        , 0.        ,\n",
       "        0.        , 0.        , 0.        , 0.216774  , 0.        ,\n",
       "        0.        , 0.10297143, 0.        , 0.216774  , 0.        ,\n",
       "        0.216774  , 0.        , 0.        , 0.        , 0.        ,\n",
       "        0.        , 0.216774  , 0.        , 0.        , 0.216774  ,\n",
       "        0.15380763, 0.        , 0.        , 0.216774  , 0.        ,\n",
       "        0.        , 0.15380763, 0.        , 0.        , 0.        ,\n",
       "        0.11697467, 0.216774  , 0.        , 0.216774  , 0.        ]])"
      ]
     },
     "execution_count": 36,
     "metadata": {},
     "output_type": "execute_result"
    }
   ],
   "source": [
    "X[0].toarray()"
   ]
  },
  {
   "cell_type": "code",
   "execution_count": 37,
   "metadata": {},
   "outputs": [],
   "source": [
    "## TF-IDF\n",
    "from sklearn.feature_extraction.text import TfidfVectorizer\n",
    "cv=TfidfVectorizer(ngram_range=(3,3))\n",
    "X=cv.fit_transform(corpus)"
   ]
  },
  {
   "cell_type": "code",
   "execution_count": 39,
   "metadata": {},
   "outputs": [
    {
     "data": {
      "text/plain": [
       "' A black hole is a region of spacetime where gravity is so strong that nothing  including light or other electromagnetic waves  has enough energy to escape its event horizon '"
      ]
     },
     "execution_count": 39,
     "metadata": {},
     "output_type": "execute_result"
    }
   ],
   "source": [
    "corpus[0]"
   ]
  },
  {
   "cell_type": "code",
   "execution_count": 38,
   "metadata": {},
   "outputs": [
    {
     "data": {
      "text/plain": [
       "array([[0. , 0. , 0. , 0. , 0. , 0. , 0. , 0. , 0. , 0. , 0. , 0. , 0.2,\n",
       "        0. , 0. , 0. , 0. , 0. , 0. , 0. , 0. , 0. , 0. , 0. , 0. , 0. ,\n",
       "        0.2, 0. , 0.2, 0.2, 0. , 0.2, 0. , 0. , 0. , 0. , 0. , 0. , 0. ,\n",
       "        0. , 0.2, 0. , 0.2, 0. , 0. , 0. , 0. , 0.2, 0. , 0. , 0. , 0. ,\n",
       "        0. , 0. , 0.2, 0. , 0. , 0. , 0.2, 0.2, 0. , 0. , 0. , 0. , 0. ,\n",
       "        0.2, 0. , 0.2, 0. , 0. , 0. , 0. , 0. , 0. , 0. , 0. , 0.2, 0. ,\n",
       "        0. , 0. , 0. , 0. , 0. , 0.2, 0. , 0. , 0. , 0.2, 0. , 0.2, 0. ,\n",
       "        0. , 0. , 0. , 0. , 0. , 0.2, 0. , 0. , 0.2, 0. , 0. , 0.2, 0. ,\n",
       "        0. , 0.2, 0. , 0. , 0. , 0. , 0.2, 0. , 0. , 0. , 0. , 0. , 0. ,\n",
       "        0. , 0. , 0. , 0. , 0.2, 0. , 0. , 0. , 0. , 0.2, 0. , 0.2, 0. ]])"
      ]
     },
     "execution_count": 38,
     "metadata": {},
     "output_type": "execute_result"
    }
   ],
   "source": [
    "X[0].toarray()"
   ]
  },
  {
   "cell_type": "code",
   "execution_count": 40,
   "metadata": {},
   "outputs": [],
   "source": [
    "## TF-IDF\n",
    "from sklearn.feature_extraction.text import TfidfVectorizer\n",
    "# only considers the top 'n' max features ordered by term frequency\n",
    "cv=TfidfVectorizer(max_features=10)\n",
    "X=cv.fit_transform(corpus)"
   ]
  },
  {
   "cell_type": "code",
   "execution_count": 41,
   "metadata": {},
   "outputs": [
    {
     "data": {
      "text/plain": [
       "array([[0.2538799 , 0.39054107, 0.33382156, 0.66764312, 0.        ,\n",
       "        0.        , 0.22348749, 0.33382156, 0.        , 0.2538799 ]])"
      ]
     },
     "execution_count": 41,
     "metadata": {},
     "output_type": "execute_result"
    }
   ],
   "source": [
    "X[0].toarray()"
   ]
  }
 ],
 "metadata": {
  "kernelspec": {
   "display_name": "Python 3",
   "language": "python",
   "name": "python3"
  },
  "language_info": {
   "codemirror_mode": {
    "name": "ipython",
    "version": 3
   },
   "file_extension": ".py",
   "mimetype": "text/x-python",
   "name": "python",
   "nbconvert_exporter": "python",
   "pygments_lexer": "ipython3",
   "version": "3.10.7"
  },
  "orig_nbformat": 4,
  "vscode": {
   "interpreter": {
    "hash": "0e71fac087ff239f97a80677af45088458db37fbf8ef0a2691e8afa292e413fd"
   }
  }
 },
 "nbformat": 4,
 "nbformat_minor": 2
}
