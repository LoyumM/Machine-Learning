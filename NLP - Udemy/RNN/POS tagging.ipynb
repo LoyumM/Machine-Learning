{
 "cells": [
  {
   "cell_type": "code",
   "execution_count": 1,
   "metadata": {},
   "outputs": [],
   "source": [
    "import nltk\n",
    "from nltk.corpus import brown"
   ]
  },
  {
   "cell_type": "code",
   "execution_count": 2,
   "metadata": {},
   "outputs": [
    {
     "name": "stderr",
     "output_type": "stream",
     "text": [
      "[nltk_data] Downloading package brown to\n",
      "[nltk_data]     C:\\Users\\Loyumba\\AppData\\Roaming\\nltk_data...\n",
      "[nltk_data]   Package brown is already up-to-date!\n",
      "[nltk_data] Downloading package universal_tagset to\n",
      "[nltk_data]     C:\\Users\\Loyumba\\AppData\\Roaming\\nltk_data...\n",
      "[nltk_data]   Unzipping taggers\\universal_tagset.zip.\n"
     ]
    },
    {
     "data": {
      "text/plain": [
       "True"
      ]
     },
     "execution_count": 2,
     "metadata": {},
     "output_type": "execute_result"
    }
   ],
   "source": [
    "nltk.download('brown')\n",
    "nltk.download('universal_tagset')"
   ]
  },
  {
   "cell_type": "code",
   "execution_count": 4,
   "metadata": {},
   "outputs": [],
   "source": [
    "corpus = brown.tagged_sents(tagset='universal')"
   ]
  },
  {
   "cell_type": "code",
   "execution_count": 5,
   "metadata": {},
   "outputs": [
    {
     "data": {
      "text/plain": [
       "[[('The', 'DET'), ('Fulton', 'NOUN'), ('County', 'NOUN'), ('Grand', 'ADJ'), ('Jury', 'NOUN'), ('said', 'VERB'), ('Friday', 'NOUN'), ('an', 'DET'), ('investigation', 'NOUN'), ('of', 'ADP'), (\"Atlanta's\", 'NOUN'), ('recent', 'ADJ'), ('primary', 'NOUN'), ('election', 'NOUN'), ('produced', 'VERB'), ('``', '.'), ('no', 'DET'), ('evidence', 'NOUN'), (\"''\", '.'), ('that', 'ADP'), ('any', 'DET'), ('irregularities', 'NOUN'), ('took', 'VERB'), ('place', 'NOUN'), ('.', '.')], [('The', 'DET'), ('jury', 'NOUN'), ('further', 'ADV'), ('said', 'VERB'), ('in', 'ADP'), ('term-end', 'NOUN'), ('presentments', 'NOUN'), ('that', 'ADP'), ('the', 'DET'), ('City', 'NOUN'), ('Executive', 'ADJ'), ('Committee', 'NOUN'), (',', '.'), ('which', 'DET'), ('had', 'VERB'), ('over-all', 'ADJ'), ('charge', 'NOUN'), ('of', 'ADP'), ('the', 'DET'), ('election', 'NOUN'), (',', '.'), ('``', '.'), ('deserves', 'VERB'), ('the', 'DET'), ('praise', 'NOUN'), ('and', 'CONJ'), ('thanks', 'NOUN'), ('of', 'ADP'), ('the', 'DET'), ('City', 'NOUN'), ('of', 'ADP'), ('Atlanta', 'NOUN'), (\"''\", '.'), ('for', 'ADP'), ('the', 'DET'), ('manner', 'NOUN'), ('in', 'ADP'), ('which', 'DET'), ('the', 'DET'), ('election', 'NOUN'), ('was', 'VERB'), ('conducted', 'VERB'), ('.', '.')], ...]"
      ]
     },
     "execution_count": 5,
     "metadata": {},
     "output_type": "execute_result"
    }
   ],
   "source": [
    "corpus"
   ]
  },
  {
   "cell_type": "code",
   "execution_count": 6,
   "metadata": {},
   "outputs": [
    {
     "data": {
      "text/plain": [
       "57340"
      ]
     },
     "execution_count": 6,
     "metadata": {},
     "output_type": "execute_result"
    }
   ],
   "source": [
    "len(corpus)"
   ]
  },
  {
   "cell_type": "code",
   "execution_count": 7,
   "metadata": {},
   "outputs": [],
   "source": [
    "inputs = []\n",
    "targets = []\n",
    "\n",
    "for sentence_tag_pairs in corpus:\n",
    "    tokens = []\n",
    "    target = []\n",
    "    for token, tag in sentence_tag_pairs:\n",
    "        tokens.append(token)\n",
    "        target.append(tag)\n",
    "    inputs.append(tokens)\n",
    "    targets.append(target) "
   ]
  },
  {
   "cell_type": "code",
   "execution_count": 8,
   "metadata": {},
   "outputs": [],
   "source": [
    "import numpy as np\n",
    "import pandas as pd\n",
    "import tensorflow as tf\n",
    "import matplotlib.pyplot as plt\n",
    "from sklearn.model_selection import train_test_split\n",
    "\n",
    "from tensorflow.keras.preprocessing.text import Tokenizer\n",
    "from tensorflow.keras.preprocessing.sequence import pad_sequences\n",
    "from tensorflow.keras.layers import Dense, Input, Bidirectional\n",
    "from tensorflow.keras.layers import LSTM, GRU, SimpleRNN, Embedding\n",
    "from tensorflow.keras.models import Model\n",
    "from tensorflow.keras.losses import SparseCategoricalCrossentropy"
   ]
  },
  {
   "cell_type": "code",
   "execution_count": 9,
   "metadata": {},
   "outputs": [],
   "source": [
    "train_inputs, test_inputs, train_targets, test_targets = train_test_split(\n",
    "    inputs,\n",
    "    targets,\n",
    "    test_size=0.3,\n",
    ")"
   ]
  },
  {
   "cell_type": "code",
   "execution_count": 10,
   "metadata": {},
   "outputs": [],
   "source": [
    "# Convert sentences to sequences\n",
    "\n",
    "MAX_VOCAB_SIZE = None\n",
    "\n",
    "# capitalization might be useful - test it\n",
    "should_lowercase = False\n",
    "word_tokenizer = Tokenizer(\n",
    "    num_words=MAX_VOCAB_SIZE,\n",
    "    lower=should_lowercase,\n",
    "    oov_token='UNK',\n",
    ")\n",
    "# otherwise unknown tokens will be removed and len(input) != len(target)\n",
    "# input words and target words will not be aligned!\n",
    "\n",
    "word_tokenizer.fit_on_texts(train_inputs)\n",
    "train_inputs_int = word_tokenizer.texts_to_sequences(train_inputs)\n",
    "test_inputs_int = word_tokenizer.texts_to_sequences(test_inputs)"
   ]
  },
  {
   "cell_type": "code",
   "execution_count": 11,
   "metadata": {},
   "outputs": [
    {
     "name": "stdout",
     "output_type": "stream",
     "text": [
      "Found 47270 unique tokens.\n"
     ]
    }
   ],
   "source": [
    "# get word -> integer mapping\n",
    "word2idx = word_tokenizer.word_index\n",
    "V = len(word2idx)\n",
    "print('Found %s unique tokens.' % V)"
   ]
  },
  {
   "cell_type": "code",
   "execution_count": 12,
   "metadata": {},
   "outputs": [],
   "source": [
    "# https://stackoverflow.com/questions/11264684/flatten-list-of-lists\n",
    "def flatten(list_of_lists):\n",
    "    flattened = [val for sublist in list_of_lists for val in sublist]\n",
    "    return flattened"
   ]
  },
  {
   "cell_type": "code",
   "execution_count": 13,
   "metadata": {},
   "outputs": [
    {
     "data": {
      "text/plain": [
       "{'.',\n",
       " 'ADJ',\n",
       " 'ADP',\n",
       " 'ADV',\n",
       " 'CONJ',\n",
       " 'DET',\n",
       " 'NOUN',\n",
       " 'NUM',\n",
       " 'PRON',\n",
       " 'PRT',\n",
       " 'VERB',\n",
       " 'X'}"
      ]
     },
     "execution_count": 13,
     "metadata": {},
     "output_type": "execute_result"
    }
   ],
   "source": [
    "all_train_targets = set(flatten(train_targets))\n",
    "all_train_targets"
   ]
  },
  {
   "cell_type": "code",
   "execution_count": 14,
   "metadata": {},
   "outputs": [
    {
     "data": {
      "text/plain": [
       "{'.',\n",
       " 'ADJ',\n",
       " 'ADP',\n",
       " 'ADV',\n",
       " 'CONJ',\n",
       " 'DET',\n",
       " 'NOUN',\n",
       " 'NUM',\n",
       " 'PRON',\n",
       " 'PRT',\n",
       " 'VERB',\n",
       " 'X'}"
      ]
     },
     "execution_count": 14,
     "metadata": {},
     "output_type": "execute_result"
    }
   ],
   "source": [
    "all_test_targets = set(flatten(test_targets))\n",
    "all_test_targets"
   ]
  },
  {
   "cell_type": "code",
   "execution_count": 15,
   "metadata": {},
   "outputs": [
    {
     "data": {
      "text/plain": [
       "True"
      ]
     },
     "execution_count": 15,
     "metadata": {},
     "output_type": "execute_result"
    }
   ],
   "source": [
    "all_train_targets == all_test_targets"
   ]
  },
  {
   "cell_type": "code",
   "execution_count": 16,
   "metadata": {},
   "outputs": [],
   "source": [
    "# Convert targets to sequences\n",
    "tag_tokenizer = Tokenizer()\n",
    "tag_tokenizer.fit_on_texts(train_targets)\n",
    "train_targets_int = tag_tokenizer.texts_to_sequences(train_targets)\n",
    "test_targets_int = tag_tokenizer.texts_to_sequences(test_targets)\n",
    "\n",
    "# save for later\n",
    "train_targets_int_unpadded = train_targets_int\n",
    "test_targets_int_unpadded = test_targets_int"
   ]
  },
  {
   "cell_type": "code",
   "execution_count": 17,
   "metadata": {},
   "outputs": [],
   "source": [
    "# before padding, find max document length\n",
    "# because we don't want to truncate any inputs\n",
    "# which would also truncate targets\n",
    "maxlen_train = max(len(sent) for sent in train_inputs)\n",
    "maxlen_test = max(len(sent) for sent in test_inputs)\n",
    "T = max((maxlen_train, maxlen_test))"
   ]
  },
  {
   "cell_type": "code",
   "execution_count": 18,
   "metadata": {},
   "outputs": [
    {
     "name": "stdout",
     "output_type": "stream",
     "text": [
      "Shape of data train tensor: (40138, 180)\n"
     ]
    }
   ],
   "source": [
    "# pad sequences so that we get a N x T matrix\n",
    "train_inputs_int = pad_sequences(train_inputs_int, maxlen=T)\n",
    "print('Shape of data train tensor:', train_inputs_int.shape)"
   ]
  },
  {
   "cell_type": "code",
   "execution_count": 19,
   "metadata": {},
   "outputs": [
    {
     "name": "stdout",
     "output_type": "stream",
     "text": [
      "Shape of data test tensor: (17202, 180)\n"
     ]
    }
   ],
   "source": [
    "test_inputs_int = pad_sequences(test_inputs_int, maxlen=T)\n",
    "print('Shape of data test tensor:', test_inputs_int.shape)"
   ]
  },
  {
   "cell_type": "code",
   "execution_count": 20,
   "metadata": {},
   "outputs": [
    {
     "name": "stdout",
     "output_type": "stream",
     "text": [
      "Shape of train targets tensor: (40138, 180)\n"
     ]
    }
   ],
   "source": [
    "train_targets_int = pad_sequences(train_targets_int, maxlen=T)\n",
    "print('Shape of train targets tensor:', train_targets_int.shape)"
   ]
  },
  {
   "cell_type": "code",
   "execution_count": 21,
   "metadata": {},
   "outputs": [
    {
     "name": "stdout",
     "output_type": "stream",
     "text": [
      "Shape of test targets tensor: (17202, 180)\n"
     ]
    }
   ],
   "source": [
    "test_targets_int = pad_sequences(test_targets_int, maxlen=T)\n",
    "print('Shape of test targets tensor:', test_targets_int.shape)"
   ]
  },
  {
   "cell_type": "code",
   "execution_count": 22,
   "metadata": {},
   "outputs": [
    {
     "data": {
      "text/plain": [
       "13"
      ]
     },
     "execution_count": 22,
     "metadata": {},
     "output_type": "execute_result"
    }
   ],
   "source": [
    "# number of classes\n",
    "K = len(tag_tokenizer.word_index) + 1\n",
    "K"
   ]
  },
  {
   "cell_type": "code",
   "execution_count": 23,
   "metadata": {},
   "outputs": [],
   "source": [
    "# Create the model\n",
    "\n",
    "# We get to choose embedding dimensionality\n",
    "D = 32\n",
    "\n",
    "i = Input(shape=(T,))\n",
    "# mask_zero=True way slower on GPU than CPU!\n",
    "x = Embedding(V + 1, D, mask_zero=True)(i)\n",
    "x = Bidirectional(LSTM(32, return_sequences=True))(x)\n",
    "x = Dense(K)(x)\n",
    "\n",
    "model = Model(i, x)"
   ]
  },
  {
   "cell_type": "code",
   "execution_count": 24,
   "metadata": {},
   "outputs": [
    {
     "name": "stdout",
     "output_type": "stream",
     "text": [
      "Training model...\n",
      "Epoch 1/5\n",
      "1255/1255 [==============================] - 125s 96ms/step - loss: 0.4735 - accuracy: 0.8601 - val_loss: 0.1101 - val_accuracy: 0.9649\n",
      "Epoch 2/5\n",
      "1255/1255 [==============================] - 149s 118ms/step - loss: 0.0686 - accuracy: 0.9787 - val_loss: 0.0876 - val_accuracy: 0.9720\n",
      "Epoch 3/5\n",
      "1255/1255 [==============================] - 149s 119ms/step - loss: 0.0421 - accuracy: 0.9866 - val_loss: 0.0887 - val_accuracy: 0.9730\n",
      "Epoch 4/5\n",
      "1255/1255 [==============================] - 165s 132ms/step - loss: 0.0317 - accuracy: 0.9899 - val_loss: 0.0901 - val_accuracy: 0.9730\n",
      "Epoch 5/5\n",
      "1255/1255 [==============================] - 180s 143ms/step - loss: 0.0247 - accuracy: 0.9922 - val_loss: 0.0964 - val_accuracy: 0.9732\n"
     ]
    }
   ],
   "source": [
    "# Compile and fit\n",
    "model.compile(\n",
    "  loss=SparseCategoricalCrossentropy(from_logits=True),\n",
    "  optimizer='adam',\n",
    "  metrics=['accuracy']\n",
    ")\n",
    "\n",
    "# NOTE: you \"could\" speed this up by creating a custom loss, since Tensorflow's\n",
    "# implementation of mask_zero currently sucks, but it's sufficiently advanced\n",
    "# to be outside the scope of this course\n",
    "# In my experiments, CPU is faster than GPU in all cases, and CPU for custom\n",
    "# loss is faster than CPU for mask_zero\n",
    "\n",
    "# > 300-400s per epoch on CPU\n",
    "# > 30 MINUTES per epoch on GPU\n",
    "print('Training model...')\n",
    "r = model.fit(\n",
    "  train_inputs_int,\n",
    "  train_targets_int,\n",
    "  epochs=5,\n",
    "  validation_data=(test_inputs_int, test_targets_int)\n",
    ")"
   ]
  },
  {
   "cell_type": "code",
   "execution_count": 25,
   "metadata": {},
   "outputs": [
    {
     "data": {
      "image/png": "[encoded data removed]",
      "text/plain": [
       "<Figure size 432x288 with 1 Axes>"
      ]
     },
     "metadata": {
      "needs_background": "light"
     },
     "output_type": "display_data"
    }
   ],
   "source": [
    "# Plot loss per iteration\n",
    "plt.plot(r.history['loss'], label='train loss')\n",
    "plt.plot(r.history['val_loss'], label='val loss')\n",
    "plt.legend();"
   ]
  },
  {
   "cell_type": "code",
   "execution_count": 26,
   "metadata": {},
   "outputs": [
    {
     "data": {
      "image/png": "[encoded data removed]",
      "text/plain": [
       "<Figure size 432x288 with 1 Axes>"
      ]
     },
     "metadata": {
      "needs_background": "light"
     },
     "output_type": "display_data"
    }
   ],
   "source": [
    "# Plot accuracy per iteration\n",
    "plt.plot(r.history['accuracy'], label='train acc')\n",
    "plt.plot(r.history['val_accuracy'], label='val acc')\n",
    "plt.legend();"
   ]
  },
  {
   "cell_type": "code",
   "execution_count": 27,
   "metadata": {},
   "outputs": [],
   "source": [
    "# True model accuracy - above includes padding\n",
    "\n",
    "# first get length of each sequence\n",
    "train_lengths = []\n",
    "for sentence in train_inputs:\n",
    "  train_lengths.append(len(sentence))\n",
    "\n",
    "test_lengths = []\n",
    "for sentence in test_inputs:\n",
    "  test_lengths.append(len(sentence))"
   ]
  },
  {
   "cell_type": "code",
   "execution_count": 28,
   "metadata": {},
   "outputs": [
    {
     "name": "stdout",
     "output_type": "stream",
     "text": [
      "1255/1255 [==============================] - 23s 17ms/step\n"
     ]
    }
   ],
   "source": [
    "train_probs = model.predict(train_inputs_int) # N x T x K\n",
    "train_predictions = []\n",
    "for probs, length in zip(train_probs, train_lengths):\n",
    "    # probs is T x K\n",
    "    probs_ = probs[-length:]\n",
    "    preds = np.argmax(probs_, axis=1)\n",
    "    train_predictions.append(preds)\n",
    "\n",
    "# flatten\n",
    "flat_train_predictions = flatten(train_predictions)\n",
    "flat_train_targets = flatten(train_targets_int_unpadded)"
   ]
  },
  {
   "cell_type": "code",
   "execution_count": 29,
   "metadata": {},
   "outputs": [
    {
     "name": "stdout",
     "output_type": "stream",
     "text": [
      "538/538 [==============================] - 10s 18ms/step\n"
     ]
    }
   ],
   "source": [
    "test_probs = model.predict(test_inputs_int) # N x T x K\n",
    "test_predictions = []\n",
    "for probs, length in zip(test_probs, test_lengths):\n",
    "    # probs is T x K\n",
    "    probs_ = probs[-length:]\n",
    "    preds = np.argmax(probs_, axis=1)\n",
    "    test_predictions.append(preds)\n",
    "\n",
    "# flatten\n",
    "flat_test_predictions = flatten(test_predictions)\n",
    "flat_test_targets = flatten(test_targets_int_unpadded)"
   ]
  },
  {
   "cell_type": "code",
   "execution_count": 30,
   "metadata": {},
   "outputs": [
    {
     "name": "stdout",
     "output_type": "stream",
     "text": [
      "Train acc: 0.9944149152442134\n",
      "Test acc: 0.973215358473078\n",
      "Train f1: 0.9867775933849711\n",
      "Test f1: 0.9274265183247578\n"
     ]
    }
   ],
   "source": [
    "from sklearn.metrics import accuracy_score, f1_score\n",
    "\n",
    "print(\"Train acc:\", accuracy_score(flat_train_targets, flat_train_predictions))\n",
    "print(\"Test acc:\", accuracy_score(flat_test_targets, flat_test_predictions))\n",
    "\n",
    "print(\"Train f1:\",\n",
    "      f1_score(flat_train_targets, flat_train_predictions, average='macro'))\n",
    "print(\"Test f1:\",\n",
    "      f1_score(flat_test_targets, flat_test_predictions, average='macro'))"
   ]
  },
  {
   "cell_type": "code",
   "execution_count": 31,
   "metadata": {},
   "outputs": [],
   "source": [
    "### Baseline model: map word to tag\n",
    "from collections import Counter\n",
    "\n",
    "# https://stackoverflow.com/questions/1518522/find-the-most-common-element-in-a-list\n",
    "def most_common(lst):\n",
    "    data = Counter(lst)\n",
    "    return data.most_common(1)[0][0]"
   ]
  },
  {
   "cell_type": "code",
   "execution_count": 32,
   "metadata": {},
   "outputs": [],
   "source": [
    "token2tags = {k: [] for k, v in word2idx.items()}\n",
    "\n",
    "# remove UNK token\n",
    "del token2tags['UNK']\n",
    "\n",
    "for tokens, tags in zip(train_inputs, train_targets):\n",
    "    for token, tag in zip(tokens, tags):\n",
    "        if should_lowercase:\n",
    "            token = token.lower()\n",
    "        if token in token2tags:\n",
    "            token2tags[token].append(tag)\n",
    "\n",
    "token2tag = {k: most_common(v) for k, v in token2tags.items()}"
   ]
  },
  {
   "cell_type": "code",
   "execution_count": 33,
   "metadata": {},
   "outputs": [],
   "source": [
    "# compute accuracy\n",
    "\n",
    "train_predictions = []\n",
    "for sentence in train_inputs:\n",
    "    predictions = []\n",
    "    for token in sentence:\n",
    "        if should_lowercase:\n",
    "            token = token.lower()\n",
    "        predicted_tag = token2tag[token]\n",
    "        predictions.append(predicted_tag)\n",
    "    train_predictions.append(predictions)\n",
    "flat_train_predictions = flatten(train_predictions)\n",
    "flat_train_targets = flatten(train_targets)"
   ]
  },
  {
   "cell_type": "code",
   "execution_count": 34,
   "metadata": {},
   "outputs": [],
   "source": [
    "test_predictions = []\n",
    "for sentence in test_inputs:\n",
    "    predictions = []\n",
    "    for token in sentence:\n",
    "        predicted_tag = token2tag.get(token, 'INCORRECT')\n",
    "        predictions.append(predicted_tag)\n",
    "    test_predictions.append(predictions)\n",
    "flat_test_predictions = flatten(test_predictions)\n",
    "flat_test_targets = flatten(test_targets)"
   ]
  },
  {
   "cell_type": "code",
   "execution_count": 35,
   "metadata": {},
   "outputs": [
    {
     "name": "stdout",
     "output_type": "stream",
     "text": [
      "Train acc: 0.9573645989655334\n",
      "Test acc: 0.9273842421745822\n",
      "Train f1: 0.9382332146671354\n",
      "Test f1: 0.8253471280507554\n"
     ]
    }
   ],
   "source": [
    "print(\"Train acc:\", accuracy_score(flat_train_targets, flat_train_predictions))\n",
    "print(\"Test acc:\", accuracy_score(flat_test_targets, flat_test_predictions))\n",
    "\n",
    "print(\"Train f1:\",\n",
    "      f1_score(flat_train_targets, flat_train_predictions, average='macro'))\n",
    "print(\"Test f1:\",\n",
    "      f1_score(flat_test_targets, flat_test_predictions, average='macro'))"
   ]
  },
  {
   "cell_type": "code",
   "execution_count": 36,
   "metadata": {},
   "outputs": [],
   "source": [
    "# Exercise #1: use different layers (GRU, SimpleRNN), different number of hidden\n",
    "# units, number of layers, etc. as before\n",
    "# Also, repeat the exercise with CNNs instead of RNNs"
   ]
  },
  {
   "cell_type": "code",
   "execution_count": 37,
   "metadata": {},
   "outputs": [],
   "source": [
    "# Exercise #2: repeat the same code, but include the 2 mistakes\n",
    "# Mistake #1: not having an OOV token (target len != input len, misalignment)\n",
    "#     Also, verify that target misalignment exists\n",
    "# Mistake #2: not ignoring padding in loss computation\n",
    "# Observe that you get 99% accuracy, even with a bad model.\n",
    "# Exercise: why is the accuracy so high? (discuss on Q&A with your peers)\n",
    "\n",
    "# I've seen these mistakes on Kaggle and on blogs (you know how I like\n",
    "# to read a.k.a. judge bad DS/ML bloggers and marketers). The mistake arises\n",
    "# from \"trusting the library too much\", assuming you can just use the\n",
    "# Tokenizer() with default values and Embedding() with default values, and not\n",
    "# thinking about what they actually do.\n",
    "\n",
    "# i.e. it's important to THINK, not just \"use libraries\"."
   ]
  }
 ],
 "metadata": {
  "kernelspec": {
   "display_name": "Python 3",
   "language": "python",
   "name": "python3"
  },
  "language_info": {
   "codemirror_mode": {
    "name": "ipython",
    "version": 3
   },
   "file_extension": ".py",
   "mimetype": "text/x-python",
   "name": "python",
   "nbconvert_exporter": "python",
   "pygments_lexer": "ipython3",
   "version": "3.10.6"
  },
  "orig_nbformat": 4
 },
 "nbformat": 4,
 "nbformat_minor": 2
}
