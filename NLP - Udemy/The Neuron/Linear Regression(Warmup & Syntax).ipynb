{
 "cells": [
  {
   "cell_type": "code",
   "execution_count": 1,
   "metadata": {},
   "outputs": [],
   "source": [
    "import numpy as np\n",
    "import tensorflow as tf\n",
    "import matplotlib.pyplot as plt\n",
    "\n",
    "from tensorflow.keras.layers import Dense, Input\n",
    "from tensorflow.keras.models import Model\n",
    "from tensorflow.keras.optimizers import Adam"
   ]
  },
  {
   "cell_type": "code",
   "execution_count": 2,
   "metadata": {},
   "outputs": [],
   "source": [
    "N = 100\n",
    "X = np.random.random(N) * 6 - 3\n",
    "y = 0.5 * X - 1 + np.random.randn(N) * 0.5 "
   ]
  },
  {
   "cell_type": "code",
   "execution_count": 3,
   "metadata": {},
   "outputs": [
    {
     "data": {
      "image/png": "[encoded data removed]",
      "text/plain": [
       "<Figure size 432x288 with 1 Axes>"
      ]
     },
     "metadata": {
      "needs_background": "light"
     },
     "output_type": "display_data"
    }
   ],
   "source": [
    "plt.scatter(X, y);"
   ]
  },
  {
   "cell_type": "code",
   "execution_count": 4,
   "metadata": {},
   "outputs": [],
   "source": [
    "#build model\n",
    "i = Input(shape=(1,))\n",
    "x = Dense(1)(i)\n",
    "\n",
    "model = Model(i, x)"
   ]
  },
  {
   "cell_type": "code",
   "execution_count": 5,
   "metadata": {},
   "outputs": [
    {
     "name": "stdout",
     "output_type": "stream",
     "text": [
      "Model: \"model\"\n",
      "_________________________________________________________________\n",
      " Layer (type)                Output Shape              Param #   \n",
      "=================================================================\n",
      " input_1 (InputLayer)        [(None, 1)]               0         \n",
      "                                                                 \n",
      " dense (Dense)               (None, 1)                 2         \n",
      "                                                                 \n",
      "=================================================================\n",
      "Total params: 2\n",
      "Trainable params: 2\n",
      "Non-trainable params: 0\n",
      "_________________________________________________________________\n"
     ]
    }
   ],
   "source": [
    "model.summary()"
   ]
  },
  {
   "cell_type": "code",
   "execution_count": 6,
   "metadata": {},
   "outputs": [],
   "source": [
    "model.compile(\n",
    "  loss='mse',\n",
    "  # optimizer='adam',\n",
    "  optimizer=Adam(learning_rate=0.1),\n",
    "  metrics=['mae']\n",
    ")"
   ]
  },
  {
   "cell_type": "code",
   "execution_count": 7,
   "metadata": {},
   "outputs": [
    {
     "name": "stdout",
     "output_type": "stream",
     "text": [
      "Epoch 1/200\n",
      "4/4 [==============================] - 1s 6ms/step - loss: 1.5543 - mae: 1.0310\n",
      "Epoch 2/200\n",
      "4/4 [==============================] - 0s 4ms/step - loss: 0.5128 - mae: 0.6063\n",
      "Epoch 3/200\n",
      "4/4 [==============================] - 0s 3ms/step - loss: 0.3767 - mae: 0.4832\n",
      "Epoch 4/200\n",
      "4/4 [==============================] - 0s 3ms/step - loss: 0.3585 - mae: 0.4637\n",
      "Epoch 5/200\n",
      "4/4 [==============================] - 0s 2ms/step - loss: 0.3255 - mae: 0.4529\n",
      "Epoch 6/200\n",
      "4/4 [==============================] - 0s 2ms/step - loss: 0.3273 - mae: 0.4573\n",
      "Epoch 7/200\n",
      "4/4 [==============================] - 0s 2ms/step - loss: 0.3014 - mae: 0.4383\n",
      "Epoch 8/200\n",
      "4/4 [==============================] - 0s 2ms/step - loss: 0.2526 - mae: 0.4085\n",
      "Epoch 9/200\n",
      "4/4 [==============================] - 0s 6ms/step - loss: 0.2403 - mae: 0.4031\n",
      "Epoch 10/200\n",
      "4/4 [==============================] - 0s 2ms/step - loss: 0.2544 - mae: 0.4204\n",
      "Epoch 11/200\n",
      "4/4 [==============================] - 0s 2ms/step - loss: 0.2485 - mae: 0.4106\n",
      "Epoch 12/200\n",
      "4/4 [==============================] - 0s 3ms/step - loss: 0.2471 - mae: 0.4024\n",
      "Epoch 13/200\n",
      "4/4 [==============================] - 0s 2ms/step - loss: 0.2494 - mae: 0.4000\n",
      "Epoch 14/200\n",
      "4/4 [==============================] - 0s 2ms/step - loss: 0.2415 - mae: 0.3997\n",
      "Epoch 15/200\n",
      "4/4 [==============================] - 0s 2ms/step - loss: 0.2462 - mae: 0.4034\n",
      "Epoch 16/200\n",
      "4/4 [==============================] - 0s 2ms/step - loss: 0.2502 - mae: 0.4063\n",
      "Epoch 17/200\n",
      "4/4 [==============================] - 0s 2ms/step - loss: 0.2447 - mae: 0.4041\n",
      "Epoch 18/200\n",
      "4/4 [==============================] - 0s 2ms/step - loss: 0.2408 - mae: 0.3992\n",
      "Epoch 19/200\n",
      "4/4 [==============================] - 0s 2ms/step - loss: 0.2417 - mae: 0.3971\n",
      "Epoch 20/200\n",
      "4/4 [==============================] - 0s 2ms/step - loss: 0.2383 - mae: 0.3981\n",
      "Epoch 21/200\n",
      "4/4 [==============================] - 0s 2ms/step - loss: 0.2406 - mae: 0.3993\n",
      "Epoch 22/200\n",
      "4/4 [==============================] - 0s 2ms/step - loss: 0.2440 - mae: 0.4012\n",
      "Epoch 23/200\n",
      "4/4 [==============================] - 0s 1ms/step - loss: 0.2421 - mae: 0.4003\n",
      "Epoch 24/200\n",
      "4/4 [==============================] - 0s 2ms/step - loss: 0.2390 - mae: 0.3982\n",
      "Epoch 25/200\n",
      "4/4 [==============================] - 0s 2ms/step - loss: 0.2471 - mae: 0.4107\n",
      "Epoch 26/200\n",
      "4/4 [==============================] - 0s 2ms/step - loss: 0.2524 - mae: 0.4150\n",
      "Epoch 27/200\n",
      "4/4 [==============================] - 0s 2ms/step - loss: 0.2366 - mae: 0.3972\n",
      "Epoch 28/200\n",
      "4/4 [==============================] - 0s 2ms/step - loss: 0.2479 - mae: 0.4002\n",
      "Epoch 29/200\n",
      "4/4 [==============================] - 0s 2ms/step - loss: 0.2558 - mae: 0.4050\n",
      "Epoch 30/200\n",
      "4/4 [==============================] - 0s 2ms/step - loss: 0.2505 - mae: 0.4004\n",
      "Epoch 31/200\n",
      "4/4 [==============================] - 0s 2ms/step - loss: 0.2504 - mae: 0.4020\n",
      "Epoch 32/200\n",
      "4/4 [==============================] - 0s 2ms/step - loss: 0.2439 - mae: 0.4033\n",
      "Epoch 33/200\n",
      "4/4 [==============================] - 0s 2ms/step - loss: 0.2442 - mae: 0.4058\n",
      "Epoch 34/200\n",
      "4/4 [==============================] - 0s 2ms/step - loss: 0.2436 - mae: 0.4061\n",
      "Epoch 35/200\n",
      "4/4 [==============================] - 0s 1ms/step - loss: 0.2415 - mae: 0.4024\n",
      "Epoch 36/200\n",
      "4/4 [==============================] - 0s 2ms/step - loss: 0.2515 - mae: 0.4071\n",
      "Epoch 37/200\n",
      "4/4 [==============================] - 0s 3ms/step - loss: 0.2449 - mae: 0.4018\n",
      "Epoch 38/200\n",
      "4/4 [==============================] - 0s 2ms/step - loss: 0.2396 - mae: 0.3997\n",
      "Epoch 39/200\n",
      "4/4 [==============================] - 0s 2ms/step - loss: 0.2383 - mae: 0.3972\n",
      "Epoch 40/200\n",
      "4/4 [==============================] - 0s 2ms/step - loss: 0.2385 - mae: 0.3973\n",
      "Epoch 41/200\n",
      "4/4 [==============================] - 0s 2ms/step - loss: 0.2414 - mae: 0.3969\n",
      "Epoch 42/200\n",
      "4/4 [==============================] - 0s 2ms/step - loss: 0.2348 - mae: 0.3937\n",
      "Epoch 43/200\n",
      "4/4 [==============================] - 0s 1ms/step - loss: 0.2557 - mae: 0.4197\n",
      "Epoch 44/200\n",
      "4/4 [==============================] - 0s 2ms/step - loss: 0.2688 - mae: 0.4344\n",
      "Epoch 45/200\n",
      "4/4 [==============================] - 0s 1ms/step - loss: 0.2404 - mae: 0.4031\n",
      "Epoch 46/200\n",
      "4/4 [==============================] - 0s 2ms/step - loss: 0.2474 - mae: 0.3982\n",
      "Epoch 47/200\n",
      "4/4 [==============================] - 0s 1ms/step - loss: 0.2650 - mae: 0.4144\n",
      "Epoch 48/200\n",
      "4/4 [==============================] - 0s 1ms/step - loss: 0.2594 - mae: 0.4110\n",
      "Epoch 49/200\n",
      "4/4 [==============================] - 0s 2ms/step - loss: 0.2357 - mae: 0.3972\n",
      "Epoch 50/200\n",
      "4/4 [==============================] - 0s 2ms/step - loss: 0.2518 - mae: 0.4055\n",
      "Epoch 51/200\n",
      "4/4 [==============================] - 0s 2ms/step - loss: 0.2542 - mae: 0.4036\n",
      "Epoch 52/200\n",
      "4/4 [==============================] - 0s 2ms/step - loss: 0.2435 - mae: 0.3983\n",
      "Epoch 53/200\n",
      "4/4 [==============================] - 0s 2ms/step - loss: 0.2432 - mae: 0.4009\n",
      "Epoch 54/200\n",
      "4/4 [==============================] - 0s 2ms/step - loss: 0.2536 - mae: 0.4068\n",
      "Epoch 55/200\n",
      "4/4 [==============================] - 0s 2ms/step - loss: 0.2576 - mae: 0.4094\n",
      "Epoch 56/200\n",
      "4/4 [==============================] - 0s 2ms/step - loss: 0.2440 - mae: 0.4022\n",
      "Epoch 57/200\n",
      "4/4 [==============================] - 0s 2ms/step - loss: 0.2479 - mae: 0.4021\n",
      "Epoch 58/200\n",
      "4/4 [==============================] - 0s 2ms/step - loss: 0.2414 - mae: 0.3976\n",
      "Epoch 59/200\n",
      "4/4 [==============================] - 0s 3ms/step - loss: 0.2384 - mae: 0.3955\n",
      "Epoch 60/200\n",
      "4/4 [==============================] - 0s 3ms/step - loss: 0.2496 - mae: 0.4102\n",
      "Epoch 61/200\n",
      "4/4 [==============================] - 0s 2ms/step - loss: 0.2461 - mae: 0.4055\n",
      "Epoch 62/200\n",
      "4/4 [==============================] - 0s 3ms/step - loss: 0.2377 - mae: 0.3951\n",
      "Epoch 63/200\n",
      "4/4 [==============================] - 0s 2ms/step - loss: 0.2457 - mae: 0.3963\n",
      "Epoch 64/200\n",
      "4/4 [==============================] - 0s 2ms/step - loss: 0.2516 - mae: 0.4026\n",
      "Epoch 65/200\n",
      "4/4 [==============================] - 0s 2ms/step - loss: 0.2463 - mae: 0.4049\n",
      "Epoch 66/200\n",
      "4/4 [==============================] - 0s 2ms/step - loss: 0.2451 - mae: 0.4076\n",
      "Epoch 67/200\n",
      "4/4 [==============================] - 0s 2ms/step - loss: 0.2405 - mae: 0.4009\n",
      "Epoch 68/200\n",
      "4/4 [==============================] - 0s 2ms/step - loss: 0.2469 - mae: 0.4014\n",
      "Epoch 69/200\n",
      "4/4 [==============================] - 0s 2ms/step - loss: 0.2536 - mae: 0.4065\n",
      "Epoch 70/200\n",
      "4/4 [==============================] - 0s 2ms/step - loss: 0.2507 - mae: 0.4049\n",
      "Epoch 71/200\n",
      "4/4 [==============================] - 0s 2ms/step - loss: 0.2427 - mae: 0.4004\n",
      "Epoch 72/200\n",
      "4/4 [==============================] - 0s 2ms/step - loss: 0.2404 - mae: 0.4003\n",
      "Epoch 73/200\n",
      "4/4 [==============================] - 0s 2ms/step - loss: 0.2401 - mae: 0.4018\n",
      "Epoch 74/200\n",
      "4/4 [==============================] - 0s 2ms/step - loss: 0.2382 - mae: 0.3977\n",
      "Epoch 75/200\n",
      "4/4 [==============================] - 0s 5ms/step - loss: 0.2379 - mae: 0.3948\n",
      "Epoch 76/200\n",
      "4/4 [==============================] - 0s 2ms/step - loss: 0.2437 - mae: 0.4002\n",
      "Epoch 77/200\n",
      "4/4 [==============================] - 0s 13ms/step - loss: 0.2414 - mae: 0.3983\n",
      "Epoch 78/200\n",
      "4/4 [==============================] - 0s 2ms/step - loss: 0.2392 - mae: 0.3965\n",
      "Epoch 79/200\n",
      "4/4 [==============================] - 0s 2ms/step - loss: 0.2396 - mae: 0.3971\n",
      "Epoch 80/200\n",
      "4/4 [==============================] - 0s 3ms/step - loss: 0.2415 - mae: 0.4004\n",
      "Epoch 81/200\n",
      "4/4 [==============================] - 0s 2ms/step - loss: 0.2440 - mae: 0.4027\n",
      "Epoch 82/200\n",
      "4/4 [==============================] - 0s 1ms/step - loss: 0.2421 - mae: 0.3952\n",
      "Epoch 83/200\n",
      "4/4 [==============================] - 0s 2ms/step - loss: 0.2489 - mae: 0.4055\n",
      "Epoch 84/200\n",
      "4/4 [==============================] - 0s 2ms/step - loss: 0.2560 - mae: 0.4192\n",
      "Epoch 85/200\n",
      "4/4 [==============================] - 0s 2ms/step - loss: 0.2505 - mae: 0.4168\n",
      "Epoch 86/200\n",
      "4/4 [==============================] - 0s 2ms/step - loss: 0.2392 - mae: 0.4001\n",
      "Epoch 87/200\n",
      "4/4 [==============================] - 0s 2ms/step - loss: 0.2390 - mae: 0.3981\n",
      "Epoch 88/200\n",
      "4/4 [==============================] - 0s 1ms/step - loss: 0.2434 - mae: 0.3981\n",
      "Epoch 89/200\n",
      "4/4 [==============================] - 0s 2ms/step - loss: 0.2479 - mae: 0.4007\n",
      "Epoch 90/200\n",
      "4/4 [==============================] - 0s 2ms/step - loss: 0.2424 - mae: 0.3986\n",
      "Epoch 91/200\n",
      "4/4 [==============================] - 0s 3ms/step - loss: 0.2394 - mae: 0.4006\n",
      "Epoch 92/200\n",
      "4/4 [==============================] - 0s 2ms/step - loss: 0.2413 - mae: 0.4034\n",
      "Epoch 93/200\n",
      "4/4 [==============================] - 0s 2ms/step - loss: 0.2501 - mae: 0.4071\n",
      "Epoch 94/200\n",
      "4/4 [==============================] - 0s 2ms/step - loss: 0.2466 - mae: 0.3998\n",
      "Epoch 95/200\n",
      "4/4 [==============================] - 0s 2ms/step - loss: 0.2411 - mae: 0.3967\n",
      "Epoch 96/200\n",
      "4/4 [==============================] - 0s 2ms/step - loss: 0.2481 - mae: 0.4065\n",
      "Epoch 97/200\n",
      "4/4 [==============================] - 0s 2ms/step - loss: 0.2418 - mae: 0.4053\n",
      "Epoch 98/200\n",
      "4/4 [==============================] - 0s 2ms/step - loss: 0.2489 - mae: 0.4074\n",
      "Epoch 99/200\n",
      "4/4 [==============================] - 0s 2ms/step - loss: 0.2678 - mae: 0.4152\n",
      "Epoch 100/200\n",
      "4/4 [==============================] - 0s 3ms/step - loss: 0.2538 - mae: 0.4057\n",
      "Epoch 101/200\n",
      "4/4 [==============================] - 0s 2ms/step - loss: 0.2557 - mae: 0.4198\n",
      "Epoch 102/200\n",
      "4/4 [==============================] - 0s 2ms/step - loss: 0.2650 - mae: 0.4282\n",
      "Epoch 103/200\n",
      "4/4 [==============================] - 0s 2ms/step - loss: 0.2559 - mae: 0.4145\n",
      "Epoch 104/200\n",
      "4/4 [==============================] - 0s 2ms/step - loss: 0.2451 - mae: 0.4042\n",
      "Epoch 105/200\n",
      "4/4 [==============================] - 0s 1ms/step - loss: 0.2382 - mae: 0.3967\n",
      "Epoch 106/200\n",
      "4/4 [==============================] - 0s 2ms/step - loss: 0.2407 - mae: 0.3966\n",
      "Epoch 107/200\n",
      "4/4 [==============================] - 0s 2ms/step - loss: 0.2445 - mae: 0.3997\n",
      "Epoch 108/200\n",
      "4/4 [==============================] - 0s 2ms/step - loss: 0.2438 - mae: 0.4008\n",
      "Epoch 109/200\n",
      "4/4 [==============================] - 0s 12ms/step - loss: 0.2392 - mae: 0.4030\n",
      "Epoch 110/200\n",
      "4/4 [==============================] - 0s 2ms/step - loss: 0.2481 - mae: 0.4062\n",
      "Epoch 111/200\n",
      "4/4 [==============================] - 0s 3ms/step - loss: 0.2461 - mae: 0.4027\n",
      "Epoch 112/200\n",
      "4/4 [==============================] - 0s 2ms/step - loss: 0.2402 - mae: 0.3956\n",
      "Epoch 113/200\n",
      "4/4 [==============================] - 0s 2ms/step - loss: 0.2548 - mae: 0.4168\n",
      "Epoch 114/200\n",
      "4/4 [==============================] - 0s 2ms/step - loss: 0.2456 - mae: 0.4048\n",
      "Epoch 115/200\n",
      "4/4 [==============================] - 0s 2ms/step - loss: 0.2455 - mae: 0.3977\n",
      "Epoch 116/200\n",
      "4/4 [==============================] - 0s 1ms/step - loss: 0.2456 - mae: 0.4024\n",
      "Epoch 117/200\n",
      "4/4 [==============================] - 0s 2ms/step - loss: 0.2473 - mae: 0.4082\n",
      "Epoch 118/200\n",
      "4/4 [==============================] - 0s 4ms/step - loss: 0.2608 - mae: 0.4181\n",
      "Epoch 119/200\n",
      "4/4 [==============================] - 0s 3ms/step - loss: 0.2441 - mae: 0.4034\n",
      "Epoch 120/200\n",
      "4/4 [==============================] - 0s 2ms/step - loss: 0.2440 - mae: 0.4001\n",
      "Epoch 121/200\n",
      "4/4 [==============================] - 0s 2ms/step - loss: 0.2433 - mae: 0.3993\n",
      "Epoch 122/200\n",
      "4/4 [==============================] - 0s 2ms/step - loss: 0.2557 - mae: 0.4057\n",
      "Epoch 123/200\n",
      "4/4 [==============================] - 0s 2ms/step - loss: 0.2424 - mae: 0.4007\n",
      "Epoch 124/200\n",
      "4/4 [==============================] - 0s 2ms/step - loss: 0.2375 - mae: 0.3980\n",
      "Epoch 125/200\n",
      "4/4 [==============================] - 0s 2ms/step - loss: 0.2417 - mae: 0.3976\n",
      "Epoch 126/200\n",
      "4/4 [==============================] - 0s 2ms/step - loss: 0.2477 - mae: 0.3990\n",
      "Epoch 127/200\n",
      "4/4 [==============================] - 0s 2ms/step - loss: 0.2467 - mae: 0.3987\n",
      "Epoch 128/200\n",
      "4/4 [==============================] - 0s 2ms/step - loss: 0.2364 - mae: 0.3970\n",
      "Epoch 129/200\n",
      "4/4 [==============================] - 0s 3ms/step - loss: 0.2546 - mae: 0.4104\n",
      "Epoch 130/200\n",
      "4/4 [==============================] - 0s 3ms/step - loss: 0.2386 - mae: 0.4004\n",
      "Epoch 131/200\n",
      "4/4 [==============================] - 0s 3ms/step - loss: 0.2517 - mae: 0.4020\n",
      "Epoch 132/200\n",
      "4/4 [==============================] - 0s 2ms/step - loss: 0.2589 - mae: 0.4098\n",
      "Epoch 133/200\n",
      "4/4 [==============================] - 0s 2ms/step - loss: 0.2316 - mae: 0.3906\n",
      "Epoch 134/200\n",
      "4/4 [==============================] - 0s 2ms/step - loss: 0.2668 - mae: 0.4174\n",
      "Epoch 135/200\n",
      "4/4 [==============================] - 0s 2ms/step - loss: 0.2339 - mae: 0.3886\n",
      "Epoch 136/200\n",
      "4/4 [==============================] - 0s 2ms/step - loss: 0.2823 - mae: 0.4203\n",
      "Epoch 137/200\n",
      "4/4 [==============================] - 0s 2ms/step - loss: 0.2614 - mae: 0.4088\n",
      "Epoch 138/200\n",
      "4/4 [==============================] - 0s 2ms/step - loss: 0.2388 - mae: 0.4009\n",
      "Epoch 139/200\n",
      "4/4 [==============================] - 0s 2ms/step - loss: 0.2612 - mae: 0.4244\n",
      "Epoch 140/200\n",
      "4/4 [==============================] - 0s 2ms/step - loss: 0.2629 - mae: 0.4227\n",
      "Epoch 141/200\n",
      "4/4 [==============================] - 0s 8ms/step - loss: 0.2402 - mae: 0.4004\n",
      "Epoch 142/200\n",
      "4/4 [==============================] - 0s 2ms/step - loss: 0.2482 - mae: 0.4004\n",
      "Epoch 143/200\n",
      "4/4 [==============================] - 0s 2ms/step - loss: 0.2503 - mae: 0.4047\n",
      "Epoch 144/200\n",
      "4/4 [==============================] - 0s 2ms/step - loss: 0.2421 - mae: 0.3999\n",
      "Epoch 145/200\n",
      "4/4 [==============================] - 0s 2ms/step - loss: 0.2417 - mae: 0.4005\n",
      "Epoch 146/200\n",
      "4/4 [==============================] - 0s 3ms/step - loss: 0.2413 - mae: 0.4009\n",
      "Epoch 147/200\n",
      "4/4 [==============================] - 0s 2ms/step - loss: 0.2478 - mae: 0.4129\n",
      "Epoch 148/200\n",
      "4/4 [==============================] - 0s 2ms/step - loss: 0.2405 - mae: 0.4027\n",
      "Epoch 149/200\n",
      "4/4 [==============================] - 0s 3ms/step - loss: 0.2522 - mae: 0.4053\n",
      "Epoch 150/200\n",
      "4/4 [==============================] - 0s 2ms/step - loss: 0.2668 - mae: 0.4151\n",
      "Epoch 151/200\n",
      "4/4 [==============================] - 0s 2ms/step - loss: 0.2798 - mae: 0.4230\n",
      "Epoch 152/200\n",
      "4/4 [==============================] - 0s 2ms/step - loss: 0.2734 - mae: 0.4335\n",
      "Epoch 153/200\n",
      "4/4 [==============================] - 0s 2ms/step - loss: 0.2640 - mae: 0.4171\n",
      "Epoch 154/200\n",
      "4/4 [==============================] - 0s 2ms/step - loss: 0.2657 - mae: 0.4109\n",
      "Epoch 155/200\n",
      "4/4 [==============================] - 0s 2ms/step - loss: 0.2778 - mae: 0.4351\n",
      "Epoch 156/200\n",
      "4/4 [==============================] - 0s 2ms/step - loss: 0.2937 - mae: 0.4491\n",
      "Epoch 157/200\n",
      "4/4 [==============================] - 0s 2ms/step - loss: 0.2531 - mae: 0.4134\n",
      "Epoch 158/200\n",
      "4/4 [==============================] - 0s 2ms/step - loss: 0.2509 - mae: 0.4035\n",
      "Epoch 159/200\n",
      "4/4 [==============================] - 0s 4ms/step - loss: 0.2383 - mae: 0.3923\n",
      "Epoch 160/200\n",
      "4/4 [==============================] - 0s 2ms/step - loss: 0.2489 - mae: 0.4068\n",
      "Epoch 161/200\n",
      "4/4 [==============================] - 0s 2ms/step - loss: 0.2689 - mae: 0.4178\n",
      "Epoch 162/200\n",
      "4/4 [==============================] - 0s 2ms/step - loss: 0.2513 - mae: 0.4073\n",
      "Epoch 163/200\n",
      "4/4 [==============================] - 0s 2ms/step - loss: 0.2395 - mae: 0.3952\n",
      "Epoch 164/200\n",
      "4/4 [==============================] - 0s 2ms/step - loss: 0.2374 - mae: 0.3932\n",
      "Epoch 165/200\n",
      "4/4 [==============================] - 0s 2ms/step - loss: 0.2466 - mae: 0.4043\n",
      "Epoch 166/200\n",
      "4/4 [==============================] - 0s 2ms/step - loss: 0.2551 - mae: 0.4104\n",
      "Epoch 167/200\n",
      "4/4 [==============================] - 0s 2ms/step - loss: 0.2447 - mae: 0.4017\n",
      "Epoch 168/200\n",
      "4/4 [==============================] - 0s 2ms/step - loss: 0.2432 - mae: 0.3986\n",
      "Epoch 169/200\n",
      "4/4 [==============================] - 0s 2ms/step - loss: 0.2432 - mae: 0.3989\n",
      "Epoch 170/200\n",
      "4/4 [==============================] - 0s 2ms/step - loss: 0.2485 - mae: 0.4067\n",
      "Epoch 171/200\n",
      "4/4 [==============================] - 0s 10ms/step - loss: 0.2427 - mae: 0.4017\n",
      "Epoch 172/200\n",
      "4/4 [==============================] - 0s 2ms/step - loss: 0.2483 - mae: 0.3992\n",
      "Epoch 173/200\n",
      "4/4 [==============================] - 0s 2ms/step - loss: 0.2885 - mae: 0.4233\n",
      "Epoch 174/200\n",
      "4/4 [==============================] - 0s 2ms/step - loss: 0.2523 - mae: 0.4035\n",
      "Epoch 175/200\n",
      "4/4 [==============================] - 0s 2ms/step - loss: 0.2428 - mae: 0.4053\n",
      "Epoch 176/200\n",
      "4/4 [==============================] - 0s 2ms/step - loss: 0.2566 - mae: 0.4152\n",
      "Epoch 177/200\n",
      "4/4 [==============================] - 0s 1ms/step - loss: 0.2488 - mae: 0.4077\n",
      "Epoch 178/200\n",
      "4/4 [==============================] - 0s 2ms/step - loss: 0.2526 - mae: 0.4055\n",
      "Epoch 179/200\n",
      "4/4 [==============================] - 0s 2ms/step - loss: 0.2557 - mae: 0.4055\n",
      "Epoch 180/200\n",
      "4/4 [==============================] - 0s 2ms/step - loss: 0.2474 - mae: 0.4086\n",
      "Epoch 181/200\n",
      "4/4 [==============================] - 0s 2ms/step - loss: 0.2493 - mae: 0.4129\n",
      "Epoch 182/200\n",
      "4/4 [==============================] - 0s 2ms/step - loss: 0.2615 - mae: 0.4237\n",
      "Epoch 183/200\n",
      "4/4 [==============================] - 0s 2ms/step - loss: 0.2658 - mae: 0.4257\n",
      "Epoch 184/200\n",
      "4/4 [==============================] - 0s 2ms/step - loss: 0.2416 - mae: 0.3999\n",
      "Epoch 185/200\n",
      "4/4 [==============================] - 0s 2ms/step - loss: 0.2533 - mae: 0.4002\n",
      "Epoch 186/200\n",
      "4/4 [==============================] - 0s 2ms/step - loss: 0.2692 - mae: 0.4268\n",
      "Epoch 187/200\n",
      "4/4 [==============================] - 0s 2ms/step - loss: 0.2505 - mae: 0.4078\n",
      "Epoch 188/200\n",
      "4/4 [==============================] - 0s 2ms/step - loss: 0.2592 - mae: 0.4152\n",
      "Epoch 189/200\n",
      "4/4 [==============================] - 0s 2ms/step - loss: 0.2659 - mae: 0.4160\n",
      "Epoch 190/200\n",
      "4/4 [==============================] - 0s 1ms/step - loss: 0.2477 - mae: 0.4018\n",
      "Epoch 191/200\n",
      "4/4 [==============================] - 0s 2ms/step - loss: 0.2405 - mae: 0.3970\n",
      "Epoch 192/200\n",
      "4/4 [==============================] - 0s 2ms/step - loss: 0.2450 - mae: 0.4015\n",
      "Epoch 193/200\n",
      "4/4 [==============================] - 0s 2ms/step - loss: 0.2521 - mae: 0.4035\n",
      "Epoch 194/200\n",
      "4/4 [==============================] - 0s 2ms/step - loss: 0.2393 - mae: 0.3944\n",
      "Epoch 195/200\n",
      "4/4 [==============================] - 0s 2ms/step - loss: 0.2396 - mae: 0.4001\n",
      "Epoch 196/200\n",
      "4/4 [==============================] - 0s 2ms/step - loss: 0.2404 - mae: 0.4010\n",
      "Epoch 197/200\n",
      "4/4 [==============================] - 0s 2ms/step - loss: 0.2395 - mae: 0.3978\n",
      "Epoch 198/200\n",
      "4/4 [==============================] - 0s 2ms/step - loss: 0.2419 - mae: 0.4028\n",
      "Epoch 199/200\n",
      "4/4 [==============================] - 0s 11ms/step - loss: 0.2387 - mae: 0.3998\n",
      "Epoch 200/200\n",
      "4/4 [==============================] - 0s 2ms/step - loss: 0.2460 - mae: 0.4002\n"
     ]
    }
   ],
   "source": [
    "r = model.fit(\n",
    "    X.reshape(-1, 1), y,\n",
    "    epochs = 200,\n",
    "    batch_size = 32,\n",
    ")"
   ]
  },
  {
   "cell_type": "code",
   "execution_count": 8,
   "metadata": {},
   "outputs": [
    {
     "data": {
      "image/png": "[encoded data removed]",
      "text/plain": [
       "<Figure size 432x288 with 1 Axes>"
      ]
     },
     "metadata": {
      "needs_background": "light"
     },
     "output_type": "display_data"
    }
   ],
   "source": [
    "# plot loss per iteration\n",
    "plt.plot(r.history['loss'], label = 'loss')\n",
    "plt.legend();"
   ]
  },
  {
   "cell_type": "code",
   "execution_count": 9,
   "metadata": {},
   "outputs": [
    {
     "data": {
      "image/png": "[encoded data removed]",
      "text/plain": [
       "<Figure size 432x288 with 1 Axes>"
      ]
     },
     "metadata": {
      "needs_background": "light"
     },
     "output_type": "display_data"
    }
   ],
   "source": [
    "# plot mae per iteration\n",
    "plt.plot(r.history['mae'], label = 'mae')\n",
    "plt.legend();"
   ]
  },
  {
   "cell_type": "code",
   "execution_count": 10,
   "metadata": {},
   "outputs": [
    {
     "name": "stdout",
     "output_type": "stream",
     "text": [
      "1/1 [==============================] - 0s 70ms/step\n"
     ]
    }
   ],
   "source": [
    "# make predictions\n",
    "X_test = np.linspace(-3,3,20).reshape(-1,1)\n",
    "p_test = model.predict(X_test)"
   ]
  },
  {
   "cell_type": "code",
   "execution_count": 11,
   "metadata": {},
   "outputs": [
    {
     "data": {
      "image/png": "[encoded data removed]",
      "text/plain": [
       "<Figure size 432x288 with 1 Axes>"
      ]
     },
     "metadata": {
      "needs_background": "light"
     },
     "output_type": "display_data"
    }
   ],
   "source": [
    "plt.scatter(X, y)\n",
    "plt.plot(X_test, p_test);"
   ]
  },
  {
   "cell_type": "code",
   "execution_count": 12,
   "metadata": {},
   "outputs": [
    {
     "data": {
      "text/plain": [
       "[<keras.engine.input_layer.InputLayer at 0x1f9db4e6320>,\n",
       " <keras.layers.core.dense.Dense at 0x1f9db4e7d90>]"
      ]
     },
     "execution_count": 12,
     "metadata": {},
     "output_type": "execute_result"
    }
   ],
   "source": [
    "# Check the learned parameters\n",
    "model.layers"
   ]
  },
  {
   "cell_type": "code",
   "execution_count": 13,
   "metadata": {},
   "outputs": [
    {
     "data": {
      "text/plain": [
       "[array([[0.37319237]], dtype=float32), array([-1.0536109], dtype=float32)]"
      ]
     },
     "execution_count": 13,
     "metadata": {},
     "output_type": "execute_result"
    }
   ],
   "source": [
    "model.layers[1].get_weights()"
   ]
  }
 ],
 "metadata": {
  "kernelspec": {
   "display_name": "Python 3",
   "language": "python",
   "name": "python3"
  },
  "language_info": {
   "codemirror_mode": {
    "name": "ipython",
    "version": 3
   },
   "file_extension": ".py",
   "mimetype": "text/x-python",
   "name": "python",
   "nbconvert_exporter": "python",
   "pygments_lexer": "ipython3",
   "version": "3.10.6"
  },
  "orig_nbformat": 4
 },
 "nbformat": 4,
 "nbformat_minor": 2
}
