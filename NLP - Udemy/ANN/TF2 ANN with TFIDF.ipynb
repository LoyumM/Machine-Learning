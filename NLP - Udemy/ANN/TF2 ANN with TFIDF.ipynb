{
 "cells": [
  {
   "cell_type": "code",
   "execution_count": 1,
   "metadata": {},
   "outputs": [],
   "source": [
    "import numpy as np\n",
    "import pandas as pd\n",
    "import tensorflow as tf\n",
    "import matplotlib.pyplot as plt\n",
    "from sklearn.model_selection import train_test_split\n",
    "from sklearn.feature_extraction.text import TfidfVectorizer\n",
    "\n",
    "from tensorflow.keras.layers import Dense, Input\n",
    "from tensorflow.keras.models import Model"
   ]
  },
  {
   "cell_type": "code",
   "execution_count": 2,
   "metadata": {},
   "outputs": [
    {
     "data": {
      "text/html": [
       "<div>\n",
       "<style scoped>\n",
       "    .dataframe tbody tr th:only-of-type {\n",
       "        vertical-align: middle;\n",
       "    }\n",
       "\n",
       "    .dataframe tbody tr th {\n",
       "        vertical-align: top;\n",
       "    }\n",
       "\n",
       "    .dataframe thead th {\n",
       "        text-align: right;\n",
       "    }\n",
       "</style>\n",
       "<table border=\"1\" class=\"dataframe\">\n",
       "  <thead>\n",
       "    <tr style=\"text-align: right;\">\n",
       "      <th></th>\n",
       "      <th>text</th>\n",
       "      <th>labels</th>\n",
       "    </tr>\n",
       "  </thead>\n",
       "  <tbody>\n",
       "    <tr>\n",
       "      <th>0</th>\n",
       "      <td>Ad sales boost Time Warner profit\\r\\n\\r\\nQuart...</td>\n",
       "      <td>business</td>\n",
       "    </tr>\n",
       "    <tr>\n",
       "      <th>1</th>\n",
       "      <td>Dollar gains on Greenspan speech\\r\\n\\r\\nThe do...</td>\n",
       "      <td>business</td>\n",
       "    </tr>\n",
       "    <tr>\n",
       "      <th>2</th>\n",
       "      <td>Yukos unit buyer faces loan claim\\r\\n\\r\\nThe o...</td>\n",
       "      <td>business</td>\n",
       "    </tr>\n",
       "    <tr>\n",
       "      <th>3</th>\n",
       "      <td>High fuel prices hit BA's profits\\r\\n\\r\\nBriti...</td>\n",
       "      <td>business</td>\n",
       "    </tr>\n",
       "    <tr>\n",
       "      <th>4</th>\n",
       "      <td>Pernod takeover talk lifts Domecq\\r\\n\\r\\nShare...</td>\n",
       "      <td>business</td>\n",
       "    </tr>\n",
       "  </tbody>\n",
       "</table>\n",
       "</div>"
      ],
      "text/plain": [
       "                                                text    labels\n",
       "0  Ad sales boost Time Warner profit\\r\\n\\r\\nQuart...  business\n",
       "1  Dollar gains on Greenspan speech\\r\\n\\r\\nThe do...  business\n",
       "2  Yukos unit buyer faces loan claim\\r\\n\\r\\nThe o...  business\n",
       "3  High fuel prices hit BA's profits\\r\\n\\r\\nBriti...  business\n",
       "4  Pernod takeover talk lifts Domecq\\r\\n\\r\\nShare...  business"
      ]
     },
     "execution_count": 2,
     "metadata": {},
     "output_type": "execute_result"
    }
   ],
   "source": [
    "df = pd.read_csv(r'C:\\Users\\lmbmo\\Documents\\Personal\\Tutorials and courses\\Machine-Learning\\dataset\\bbc_text_cls.csv')\n",
    "df.head()"
   ]
  },
  {
   "cell_type": "code",
   "execution_count": 7,
   "metadata": {},
   "outputs": [],
   "source": [
    "# mapping classes from 0 to K-1\n",
    "df['targets'] = df['labels'].astype('category').cat.codes"
   ]
  },
  {
   "cell_type": "code",
   "execution_count": 9,
   "metadata": {},
   "outputs": [
    {
     "data": {
      "text/plain": [
       "array([0, 1, 2, 3, 4], dtype=int8)"
      ]
     },
     "execution_count": 9,
     "metadata": {},
     "output_type": "execute_result"
    }
   ],
   "source": [
    "df['targets'].unique()"
   ]
  },
  {
   "cell_type": "code",
   "execution_count": 11,
   "metadata": {},
   "outputs": [],
   "source": [
    "df_train, df_test = train_test_split(df, test_size = 0.25)"
   ]
  },
  {
   "cell_type": "code",
   "execution_count": 14,
   "metadata": {},
   "outputs": [],
   "source": [
    "tfidf = TfidfVectorizer(stop_words='english')\n",
    "X_train = tfidf.fit_transform(df_train['text'])\n",
    "X_test = tfidf.transform(df_test['text'])"
   ]
  },
  {
   "cell_type": "code",
   "execution_count": 15,
   "metadata": {},
   "outputs": [],
   "source": [
    "Y_train = df_train['targets']\n",
    "Y_test = df_test['targets']"
   ]
  },
  {
   "cell_type": "code",
   "execution_count": 16,
   "metadata": {},
   "outputs": [
    {
     "data": {
      "text/plain": [
       "5"
      ]
     },
     "execution_count": 16,
     "metadata": {},
     "output_type": "execute_result"
    }
   ],
   "source": [
    "# number of classes\n",
    "K =  df['targets'].max() + 1\n",
    "K"
   ]
  },
  {
   "cell_type": "code",
   "execution_count": 18,
   "metadata": {},
   "outputs": [],
   "source": [
    "# input dimensions\n",
    "D = X_train.shape[1]"
   ]
  },
  {
   "cell_type": "code",
   "execution_count": 19,
   "metadata": {},
   "outputs": [],
   "source": [
    "# build model\n",
    "i = Input(shape=(D,))\n",
    "x = Dense(300, activation = 'relu')(i)\n",
    "x = Dense(K)(x) #softmax included in loss(Refer to video for details)\n",
    "\n",
    "model = Model(i, x)"
   ]
  },
  {
   "cell_type": "code",
   "execution_count": 20,
   "metadata": {},
   "outputs": [
    {
     "name": "stdout",
     "output_type": "stream",
     "text": [
      "Model: \"model\"\n",
      "_________________________________________________________________\n",
      " Layer (type)                Output Shape              Param #   \n",
      "=================================================================\n",
      " input_1 (InputLayer)        [(None, 25760)]           0         \n",
      "                                                                 \n",
      " dense (Dense)               (None, 300)               7728300   \n",
      "                                                                 \n",
      " dense_1 (Dense)             (None, 5)                 1505      \n",
      "                                                                 \n",
      "=================================================================\n",
      "Total params: 7,729,805\n",
      "Trainable params: 7,729,805\n",
      "Non-trainable params: 0\n",
      "_________________________________________________________________\n"
     ]
    }
   ],
   "source": [
    "model.summary()"
   ]
  },
  {
   "cell_type": "code",
   "execution_count": 21,
   "metadata": {},
   "outputs": [],
   "source": [
    "model.compile(\n",
    "    loss = tf.keras.losses.SparseCategoricalCrossentropy(from_logits=True),\n",
    "    optimizer = 'adam',\n",
    "    metrics = ['accuracy']\n",
    ")"
   ]
  },
  {
   "cell_type": "code",
   "execution_count": 22,
   "metadata": {},
   "outputs": [],
   "source": [
    "#data must not be sparse matrix before passing into tensorflow\n",
    "X_train = X_train.toarray()\n",
    "X_test = X_test.toarray()"
   ]
  },
  {
   "cell_type": "code",
   "execution_count": 24,
   "metadata": {},
   "outputs": [
    {
     "name": "stdout",
     "output_type": "stream",
     "text": [
      "Epoch 1/20\n",
      "14/14 [==============================] - 3s 129ms/step - loss: 1.4473 - accuracy: 0.8807 - val_loss: 1.1404 - val_accuracy: 0.9785\n",
      "Epoch 2/20\n",
      "14/14 [==============================] - 1s 100ms/step - loss: 0.8627 - accuracy: 0.9934 - val_loss: 0.6562 - val_accuracy: 0.9803\n",
      "Epoch 3/20\n",
      "14/14 [==============================] - 2s 108ms/step - loss: 0.4039 - accuracy: 0.9970 - val_loss: 0.3619 - val_accuracy: 0.9803\n",
      "Epoch 4/20\n",
      "14/14 [==============================] - 2s 112ms/step - loss: 0.1766 - accuracy: 0.9988 - val_loss: 0.2307 - val_accuracy: 0.9803\n",
      "Epoch 5/20\n",
      "14/14 [==============================] - 1s 107ms/step - loss: 0.0872 - accuracy: 0.9994 - val_loss: 0.1725 - val_accuracy: 0.9803\n",
      "Epoch 6/20\n",
      "14/14 [==============================] - 1s 106ms/step - loss: 0.0506 - accuracy: 1.0000 - val_loss: 0.1433 - val_accuracy: 0.9838\n",
      "Epoch 7/20\n",
      "14/14 [==============================] - 1s 107ms/step - loss: 0.0337 - accuracy: 1.0000 - val_loss: 0.1267 - val_accuracy: 0.9838\n",
      "Epoch 8/20\n",
      "14/14 [==============================] - 2s 110ms/step - loss: 0.0246 - accuracy: 1.0000 - val_loss: 0.1162 - val_accuracy: 0.9838\n",
      "Epoch 9/20\n",
      "14/14 [==============================] - 2s 110ms/step - loss: 0.0190 - accuracy: 1.0000 - val_loss: 0.1087 - val_accuracy: 0.9838\n",
      "Epoch 10/20\n",
      "14/14 [==============================] - 2s 110ms/step - loss: 0.0153 - accuracy: 1.0000 - val_loss: 0.1034 - val_accuracy: 0.9838\n",
      "Epoch 11/20\n",
      "14/14 [==============================] - 1s 107ms/step - loss: 0.0125 - accuracy: 1.0000 - val_loss: 0.0985 - val_accuracy: 0.9838\n",
      "Epoch 12/20\n",
      "14/14 [==============================] - 2s 111ms/step - loss: 0.0105 - accuracy: 1.0000 - val_loss: 0.0948 - val_accuracy: 0.9838\n",
      "Epoch 13/20\n",
      "14/14 [==============================] - 2s 110ms/step - loss: 0.0090 - accuracy: 1.0000 - val_loss: 0.0918 - val_accuracy: 0.9838\n",
      "Epoch 14/20\n",
      "14/14 [==============================] - 2s 112ms/step - loss: 0.0078 - accuracy: 1.0000 - val_loss: 0.0893 - val_accuracy: 0.9838\n",
      "Epoch 15/20\n",
      "14/14 [==============================] - 2s 112ms/step - loss: 0.0069 - accuracy: 1.0000 - val_loss: 0.0870 - val_accuracy: 0.9838\n",
      "Epoch 16/20\n",
      "14/14 [==============================] - 2s 112ms/step - loss: 0.0061 - accuracy: 1.0000 - val_loss: 0.0851 - val_accuracy: 0.9838\n",
      "Epoch 17/20\n",
      "14/14 [==============================] - 2s 112ms/step - loss: 0.0054 - accuracy: 1.0000 - val_loss: 0.0834 - val_accuracy: 0.9838\n",
      "Epoch 18/20\n",
      "14/14 [==============================] - 2s 112ms/step - loss: 0.0049 - accuracy: 1.0000 - val_loss: 0.0821 - val_accuracy: 0.9838\n",
      "Epoch 19/20\n",
      "14/14 [==============================] - 2s 108ms/step - loss: 0.0044 - accuracy: 1.0000 - val_loss: 0.0809 - val_accuracy: 0.9838\n",
      "Epoch 20/20\n",
      "14/14 [==============================] - 2s 110ms/step - loss: 0.0040 - accuracy: 1.0000 - val_loss: 0.0797 - val_accuracy: 0.9838\n"
     ]
    }
   ],
   "source": [
    "r =  model.fit(\n",
    "    X_train, Y_train,\n",
    "    validation_data = (X_test, Y_test),\n",
    "    epochs = 20,\n",
    "    batch_size = 128,\n",
    ")"
   ]
  },
  {
   "cell_type": "code",
   "execution_count": 25,
   "metadata": {},
   "outputs": [
    {
     "data": {
      "image/png": "[encoded data removed]",
      "text/plain": [
       "<Figure size 640x480 with 1 Axes>"
      ]
     },
     "metadata": {},
     "output_type": "display_data"
    }
   ],
   "source": [
    "# plotting loss per iteration\n",
    "plt.plot(r.history['loss'], label = 'train_loss')\n",
    "plt.plot(r.history['val_loss'], label = 'val_loss')\n",
    "plt.legend();"
   ]
  },
  {
   "cell_type": "code",
   "execution_count": 26,
   "metadata": {},
   "outputs": [
    {
     "data": {
      "image/png": "[encoded data removed]",
      "text/plain": [
       "<Figure size 640x480 with 1 Axes>"
      ]
     },
     "metadata": {},
     "output_type": "display_data"
    }
   ],
   "source": [
    "# plotting accuracy per iteration\n",
    "plt.plot(r.history['accuracy'], label = 'train acc')\n",
    "plt.plot(r.history['val_accuracy'], label = 'val acc')\n",
    "plt.legend();"
   ]
  },
  {
   "cell_type": "code",
   "execution_count": 27,
   "metadata": {},
   "outputs": [
    {
     "data": {
      "image/png": "[encoded data removed]",
      "text/plain": [
       "<Figure size 640x480 with 1 Axes>"
      ]
     },
     "metadata": {},
     "output_type": "display_data"
    }
   ],
   "source": [
    "df['labels'].hist();"
   ]
  }
 ],
 "metadata": {
  "kernelspec": {
   "display_name": "Python 3",
   "language": "python",
   "name": "python3"
  },
  "language_info": {
   "codemirror_mode": {
    "name": "ipython",
    "version": 3
   },
   "file_extension": ".py",
   "mimetype": "text/x-python",
   "name": "python",
   "nbconvert_exporter": "python",
   "pygments_lexer": "ipython3",
   "version": "3.10.7"
  },
  "orig_nbformat": 4
 },
 "nbformat": 4,
 "nbformat_minor": 2
}
